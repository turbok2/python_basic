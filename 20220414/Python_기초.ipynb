{
 "cells": [
  {
   "cell_type": "markdown",
   "metadata": {},
   "source": [
    "# Python 기초  "
   ]
  },
  {
   "cell_type": "markdown",
   "metadata": {},
   "source": [
    "[구글 코랩에서 열기](https://colab.research.google.com/github/turbok2/python_basic/blob/main/20220414/Python_%EA%B8%B0%EC%B4%88.ipynb)   2022.4.14"
   ]
  },
  {
   "cell_type": "markdown",
   "metadata": {},
   "source": [
    "Summary\n",
    "* Data Types (자료형) - String, Number(Integer, ...), Elements(List, Set, Dict, Tuple), Boolean\n",
    "* Conditional Statement (조건문) - if, elef, else\n",
    "* Loops (반복문) - for, (range, list, dict(dict.items()))\n",
    "* Function (함수) - def, return\n",
    "* String - split, join, replace\n",
    "* File I/O - open, read, write"
   ]
  },
  {
   "cell_type": "markdown",
   "metadata": {},
   "source": [
    "## Data Types "
   ]
  },
  {
   "cell_type": "markdown",
   "metadata": {},
   "source": [
    "### 숫자 "
   ]
  },
  {
   "cell_type": "code",
   "execution_count": 3,
   "metadata": {
    "ExecuteTime": {
     "end_time": "2022-02-16T10:21:38.871697Z",
     "start_time": "2022-02-16T10:21:38.861729Z"
    }
   },
   "outputs": [
    {
     "name": "stdout",
     "output_type": "stream",
     "text": [
      "2000\n",
      "1000.0\n",
      "-100\n",
      "20000\n",
      "0.5\n",
      "12\n"
     ]
    }
   ],
   "source": [
    "print(2000)\n",
    "print(1000.0)\n",
    "print(100 - 200)\n",
    "print(100 * 200)\n",
    "print(100 / 200)\n",
    "print(12)"
   ]
  },
  {
   "cell_type": "code",
   "execution_count": 2,
   "metadata": {
    "ExecuteTime": {
     "end_time": "2022-04-12T07:40:01.237827Z",
     "start_time": "2022-04-12T07:40:01.231689Z"
    }
   },
   "outputs": [
    {
     "name": "stdout",
     "output_type": "stream",
     "text": [
      "6367237\n"
     ]
    }
   ],
   "source": [
    "print(6367237)"
   ]
  },
  {
   "cell_type": "markdown",
   "metadata": {},
   "source": [
    "type : 자료형을 알려주는 함수"
   ]
  },
  {
   "cell_type": "code",
   "execution_count": 5,
   "metadata": {
    "ExecuteTime": {
     "end_time": "2022-02-16T10:22:23.709502Z",
     "start_time": "2022-02-16T10:22:23.666606Z"
    }
   },
   "outputs": [
    {
     "data": {
      "text/plain": [
       "int"
      ]
     },
     "execution_count": 5,
     "metadata": {},
     "output_type": "execute_result"
    }
   ],
   "source": [
    "b=1\n",
    "type(b)"
   ]
  },
  {
   "cell_type": "code",
   "execution_count": 6,
   "metadata": {
    "ExecuteTime": {
     "end_time": "2022-02-16T10:22:34.379893Z",
     "start_time": "2022-02-16T10:22:34.373911Z"
    }
   },
   "outputs": [
    {
     "data": {
      "text/plain": [
       "float"
      ]
     },
     "execution_count": 6,
     "metadata": {},
     "output_type": "execute_result"
    }
   ],
   "source": [
    "c=1.0\n",
    "type(c)"
   ]
  },
  {
   "cell_type": "markdown",
   "metadata": {},
   "source": [
    "### 문자 "
   ]
  },
  {
   "cell_type": "code",
   "execution_count": 4,
   "metadata": {
    "ExecuteTime": {
     "end_time": "2022-04-12T07:40:30.185714Z",
     "start_time": "2022-04-12T07:40:30.178732Z"
    }
   },
   "outputs": [
    {
     "name": "stdout",
     "output_type": "stream",
     "text": [
      "홍길동\n",
      "홍길동\n"
     ]
    }
   ],
   "source": [
    "a=\"홍길동\"\n",
    "print(a)\n",
    "print(a)"
   ]
  },
  {
   "cell_type": "markdown",
   "metadata": {},
   "source": [
    "문자형은 + 연산을 하면 자동으로 문자열로 인식하고 뎃셈이 아닌 이어붙이기를 한다."
   ]
  },
  {
   "cell_type": "code",
   "execution_count": 8,
   "metadata": {
    "ExecuteTime": {
     "end_time": "2022-02-16T10:23:11.146930Z",
     "start_time": "2022-02-16T10:23:11.140947Z"
    }
   },
   "outputs": [
    {
     "data": {
      "text/plain": [
       "'홍길동 데이터분석가'"
      ]
     },
     "execution_count": 8,
     "metadata": {},
     "output_type": "execute_result"
    }
   ],
   "source": [
    "'홍길동' + ' ' +  '데이터분석가'"
   ]
  },
  {
   "cell_type": "code",
   "execution_count": 9,
   "metadata": {
    "ExecuteTime": {
     "end_time": "2022-02-16T10:23:34.488857Z",
     "start_time": "2022-02-16T10:23:34.480845Z"
    }
   },
   "outputs": [
    {
     "data": {
      "text/plain": [
       "'홍길동_데이터분석가'"
      ]
     },
     "execution_count": 9,
     "metadata": {},
     "output_type": "execute_result"
    }
   ],
   "source": [
    "name = '홍길동'\n",
    "job = '데이터분석가'\n",
    "name + '_'+ job"
   ]
  },
  {
   "cell_type": "code",
   "execution_count": 10,
   "metadata": {
    "ExecuteTime": {
     "end_time": "2022-02-16T10:23:48.284026Z",
     "start_time": "2022-02-16T10:23:48.275375Z"
    }
   },
   "outputs": [
    {
     "data": {
      "text/plain": [
       "str"
      ]
     },
     "execution_count": 10,
     "metadata": {},
     "output_type": "execute_result"
    }
   ],
   "source": [
    "type(name)"
   ]
  },
  {
   "cell_type": "code",
   "execution_count": 11,
   "metadata": {
    "ExecuteTime": {
     "end_time": "2022-02-16T10:24:08.424257Z",
     "start_time": "2022-02-16T10:24:08.417277Z"
    }
   },
   "outputs": [
    {
     "name": "stdout",
     "output_type": "stream",
     "text": [
      "My age is  21\n"
     ]
    }
   ],
   "source": [
    "age=21\n",
    "print('My age is ',age)"
   ]
  },
  {
   "cell_type": "code",
   "execution_count": 13,
   "metadata": {
    "ExecuteTime": {
     "end_time": "2022-02-16T10:25:20.891379Z",
     "start_time": "2022-02-16T10:25:20.885403Z"
    }
   },
   "outputs": [
    {
     "name": "stdout",
     "output_type": "stream",
     "text": [
      "My age is 21\n"
     ]
    }
   ],
   "source": [
    "# print('My age is '+age)  #에러 발생 => 문자와 숫자를 +연산자로 합칠 때는 에러, 한 가지 자료형으로 변환해줘야 함.\n",
    "print('My age is '+str(age)) #이게 진짜"
   ]
  },
  {
   "cell_type": "markdown",
   "metadata": {
    "ExecuteTime": {
     "end_time": "2022-02-16T01:38:31.571115Z",
     "start_time": "2022-02-16T01:38:31.567125Z"
    }
   },
   "source": [
    "#### Quiz1) 변수를 이용하여 다음 문장을 출력하시오.  \n",
    "  변수명 : department  \n",
    "  변수값 : \"핵의학과\", \"순환기내과\",\"외상외과\"  \n",
    "  출력문장 : XX 에 오신 것을 환영합니다.  "
   ]
  },
  {
   "cell_type": "code",
   "execution_count": 16,
   "metadata": {
    "ExecuteTime": {
     "end_time": "2022-02-16T10:35:14.005880Z",
     "start_time": "2022-02-16T10:35:13.999965Z"
    }
   },
   "outputs": [
    {
     "name": "stdout",
     "output_type": "stream",
     "text": [
      "핵의학과에 오신 것을 환영합니다.\n",
      "순환기내과에 오신 것을 환영합니다.\n",
      "외상외과에 오신 것을 환영합니다.\n"
     ]
    }
   ],
   "source": []
  },
  {
   "cell_type": "markdown",
   "metadata": {},
   "source": [
    "### List\n",
    "1. 여러 Elements 들을 저장하고 있는 자료형 (Element 하나하나는 어떤 자료형 상관 X)\n",
    "2. 중복이 가능, 순서가 있음"
   ]
  },
  {
   "cell_type": "code",
   "execution_count": 17,
   "metadata": {
    "ExecuteTime": {
     "end_time": "2022-02-16T10:36:17.210490Z",
     "start_time": "2022-02-16T10:36:17.203881Z"
    }
   },
   "outputs": [],
   "source": [
    "animals = ['개', '고양이', '원숭이', '사자']   # list 생성 []를 이용"
   ]
  },
  {
   "cell_type": "code",
   "execution_count": 18,
   "metadata": {
    "ExecuteTime": {
     "end_time": "2022-02-16T10:36:19.994435Z",
     "start_time": "2022-02-16T10:36:19.985506Z"
    }
   },
   "outputs": [
    {
     "data": {
      "text/plain": [
       "'개'"
      ]
     },
     "execution_count": 18,
     "metadata": {},
     "output_type": "execute_result"
    }
   ],
   "source": [
    "animals[0]"
   ]
  },
  {
   "cell_type": "code",
   "execution_count": 19,
   "metadata": {
    "ExecuteTime": {
     "end_time": "2022-02-16T10:36:40.587132Z",
     "start_time": "2022-02-16T10:36:40.579101Z"
    }
   },
   "outputs": [
    {
     "data": {
      "text/plain": [
       "'사자'"
      ]
     },
     "execution_count": 19,
     "metadata": {},
     "output_type": "execute_result"
    }
   ],
   "source": [
    "animals[-1]"
   ]
  },
  {
   "cell_type": "code",
   "execution_count": 20,
   "metadata": {
    "ExecuteTime": {
     "end_time": "2022-02-16T10:37:01.821888Z",
     "start_time": "2022-02-16T10:37:01.815730Z"
    }
   },
   "outputs": [
    {
     "data": {
      "text/plain": [
       "['고양이', '원숭이', '사자']"
      ]
     },
     "execution_count": 20,
     "metadata": {},
     "output_type": "execute_result"
    }
   ],
   "source": [
    "# M:N => M ~ N-1 index elements => list\n",
    "# M:N => M ~ N-1 번째 요소를 가져온다.\n",
    "# 파이썬 리스트는 0부터 시작한다.\n",
    "animals[1:4]"
   ]
  },
  {
   "cell_type": "code",
   "execution_count": 21,
   "metadata": {
    "ExecuteTime": {
     "end_time": "2022-02-16T10:38:07.273888Z",
     "start_time": "2022-02-16T10:38:07.264069Z"
    }
   },
   "outputs": [
    {
     "data": {
      "text/plain": [
       "['고양이', '원숭이']"
      ]
     },
     "execution_count": 21,
     "metadata": {},
     "output_type": "execute_result"
    }
   ],
   "source": [
    "# M:N => M ~ N-1 index elements => list\n",
    "#            0       1        2        3\n",
    "animals = ['개', '고양이', '원숭이', '사자']\n",
    "animals[1:3]  # 1번쨰부터 2번째까지(N-1, 3-1)"
   ]
  },
  {
   "cell_type": "code",
   "execution_count": 49,
   "metadata": {
    "ExecuteTime": {
     "end_time": "2022-02-16T02:13:45.429368Z",
     "start_time": "2022-02-16T02:13:45.422386Z"
    }
   },
   "outputs": [
    {
     "data": {
      "text/plain": [
       "['고양이', '원숭이', '사자']"
      ]
     },
     "execution_count": 49,
     "metadata": {},
     "output_type": "execute_result"
    }
   ],
   "source": [
    "animals[1:]  #1번째부터 끝까지"
   ]
  },
  {
   "cell_type": "code",
   "execution_count": 50,
   "metadata": {
    "ExecuteTime": {
     "end_time": "2022-02-16T02:13:54.727633Z",
     "start_time": "2022-02-16T02:13:54.720673Z"
    }
   },
   "outputs": [
    {
     "data": {
      "text/plain": [
       "['개', '고양이', '원숭이']"
      ]
     },
     "execution_count": 50,
     "metadata": {},
     "output_type": "execute_result"
    }
   ],
   "source": [
    "animals[:-1] # 처음부터 시작하여, 끝에서 1개는 빼고"
   ]
  },
  {
   "cell_type": "code",
   "execution_count": 51,
   "metadata": {
    "ExecuteTime": {
     "end_time": "2022-02-16T02:13:55.712093Z",
     "start_time": "2022-02-16T02:13:55.706102Z"
    }
   },
   "outputs": [
    {
     "data": {
      "text/plain": [
       "['개', '고양이']"
      ]
     },
     "execution_count": 51,
     "metadata": {},
     "output_type": "execute_result"
    }
   ],
   "source": [
    "animals[:-2] # 처음부터 시작하여, 끝에서 2개는 빼고"
   ]
  },
  {
   "cell_type": "code",
   "execution_count": 22,
   "metadata": {
    "ExecuteTime": {
     "end_time": "2022-02-16T10:39:10.224773Z",
     "start_time": "2022-02-16T10:39:10.217727Z"
    }
   },
   "outputs": [
    {
     "name": "stdout",
     "output_type": "stream",
     "text": [
      "['개', '고양이', '원숭이', '사자']\n",
      "['개', '고양이', '원숭이', '사자']\n"
     ]
    }
   ],
   "source": [
    "print(animals[:]) #모든 요소\n",
    "print(animals)"
   ]
  },
  {
   "cell_type": "code",
   "execution_count": 53,
   "metadata": {
    "ExecuteTime": {
     "end_time": "2022-02-16T02:14:17.466195Z",
     "start_time": "2022-02-16T02:14:17.461241Z"
    }
   },
   "outputs": [
    {
     "name": "stdout",
     "output_type": "stream",
     "text": [
      "['개', '원숭이']\n",
      "['사자', '원숭이', '고양이', '개']\n"
     ]
    }
   ],
   "source": [
    "print(animals[::2]) #처음부터 끝까지, 2간씩 띄어서\n",
    "print(animals[::-1]) # 처음부터 끝까지, 1간씩 띄어서, -니까 뒤집어서  => 역순으로 정리"
   ]
  },
  {
   "cell_type": "code",
   "execution_count": 53,
   "metadata": {
    "ExecuteTime": {
     "end_time": "2022-02-03T00:34:26.146279Z",
     "start_time": "2022-02-03T00:34:26.136307Z"
    }
   },
   "outputs": [
    {
     "name": "stdout",
     "output_type": "stream",
     "text": [
      "['개', '고양이', '원숭이', '사자']\n",
      "['개', '고양이']\n",
      "-----------------\n",
      "['개']\n",
      "['고양이', '개']\n",
      "['원숭이', '고양이', '개']\n",
      "['사자', '원숭이', '고양이', '개']\n",
      "-----------------\n",
      "['사자', '원숭이', '고양이']\n",
      "['사자', '원숭이']\n",
      "['사자']\n",
      "[]\n"
     ]
    }
   ],
   "source": [
    "print(animals[::1])\n",
    "print(animals[:2:1])\n",
    "print('-----------------')\n",
    "print(animals[0::-1]) #-1 간격이므로, start, end가 뒤집어짐, 처음부터, start 0이면 뒤에서 0번째 까지,  뒤로 정렬\n",
    "print(animals[1::-1]) # 처음부터, start 1이면 뒤에서 1번째 까지,  뒤로 정렬\n",
    "print(animals[2::-1]) # 처음부터, start 2이면 뒤에서 2번째 까지,  뒤로 정렬\n",
    "print(animals[3::-1]) # 처음부터, start 3이면 뒤에서 3번째 까지,  뒤로 정렬\n",
    "print('-----------------')\n",
    "print(animals[:0:-1]) #-1 간격이므로, start, end가 뒤집어짐, end가 0이면 앞에서 0번째 다음부터, 끝까지, 뒤로 정렬\n",
    "print(animals[:1:-1]) # end가 0이면 앞에서 1번째 다음부터, 끝까지, 뒤로 정렬\n",
    "print(animals[:2:-1]) # end가 0이면 앞에서 2번째 다음부터, 끝까지, 뒤로 정렬\n",
    "print(animals[:3:-1]) # end가 0이면 앞에서 3번째 다음부터, 끝까지, 뒤로 정렬"
   ]
  },
  {
   "cell_type": "code",
   "execution_count": 25,
   "metadata": {
    "ExecuteTime": {
     "end_time": "2022-02-16T10:41:07.415785Z",
     "start_time": "2022-02-16T10:41:07.407727Z"
    }
   },
   "outputs": [
    {
     "data": {
      "text/plain": [
       "['dog', 'dog', 'dog', 'cat']"
      ]
     },
     "execution_count": 25,
     "metadata": {},
     "output_type": "execute_result"
    }
   ],
   "source": [
    "a=['dog', 'dog', 'dog', 'cat']\n",
    "a"
   ]
  },
  {
   "cell_type": "code",
   "execution_count": 26,
   "metadata": {
    "ExecuteTime": {
     "end_time": "2022-02-16T10:41:24.118829Z",
     "start_time": "2022-02-16T10:41:24.111836Z"
    }
   },
   "outputs": [
    {
     "data": {
      "text/plain": [
       "[['dog1', 'dog2', ' dog3']]"
      ]
     },
     "execution_count": 26,
     "metadata": {},
     "output_type": "execute_result"
    }
   ],
   "source": [
    "b= [['dog1', 'dog2',' dog3']] #리스트 안에 리스트도 가능\n",
    "b"
   ]
  },
  {
   "cell_type": "markdown",
   "metadata": {},
   "source": [
    "len : 요소들의 갯수를 알려주는 함수"
   ]
  },
  {
   "cell_type": "code",
   "execution_count": 27,
   "metadata": {
    "ExecuteTime": {
     "end_time": "2022-02-16T10:42:35.883320Z",
     "start_time": "2022-02-16T10:42:35.876306Z"
    }
   },
   "outputs": [
    {
     "name": "stdout",
     "output_type": "stream",
     "text": [
      "4\n",
      "1\n",
      "3\n"
     ]
    }
   ],
   "source": [
    "print(len(a))  #요소가 4개\n",
    "print(len(b))  #요소가 1개, 단 depth 1의 요소 수만 알려줌\n",
    "print(len(b[0])) #요소가 3개, 단 depth 2의 요소 수"
   ]
  },
  {
   "cell_type": "code",
   "execution_count": 28,
   "metadata": {
    "ExecuteTime": {
     "end_time": "2022-02-16T10:43:00.614315Z",
     "start_time": "2022-02-16T10:43:00.605774Z"
    }
   },
   "outputs": [
    {
     "name": "stdout",
     "output_type": "stream",
     "text": [
      "<class 'list'>\n",
      "2\n",
      "3\n"
     ]
    },
    {
     "data": {
      "text/plain": [
       "[['dog1', 'dog2', 'dog3'], ['cat1', 'cat2', 'cat3']]"
      ]
     },
     "execution_count": 28,
     "metadata": {},
     "output_type": "execute_result"
    }
   ],
   "source": [
    "data = [\n",
    "    ['dog1', 'dog2', 'dog3'],\n",
    "    ['cat1', 'cat2', 'cat3']\n",
    "    \n",
    "]\n",
    "print(type(data))\n",
    "print(len(data))\n",
    "print(len(data[0]))\n",
    "data"
   ]
  },
  {
   "cell_type": "code",
   "execution_count": 29,
   "metadata": {
    "ExecuteTime": {
     "end_time": "2022-02-16T10:43:08.408353Z",
     "start_time": "2022-02-16T10:43:08.400375Z"
    }
   },
   "outputs": [
    {
     "data": {
      "text/plain": [
       "['dog1', 'dog2', 'dog3']"
      ]
     },
     "execution_count": 29,
     "metadata": {},
     "output_type": "execute_result"
    }
   ],
   "source": [
    "data[0]"
   ]
  },
  {
   "cell_type": "code",
   "execution_count": 40,
   "metadata": {
    "ExecuteTime": {
     "end_time": "2022-01-26T02:46:15.631585Z",
     "start_time": "2022-01-26T02:46:15.624615Z"
    }
   },
   "outputs": [
    {
     "data": {
      "text/plain": [
       "['cat1', 'cat2', 'cat3']"
      ]
     },
     "execution_count": 40,
     "metadata": {},
     "output_type": "execute_result"
    }
   ],
   "source": [
    "data[1]"
   ]
  },
  {
   "cell_type": "code",
   "execution_count": 38,
   "metadata": {
    "ExecuteTime": {
     "end_time": "2022-01-26T02:46:15.197216Z",
     "start_time": "2022-01-26T02:46:15.190236Z"
    }
   },
   "outputs": [
    {
     "data": {
      "text/plain": [
       "'dog3'"
      ]
     },
     "execution_count": 38,
     "metadata": {},
     "output_type": "execute_result"
    }
   ],
   "source": [
    "data[0][-1]"
   ]
  },
  {
   "cell_type": "code",
   "execution_count": 30,
   "metadata": {
    "ExecuteTime": {
     "end_time": "2022-02-16T10:44:10.196260Z",
     "start_time": "2022-02-16T10:44:10.188243Z"
    }
   },
   "outputs": [
    {
     "data": {
      "text/plain": [
       "[123, '홍길동', [1, 2, 3, 4]]"
      ]
     },
     "execution_count": 30,
     "metadata": {},
     "output_type": "execute_result"
    }
   ],
   "source": [
    "# list 안에 여러 자료형이 있을 수 있음\n",
    "[\n",
    "    123, '홍길동', [1, 2, 3, 4]\n",
    "]"
   ]
  },
  {
   "cell_type": "code",
   "execution_count": 31,
   "metadata": {
    "ExecuteTime": {
     "end_time": "2022-02-16T10:44:18.692072Z",
     "start_time": "2022-02-16T10:44:18.687399Z"
    }
   },
   "outputs": [],
   "source": [
    "# list에 새로운 data를 추가할 때, append\n",
    "animals = ['dog', 'dog', 'dog', 'cat']"
   ]
  },
  {
   "cell_type": "code",
   "execution_count": 32,
   "metadata": {
    "ExecuteTime": {
     "end_time": "2022-02-16T10:44:28.413255Z",
     "start_time": "2022-02-16T10:44:28.407307Z"
    }
   },
   "outputs": [
    {
     "data": {
      "text/plain": [
       "['dog', 'dog', 'dog', 'cat', 'duck']"
      ]
     },
     "execution_count": 32,
     "metadata": {},
     "output_type": "execute_result"
    }
   ],
   "source": [
    "animals.append('duck')\n",
    "animals"
   ]
  },
  {
   "cell_type": "markdown",
   "metadata": {
    "ExecuteTime": {
     "end_time": "2022-02-16T01:41:24.680282Z",
     "start_time": "2022-02-16T01:41:24.674296Z"
    }
   },
   "source": [
    "#### Quiz2) list를 이용하여 다음 문장을 출력하시오.¶  \n",
    "변수명 : department  \n",
    "변수값 : \"핵의학과\", \"순환기내과\",\"외상외과\"  \n",
    "출력문장 : XX 에 오신 것을 환영합니다.  "
   ]
  },
  {
   "cell_type": "code",
   "execution_count": 36,
   "metadata": {
    "ExecuteTime": {
     "end_time": "2022-02-16T10:53:40.934609Z",
     "start_time": "2022-02-16T10:53:40.928506Z"
    }
   },
   "outputs": [
    {
     "name": "stdout",
     "output_type": "stream",
     "text": [
      "핵의학과에 오신 것을 환영합니다.\n",
      "순환기내과에 오신 것을 환영합니다.\n",
      "외상외과에 오신 것을 환영합니다.\n"
     ]
    }
   ],
   "source": []
  },
  {
   "cell_type": "markdown",
   "metadata": {},
   "source": [
    "### Set\n",
    "1. 여러 Elements 들을 저장하고 있는 자료형\n",
    "2. 중복 X, 순서 X"
   ]
  },
  {
   "cell_type": "code",
   "execution_count": 37,
   "metadata": {
    "ExecuteTime": {
     "end_time": "2022-02-16T10:54:09.026076Z",
     "start_time": "2022-02-16T10:54:09.018100Z"
    }
   },
   "outputs": [
    {
     "name": "stdout",
     "output_type": "stream",
     "text": [
      "['dog', 'dog', 'dog', 'cat'] <class 'list'>\n"
     ]
    }
   ],
   "source": [
    "animals = ['dog', 'dog', 'dog', 'cat']\n",
    "print(animals, type(animals))"
   ]
  },
  {
   "cell_type": "code",
   "execution_count": 38,
   "metadata": {
    "ExecuteTime": {
     "end_time": "2022-02-16T10:54:17.611859Z",
     "start_time": "2022-02-16T10:54:17.605880Z"
    }
   },
   "outputs": [
    {
     "data": {
      "text/plain": [
       "{'cat', 'dog'}"
      ]
     },
     "execution_count": 38,
     "metadata": {},
     "output_type": "execute_result"
    }
   ],
   "source": [
    "set(animals) # 중복 X, 순서 X => lsit를 set으로 변환하면 중복 제거 효과가 있어서 자주 사용됨."
   ]
  },
  {
   "cell_type": "code",
   "execution_count": 39,
   "metadata": {
    "ExecuteTime": {
     "end_time": "2022-02-16T10:54:37.258161Z",
     "start_time": "2022-02-16T10:54:37.250183Z"
    }
   },
   "outputs": [
    {
     "data": {
      "text/plain": [
       "set"
      ]
     },
     "execution_count": 39,
     "metadata": {},
     "output_type": "execute_result"
    }
   ],
   "source": [
    "s = set(animals)\n",
    "type(s)"
   ]
  },
  {
   "cell_type": "code",
   "execution_count": 40,
   "metadata": {
    "ExecuteTime": {
     "end_time": "2022-02-16T10:54:54.135139Z",
     "start_time": "2022-02-16T10:54:54.125664Z"
    }
   },
   "outputs": [
    {
     "name": "stdout",
     "output_type": "stream",
     "text": [
      "<class 'set'>\n"
     ]
    },
    {
     "data": {
      "text/plain": [
       "{1, 2, 3}"
      ]
     },
     "execution_count": 40,
     "metadata": {},
     "output_type": "execute_result"
    }
   ],
   "source": [
    "s2 = {1,2,3}  # set 생성 {} 이용\n",
    "print(type(s2))\n",
    "s2"
   ]
  },
  {
   "cell_type": "markdown",
   "metadata": {},
   "source": [
    "#### example : unique한 alphabet 뽑기"
   ]
  },
  {
   "cell_type": "code",
   "execution_count": 41,
   "metadata": {
    "ExecuteTime": {
     "end_time": "2022-02-16T10:55:20.329117Z",
     "start_time": "2022-02-16T10:55:20.321469Z"
    }
   },
   "outputs": [
    {
     "data": {
      "text/plain": [
       "list"
      ]
     },
     "execution_count": 41,
     "metadata": {},
     "output_type": "execute_result"
    }
   ],
   "source": [
    "my_list = [ 'A', 'A', 'A', 'B', 'C', 'C', 'C', 'D', 'D', 'D']\n",
    "type(my_list)"
   ]
  },
  {
   "cell_type": "code",
   "execution_count": 42,
   "metadata": {
    "ExecuteTime": {
     "end_time": "2022-02-16T10:55:22.003486Z",
     "start_time": "2022-02-16T10:55:21.995617Z"
    }
   },
   "outputs": [
    {
     "data": {
      "text/plain": [
       "{'A', 'B', 'C', 'D'}"
      ]
     },
     "execution_count": 42,
     "metadata": {},
     "output_type": "execute_result"
    }
   ],
   "source": [
    "set(my_list)"
   ]
  },
  {
   "cell_type": "code",
   "execution_count": 43,
   "metadata": {
    "ExecuteTime": {
     "end_time": "2022-02-16T10:56:04.995113Z",
     "start_time": "2022-02-16T10:56:04.988062Z"
    }
   },
   "outputs": [
    {
     "data": {
      "text/plain": [
       "['A', 'B', 'D', 'C']"
      ]
     },
     "execution_count": 43,
     "metadata": {},
     "output_type": "execute_result"
    }
   ],
   "source": [
    "# 중복을 제거하고 다시 list로 변환\n",
    "list(set(my_list))"
   ]
  },
  {
   "cell_type": "markdown",
   "metadata": {},
   "source": [
    "### Dictionary "
   ]
  },
  {
   "cell_type": "code",
   "execution_count": 44,
   "metadata": {
    "ExecuteTime": {
     "end_time": "2022-02-16T10:56:24.972829Z",
     "start_time": "2022-02-16T10:56:24.965849Z"
    }
   },
   "outputs": [
    {
     "name": "stdout",
     "output_type": "stream",
     "text": [
      "{'name': '홍길동', 'birth': 900101, 'job': '데이터분석가', 'email': 'hgd@gmail.com'}\n"
     ]
    }
   ],
   "source": [
    "member = {'name' : '홍길동', \n",
    "          'birth' : 900101, \n",
    "          'job' : '데이터분석가',\n",
    "          'email' : 'hgd@gmail.com'}  # key : value 의 쌍\n",
    "print(member)"
   ]
  },
  {
   "cell_type": "code",
   "execution_count": 45,
   "metadata": {
    "ExecuteTime": {
     "end_time": "2022-02-16T10:56:37.758343Z",
     "start_time": "2022-02-16T10:56:37.751545Z"
    }
   },
   "outputs": [
    {
     "data": {
      "text/plain": [
       "'홍길동'"
      ]
     },
     "execution_count": 45,
     "metadata": {},
     "output_type": "execute_result"
    }
   ],
   "source": [
    "# value를 얻는 방법 , key 값을 이용\n",
    "member['name']"
   ]
  },
  {
   "cell_type": "code",
   "execution_count": 46,
   "metadata": {
    "ExecuteTime": {
     "end_time": "2022-02-16T10:56:40.879765Z",
     "start_time": "2022-02-16T10:56:40.874780Z"
    }
   },
   "outputs": [
    {
     "data": {
      "text/plain": [
       "900101"
      ]
     },
     "execution_count": 46,
     "metadata": {},
     "output_type": "execute_result"
    }
   ],
   "source": [
    "member['birth']"
   ]
  },
  {
   "cell_type": "code",
   "execution_count": 47,
   "metadata": {
    "ExecuteTime": {
     "end_time": "2022-02-16T10:56:42.486620Z",
     "start_time": "2022-02-16T10:56:42.480604Z"
    }
   },
   "outputs": [
    {
     "data": {
      "text/plain": [
       "'데이터분석가'"
      ]
     },
     "execution_count": 47,
     "metadata": {},
     "output_type": "execute_result"
    }
   ],
   "source": [
    "member['job']"
   ]
  },
  {
   "cell_type": "code",
   "execution_count": 48,
   "metadata": {
    "ExecuteTime": {
     "end_time": "2022-02-16T10:56:44.496287Z",
     "start_time": "2022-02-16T10:56:44.487276Z"
    }
   },
   "outputs": [
    {
     "data": {
      "text/plain": [
       "'hgd@gmail.com'"
      ]
     },
     "execution_count": 48,
     "metadata": {},
     "output_type": "execute_result"
    }
   ],
   "source": [
    "member['email']"
   ]
  },
  {
   "cell_type": "code",
   "execution_count": 49,
   "metadata": {
    "ExecuteTime": {
     "end_time": "2022-02-16T10:57:04.283601Z",
     "start_time": "2022-02-16T10:57:04.278630Z"
    }
   },
   "outputs": [],
   "source": [
    "# value를 변경하는 방법\n",
    "member['email']= 'hgd@nate.com'  # 기존 key의 값을 변경\n",
    "member['hobby']= 'dance'         # 새로운 key에 값을 지정"
   ]
  },
  {
   "cell_type": "code",
   "execution_count": 50,
   "metadata": {
    "ExecuteTime": {
     "end_time": "2022-02-16T10:57:04.995680Z",
     "start_time": "2022-02-16T10:57:04.987746Z"
    }
   },
   "outputs": [
    {
     "data": {
      "text/plain": [
       "{'name': '홍길동',\n",
       " 'birth': 900101,\n",
       " 'job': '데이터분석가',\n",
       " 'email': 'hgd@nate.com',\n",
       " 'hobby': 'dance'}"
      ]
     },
     "execution_count": 50,
     "metadata": {},
     "output_type": "execute_result"
    }
   ],
   "source": [
    "member"
   ]
  },
  {
   "cell_type": "code",
   "execution_count": 51,
   "metadata": {
    "ExecuteTime": {
     "end_time": "2022-02-16T10:57:19.415590Z",
     "start_time": "2022-02-16T10:57:19.406597Z"
    }
   },
   "outputs": [
    {
     "data": {
      "text/plain": [
       "dict_keys(['name', 'birth', 'job', 'email', 'hobby'])"
      ]
     },
     "execution_count": 51,
     "metadata": {},
     "output_type": "execute_result"
    }
   ],
   "source": [
    "member.keys()"
   ]
  },
  {
   "cell_type": "code",
   "execution_count": 52,
   "metadata": {
    "ExecuteTime": {
     "end_time": "2022-02-16T10:57:24.392295Z",
     "start_time": "2022-02-16T10:57:24.385315Z"
    }
   },
   "outputs": [
    {
     "data": {
      "text/plain": [
       "dict_items([('name', '홍길동'), ('birth', 900101), ('job', '데이터분석가'), ('email', 'hgd@nate.com'), ('hobby', 'dance')])"
      ]
     },
     "execution_count": 52,
     "metadata": {},
     "output_type": "execute_result"
    }
   ],
   "source": [
    "member.items()"
   ]
  },
  {
   "cell_type": "code",
   "execution_count": 53,
   "metadata": {
    "ExecuteTime": {
     "end_time": "2022-02-16T10:57:28.886603Z",
     "start_time": "2022-02-16T10:57:28.878375Z"
    }
   },
   "outputs": [
    {
     "data": {
      "text/plain": [
       "dict_values(['홍길동', 900101, '데이터분석가', 'hgd@nate.com', 'dance'])"
      ]
     },
     "execution_count": 53,
     "metadata": {},
     "output_type": "execute_result"
    }
   ],
   "source": [
    "member.values()"
   ]
  },
  {
   "cell_type": "code",
   "execution_count": 68,
   "metadata": {
    "ExecuteTime": {
     "end_time": "2022-02-16T02:27:09.993156Z",
     "start_time": "2022-02-16T02:27:09.988167Z"
    }
   },
   "outputs": [],
   "source": [
    "# Dict.get\n",
    "# key로 불러오기보다는 get을 활용하자"
   ]
  },
  {
   "cell_type": "code",
   "execution_count": 54,
   "metadata": {
    "ExecuteTime": {
     "end_time": "2022-02-16T10:57:56.399272Z",
     "start_time": "2022-02-16T10:57:56.394317Z"
    }
   },
   "outputs": [],
   "source": [
    "member = {'name' : '홍길동', 'email' : 'hgd@gmail.com'}"
   ]
  },
  {
   "cell_type": "code",
   "execution_count": 55,
   "metadata": {
    "ExecuteTime": {
     "end_time": "2022-02-16T10:58:00.473617Z",
     "start_time": "2022-02-16T10:58:00.466535Z"
    }
   },
   "outputs": [
    {
     "data": {
      "text/plain": [
       "'홍길동'"
      ]
     },
     "execution_count": 55,
     "metadata": {},
     "output_type": "execute_result"
    }
   ],
   "source": [
    "member['name']"
   ]
  },
  {
   "cell_type": "code",
   "execution_count": 56,
   "metadata": {
    "ExecuteTime": {
     "end_time": "2022-02-16T10:58:02.388382Z",
     "start_time": "2022-02-16T10:58:02.372951Z"
    }
   },
   "outputs": [
    {
     "ename": "KeyError",
     "evalue": "'address'",
     "output_type": "error",
     "traceback": [
      "\u001b[1;31m---------------------------------------------------------------------------\u001b[0m",
      "\u001b[1;31mKeyError\u001b[0m                                  Traceback (most recent call last)",
      "\u001b[1;32m<ipython-input-56-8798a9d37e58>\u001b[0m in \u001b[0;36m<module>\u001b[1;34m\u001b[0m\n\u001b[1;32m----> 1\u001b[1;33m \u001b[0mmember\u001b[0m\u001b[1;33m[\u001b[0m\u001b[1;34m'address'\u001b[0m\u001b[1;33m]\u001b[0m  \u001b[1;31m#'address'라는 key가 없는 경우 에러발생\u001b[0m\u001b[1;33m\u001b[0m\u001b[1;33m\u001b[0m\u001b[0m\n\u001b[0m",
      "\u001b[1;31mKeyError\u001b[0m: 'address'"
     ]
    }
   ],
   "source": [
    "member['address']  #'address'라는 key가 없는 경우 에러발생"
   ]
  },
  {
   "cell_type": "code",
   "execution_count": 57,
   "metadata": {
    "ExecuteTime": {
     "end_time": "2022-02-16T10:58:26.254829Z",
     "start_time": "2022-02-16T10:58:26.248787Z"
    }
   },
   "outputs": [
    {
     "data": {
      "text/plain": [
       "'주소를 찾을 수 없습니다.'"
      ]
     },
     "execution_count": 57,
     "metadata": {},
     "output_type": "execute_result"
    }
   ],
   "source": [
    "member.get('address', '주소를 찾을 수 없습니다.')"
   ]
  },
  {
   "cell_type": "code",
   "execution_count": 58,
   "metadata": {
    "ExecuteTime": {
     "end_time": "2022-02-16T10:58:53.559789Z",
     "start_time": "2022-02-16T10:58:53.552226Z"
    }
   },
   "outputs": [
    {
     "data": {
      "text/plain": [
       "'홍길동'"
      ]
     },
     "execution_count": 58,
     "metadata": {},
     "output_type": "execute_result"
    }
   ],
   "source": [
    "member.get('name', '이름을 찾을 수 없습니다.')"
   ]
  },
  {
   "cell_type": "code",
   "execution_count": 36,
   "metadata": {
    "collapsed": true
   },
   "outputs": [],
   "source": [
    "# 학생 1000명을 for 문 돌다가, address가 있으면 address를 출력하고, 없으면 '주소 없음'이라고 출력한다고 가정해보자."
   ]
  },
  {
   "cell_type": "code",
   "execution_count": 59,
   "metadata": {
    "ExecuteTime": {
     "end_time": "2022-02-16T10:59:23.475423Z",
     "start_time": "2022-02-16T10:59:23.467481Z"
    }
   },
   "outputs": [
    {
     "data": {
      "text/plain": [
       "[{'name': '홍길동', 'hobby': 'dance'}, {'name': '임꺽정'}]"
      ]
     },
     "execution_count": 59,
     "metadata": {},
     "output_type": "execute_result"
    }
   ],
   "source": [
    "member1 = {'name' : '홍길동', 'hobby' : 'dance'}\n",
    "member2 = {'name' : '임꺽정'}\n",
    "members = [member1, member2] #1000명 이라면...\n",
    "members"
   ]
  },
  {
   "cell_type": "code",
   "execution_count": 60,
   "metadata": {
    "ExecuteTime": {
     "end_time": "2022-02-16T10:59:34.364599Z",
     "start_time": "2022-02-16T10:59:34.348380Z"
    },
    "scrolled": true
   },
   "outputs": [
    {
     "name": "stdout",
     "output_type": "stream",
     "text": [
      "이름 홍길동 취미 dance\n"
     ]
    },
    {
     "ename": "KeyError",
     "evalue": "'hobby'",
     "output_type": "error",
     "traceback": [
      "\u001b[1;31m---------------------------------------------------------------------------\u001b[0m",
      "\u001b[1;31mKeyError\u001b[0m                                  Traceback (most recent call last)",
      "\u001b[1;32m<ipython-input-60-33036e45a9ef>\u001b[0m in \u001b[0;36m<module>\u001b[1;34m\u001b[0m\n\u001b[0;32m      1\u001b[0m \u001b[1;32mfor\u001b[0m \u001b[0mmember\u001b[0m \u001b[1;32min\u001b[0m \u001b[0mmembers\u001b[0m\u001b[1;33m:\u001b[0m\u001b[1;33m\u001b[0m\u001b[1;33m\u001b[0m\u001b[0m\n\u001b[1;32m----> 2\u001b[1;33m     \u001b[0mprint\u001b[0m\u001b[1;33m(\u001b[0m\u001b[1;34m'이름 '\u001b[0m \u001b[1;33m+\u001b[0m \u001b[0mmember\u001b[0m\u001b[1;33m[\u001b[0m\u001b[1;34m'name'\u001b[0m\u001b[1;33m]\u001b[0m \u001b[1;33m+\u001b[0m \u001b[1;34m' 취미 '\u001b[0m \u001b[1;33m+\u001b[0m \u001b[0mmember\u001b[0m\u001b[1;33m[\u001b[0m\u001b[1;34m'hobby'\u001b[0m\u001b[1;33m]\u001b[0m\u001b[1;33m)\u001b[0m \u001b[1;31m#member2에 hobby 라는 key 가 없어서 에러 발생함\u001b[0m\u001b[1;33m\u001b[0m\u001b[1;33m\u001b[0m\u001b[0m\n\u001b[0m",
      "\u001b[1;31mKeyError\u001b[0m: 'hobby'"
     ]
    }
   ],
   "source": [
    "for member in members:\n",
    "    print('이름 ' + member['name'] + ' 취미 ' + member['hobby']) #member2에 hobby 라는 key 가 없어서 에러 발생함"
   ]
  },
  {
   "cell_type": "code",
   "execution_count": 61,
   "metadata": {
    "ExecuteTime": {
     "end_time": "2022-02-16T10:59:51.392017Z",
     "start_time": "2022-02-16T10:59:51.383108Z"
    }
   },
   "outputs": [
    {
     "name": "stdout",
     "output_type": "stream",
     "text": [
      "이름 홍길동 취미 dance\n",
      "이름 임꺽정 취미 취미가 없습니다.\n"
     ]
    }
   ],
   "source": [
    "for member in members:\n",
    "    print('이름 ' + member.get('name') + ' 취미 ' + member.get('hobby', '취미가 없습니다.')) #에러 없이 작동"
   ]
  },
  {
   "cell_type": "markdown",
   "metadata": {},
   "source": [
    "### Tuple\n",
    "1. List, Dict, Set => 한번 정의해두고, 그리고 나서 데이터를 수정 가능\n",
    "2. Tuple은 한번 정의해두면 끝, 수정 불가"
   ]
  },
  {
   "cell_type": "code",
   "execution_count": 5,
   "metadata": {
    "ExecuteTime": {
     "end_time": "2022-04-13T02:37:13.984494Z",
     "start_time": "2022-04-13T02:37:13.570596Z"
    }
   },
   "outputs": [
    {
     "name": "stdout",
     "output_type": "stream",
     "text": [
      "(30, 40)\n",
      "<class 'tuple'>\n",
      "30 40\n"
     ]
    },
    {
     "ename": "TypeError",
     "evalue": "'tuple' object does not support item assignment",
     "output_type": "error",
     "traceback": [
      "\u001b[1;31m---------------------------------------------------------------------------\u001b[0m",
      "\u001b[1;31mTypeError\u001b[0m                                 Traceback (most recent call last)",
      "\u001b[1;32m~\\AppData\\Local\\Temp\\ipykernel_36040\\1809263974.py\u001b[0m in \u001b[0;36m<module>\u001b[1;34m\u001b[0m\n\u001b[0;32m      3\u001b[0m \u001b[0mprint\u001b[0m\u001b[1;33m(\u001b[0m\u001b[0mtype\u001b[0m\u001b[1;33m(\u001b[0m\u001b[0ma\u001b[0m\u001b[1;33m)\u001b[0m\u001b[1;33m)\u001b[0m\u001b[1;33m\u001b[0m\u001b[1;33m\u001b[0m\u001b[0m\n\u001b[0;32m      4\u001b[0m \u001b[0mprint\u001b[0m\u001b[1;33m(\u001b[0m\u001b[0ma\u001b[0m\u001b[1;33m[\u001b[0m\u001b[1;36m0\u001b[0m\u001b[1;33m]\u001b[0m\u001b[1;33m,\u001b[0m\u001b[0ma\u001b[0m\u001b[1;33m[\u001b[0m\u001b[1;36m1\u001b[0m\u001b[1;33m]\u001b[0m\u001b[1;33m)\u001b[0m\u001b[1;33m\u001b[0m\u001b[1;33m\u001b[0m\u001b[0m\n\u001b[1;32m----> 5\u001b[1;33m \u001b[0ma\u001b[0m\u001b[1;33m[\u001b[0m\u001b[1;36m0\u001b[0m\u001b[1;33m]\u001b[0m\u001b[1;33m=\u001b[0m\u001b[1;36m100\u001b[0m  \u001b[1;31m# tuple 은 값을 변경할 수 없음\u001b[0m\u001b[1;33m\u001b[0m\u001b[1;33m\u001b[0m\u001b[0m\n\u001b[0m\u001b[0;32m      6\u001b[0m \u001b[0mprint\u001b[0m\u001b[1;33m(\u001b[0m\u001b[0ma\u001b[0m\u001b[1;33m[\u001b[0m\u001b[1;36m0\u001b[0m\u001b[1;33m]\u001b[0m\u001b[1;33m,\u001b[0m\u001b[0ma\u001b[0m\u001b[1;33m[\u001b[0m\u001b[1;36m1\u001b[0m\u001b[1;33m]\u001b[0m\u001b[1;33m)\u001b[0m\u001b[1;33m\u001b[0m\u001b[1;33m\u001b[0m\u001b[0m\n",
      "\u001b[1;31mTypeError\u001b[0m: 'tuple' object does not support item assignment"
     ]
    }
   ],
   "source": [
    "a = (30, 40)   #tuple 생성 ()를 이용\n",
    "print(a)\n",
    "print(type(a))\n",
    "print(a[0],a[1])\n",
    "a[0]=100  # tuple 은 값을 변경할 수 없음\n",
    "print(a[0],a[1])"
   ]
  },
  {
   "cell_type": "markdown",
   "metadata": {},
   "source": [
    "### Boolean"
   ]
  },
  {
   "cell_type": "code",
   "execution_count": 63,
   "metadata": {
    "ExecuteTime": {
     "end_time": "2022-02-16T11:02:26.729622Z",
     "start_time": "2022-02-16T11:02:26.723999Z"
    }
   },
   "outputs": [
    {
     "name": "stdout",
     "output_type": "stream",
     "text": [
      "True\n",
      "True\n",
      "False\n"
     ]
    }
   ],
   "source": [
    "print(True)\n",
    "print(10 > 5)\n",
    "print(10 < 5)"
   ]
  },
  {
   "cell_type": "code",
   "execution_count": 64,
   "metadata": {
    "ExecuteTime": {
     "end_time": "2022-02-16T11:02:49.430869Z",
     "start_time": "2022-02-16T11:02:49.425885Z"
    }
   },
   "outputs": [
    {
     "name": "stdout",
     "output_type": "stream",
     "text": [
      "True\n"
     ]
    }
   ],
   "source": [
    "if 2:\n",
    "    print('True')\n",
    "else:\n",
    "    print('False')"
   ]
  },
  {
   "cell_type": "code",
   "execution_count": 67,
   "metadata": {
    "ExecuteTime": {
     "end_time": "2022-02-16T11:03:34.358337Z",
     "start_time": "2022-02-16T11:03:34.353661Z"
    }
   },
   "outputs": [
    {
     "name": "stdout",
     "output_type": "stream",
     "text": [
      "False\n"
     ]
    }
   ],
   "source": [
    "if 0:\n",
    "    print('True')\n",
    "else:\n",
    "    print('False')\n",
    "# 0만 False고, 나머지 숫자는 True"
   ]
  },
  {
   "cell_type": "code",
   "execution_count": 68,
   "metadata": {
    "ExecuteTime": {
     "end_time": "2022-02-16T11:03:37.006088Z",
     "start_time": "2022-02-16T11:03:37.001066Z"
    }
   },
   "outputs": [
    {
     "name": "stdout",
     "output_type": "stream",
     "text": [
      "False\n",
      "False\n"
     ]
    }
   ],
   "source": [
    "print(False)\n",
    "print(10 < 5)"
   ]
  },
  {
   "cell_type": "code",
   "execution_count": 69,
   "metadata": {
    "ExecuteTime": {
     "end_time": "2022-02-16T11:03:45.023633Z",
     "start_time": "2022-02-16T11:03:45.017180Z"
    }
   },
   "outputs": [
    {
     "name": "stdout",
     "output_type": "stream",
     "text": [
      "True\n"
     ]
    }
   ],
   "source": [
    "a=1\n",
    "if a:  #변수 이용\n",
    "    print('True')\n",
    "else:\n",
    "    print('False')\n",
    "# 0만 False고, 나머지 숫자는 True"
   ]
  },
  {
   "cell_type": "markdown",
   "metadata": {},
   "source": [
    "* 심화 : [cheatsheet2](https://pycheatsheet.junekim.xyz/?fbclid=IwAR0XaYWcE9zjvDyk2Dvx6tJLkhXONNJeKqV6PbeEhqoSk-75iUmfc4kNreg#type-collections)"
   ]
  },
  {
   "cell_type": "markdown",
   "metadata": {
    "ExecuteTime": {
     "end_time": "2022-02-04T02:26:10.485340Z",
     "start_time": "2022-02-04T02:26:10.474372Z"
    }
   },
   "source": [
    "* Tip1"
   ]
  },
  {
   "cell_type": "code",
   "execution_count": 29,
   "metadata": {
    "ExecuteTime": {
     "end_time": "2022-02-04T02:27:37.277031Z",
     "start_time": "2022-02-04T02:27:37.271061Z"
    }
   },
   "outputs": [
    {
     "name": "stdout",
     "output_type": "stream",
     "text": [
      "주석이 아닙니다.\n"
     ]
    }
   ],
   "source": [
    "# 주석처리\n",
    "# print('주석입니다.')\n",
    "print('주석이 아닙니다.')\n",
    "# 단축키 : 해당 라인 아무 위치에서나  crtl + /"
   ]
  },
  {
   "cell_type": "code",
   "execution_count": 70,
   "metadata": {
    "ExecuteTime": {
     "end_time": "2022-02-16T11:05:51.375905Z",
     "start_time": "2022-02-16T11:05:51.365890Z"
    }
   },
   "outputs": [
    {
     "name": "stdout",
     "output_type": "stream",
     "text": [
      "200\n"
     ]
    },
    {
     "data": {
      "text/plain": [
       "200"
      ]
     },
     "execution_count": 70,
     "metadata": {},
     "output_type": "execute_result"
    }
   ],
   "source": [
    "# 결과 출력\n",
    "a=100\n",
    "b=200\n",
    "print(b)  #print 은 언제나 출력됨\n",
    "a  # 출력 안 됨\n",
    "b  # 그냥 변수명만 쓸때는 맨 마지막 줄만 출력됨"
   ]
  },
  {
   "cell_type": "code",
   "execution_count": 33,
   "metadata": {
    "ExecuteTime": {
     "end_time": "2022-02-04T02:30:02.941961Z",
     "start_time": "2022-02-04T02:30:02.934983Z"
    }
   },
   "outputs": [
    {
     "name": "stdout",
     "output_type": "stream",
     "text": [
      "100\n",
      "100 200\n",
      "100 200 test\n"
     ]
    }
   ],
   "source": [
    "# print문\n",
    "print(a)\n",
    "print(a,b) #자동으로 변수간에 공백이 들어감\n",
    "c='test'\n",
    "print(a,b,c)"
   ]
  },
  {
   "cell_type": "code",
   "execution_count": 72,
   "metadata": {
    "ExecuteTime": {
     "end_time": "2022-02-16T11:07:42.629382Z",
     "start_time": "2022-02-16T11:07:42.622425Z"
    }
   },
   "outputs": [
    {
     "name": "stdout",
     "output_type": "stream",
     "text": [
      "Hello Python!\n",
      "Nice to meet you.\n",
      "Hello \"Python\"\n",
      "Hello 'Python'\n",
      "Hello Python!\n",
      "HelloPython!\n"
     ]
    }
   ],
   "source": [
    "print('Hello Python!')  # 따옴표 가능\n",
    "print(\"Nice to meet you.\")  # 쌍따옴표 가능\n",
    "print('Hello \"Python\"')  # 내부에 쌍따옴표가 있으면, 따옴표로 감싸기 \n",
    "print(\"Hello 'Python'\")  # 내부에 따옴표가 있으면, 쌍따옴표로 감싸기\n",
    "print('Hello', 'Python!')   # 공백이 하나\n",
    "print('Hello' + 'Python!')  # 공백이 없음"
   ]
  },
  {
   "cell_type": "code",
   "execution_count": 6,
   "metadata": {
    "ExecuteTime": {
     "end_time": "2022-04-13T02:41:38.106712Z",
     "start_time": "2022-04-13T02:41:38.092719Z"
    }
   },
   "outputs": [
    {
     "name": "stdout",
     "output_type": "stream",
     "text": [
      "i: 123, f: 3.140000, s: Hello\n",
      "i:       123, f:  3.14, s:   Hello\n",
      "i: 000000123, f: 03.14, s:   Hello\n"
     ]
    }
   ],
   "source": [
    "# %format\n",
    "i = 123\n",
    "f = 3.14\n",
    "s = 'Hello'\n",
    "print('i: %d, f: %f, s: %s' % (i, f, s))  #%d 정수,   %f 실수,   %s 문자\n",
    "print('i: %9d, f: %5.2f, s: %7s' % (i, f, s)) #  %9d  정수 9자리,  %5.2f 총 5자리, 소숫점 이하 2자리,  %7s 문자 7개\n",
    "print('i: %09d, f: %05.2f, s: %7s' % (i, f, s)) #0 지정된 자리수보다 수가 작으면 0으로 채운다는 의미"
   ]
  },
  {
   "cell_type": "code",
   "execution_count": 38,
   "metadata": {
    "ExecuteTime": {
     "end_time": "2022-02-04T02:37:17.921570Z",
     "start_time": "2022-02-04T02:37:17.915589Z"
    }
   },
   "outputs": [
    {
     "name": "stdout",
     "output_type": "stream",
     "text": [
      "i: 123, f: 3.14, s: Hello\n",
      "f: 3.14, i: 123, s: Hello\n",
      "f: 3.14, i: 123, s: Hello\n"
     ]
    }
   ],
   "source": [
    "# str.format 방식\n",
    "print('i: {}, f: {}, s: {}'.format(i, f, s)) #' '안에 {}는 변수의 위치 , ' '.format() 에 사용할 변수명\n",
    "print('f: {1}, i: {0}, s: {2}'.format(i, f, s)) # {}안에 숫자를 지정하여, 출력 위치 지정 가능\n",
    "print('f: {ff}, i: {ii}, s: {ss}'.format(ii=i, ff=f, ss=s)) # {}안에 숫자가 아닌 변수명을 따로 지정하여, 출력 위치 지정 가능"
   ]
  },
  {
   "cell_type": "code",
   "execution_count": 43,
   "metadata": {
    "ExecuteTime": {
     "end_time": "2022-02-04T02:45:59.487225Z",
     "start_time": "2022-02-04T02:45:59.481243Z"
    }
   },
   "outputs": [
    {
     "name": "stdout",
     "output_type": "stream",
     "text": [
      "1 x 2 = 2 입니다.\n",
      "3 x 2 = 6 입니다.\n",
      "5 x 2 = 10 입니다.\n",
      "7 x 2 = 14 입니다.\n",
      "9 x 2 = 18 입니다.\n"
     ]
    }
   ],
   "source": [
    "# f-string\n",
    "for x in range(1,10,2):\n",
    "    print(f'{x} x 2 = {x*2} 입니다.')  # f' ' 형식으로 사용"
   ]
  },
  {
   "cell_type": "code",
   "execution_count": 46,
   "metadata": {
    "ExecuteTime": {
     "end_time": "2022-02-04T02:50:13.952795Z",
     "start_time": "2022-02-04T02:50:13.945854Z"
    }
   },
   "outputs": [
    {
     "name": "stdout",
     "output_type": "stream",
     "text": [
      "1 x 2 =          2 입니다.\n",
      "3 x 2 =          6 입니다.\n",
      "5 x 2 =         10 입니다.\n",
      "7 x 2 =         14 입니다.\n",
      "9 x 2 =         18 입니다.\n"
     ]
    }
   ],
   "source": [
    "# f-string\n",
    "for x in range(1,10,2):\n",
    "    print(f'{x} x 2 = {x*2:>10d} 입니다.') # {}안의 : 뒤의 ^ 는 가운데 정렬, > 는 오른쪽 정렬, 없으면 왼쪽 정렬"
   ]
  },
  {
   "cell_type": "code",
   "execution_count": 47,
   "metadata": {
    "ExecuteTime": {
     "end_time": "2022-02-04T02:50:15.057874Z",
     "start_time": "2022-02-04T02:50:15.052890Z"
    }
   },
   "outputs": [
    {
     "name": "stdout",
     "output_type": "stream",
     "text": [
      "두째자리까지 표현 0.56\n",
      "두째자리까지 표현 0.67\n",
      "두째자리까지 표현 0.78\n"
     ]
    }
   ],
   "source": [
    "test = [0.5555, 0.6666, 0.7777]\n",
    "for x in test :\n",
    "    print(f'두째자리까지 표현 {x:.2f}') # {}안의 : 2f는  %format 방식에서 %를 빼면 동일하게 적용됨"
   ]
  },
  {
   "cell_type": "markdown",
   "metadata": {},
   "source": [
    "* 심화 : [cheatsheet2](https://pycheatsheet.junekim.xyz/?fbclid=IwAR0XaYWcE9zjvDyk2Dvx6tJLkhXONNJeKqV6PbeEhqoSk-75iUmfc4kNreg#type-string-formatting)"
   ]
  },
  {
   "cell_type": "markdown",
   "metadata": {},
   "source": [
    "## Conditional Statement "
   ]
  },
  {
   "cell_type": "code",
   "execution_count": 74,
   "metadata": {
    "ExecuteTime": {
     "end_time": "2022-02-16T11:23:54.330887Z",
     "start_time": "2022-02-16T11:23:54.325941Z"
    }
   },
   "outputs": [],
   "source": [
    "if 10 < 5:\n",
    "    print('10이 5보다 크다.')"
   ]
  },
  {
   "cell_type": "code",
   "execution_count": 76,
   "metadata": {
    "ExecuteTime": {
     "end_time": "2022-02-16T11:24:19.258777Z",
     "start_time": "2022-02-16T11:24:19.249872Z"
    }
   },
   "outputs": [
    {
     "name": "stdout",
     "output_type": "stream",
     "text": [
      "음수\n"
     ]
    }
   ],
   "source": [
    "# 양수, 음수, 0을 구분하는 코드\n",
    "my_num = -1\n",
    "if my_num > 0:\n",
    "    print('양수')\n",
    "else:\n",
    "    print('음수')"
   ]
  },
  {
   "cell_type": "code",
   "execution_count": 77,
   "metadata": {
    "ExecuteTime": {
     "end_time": "2022-02-16T11:25:05.435896Z",
     "start_time": "2022-02-16T11:25:05.427857Z"
    }
   },
   "outputs": [
    {
     "name": "stdout",
     "output_type": "stream",
     "text": [
      "양수\n"
     ]
    }
   ],
   "source": [
    "# 양수, 음수, 0을 구분하는 코드\n",
    "my_num = 23\n",
    "if my_num > 0:\n",
    "    print('양수')\n",
    "elif my_num == 0:\n",
    "    print(0)\n",
    "else:\n",
    "    print('음수')"
   ]
  },
  {
   "cell_type": "code",
   "execution_count": 80,
   "metadata": {
    "ExecuteTime": {
     "end_time": "2022-02-16T11:26:13.154319Z",
     "start_time": "2022-02-16T11:26:13.148336Z"
    }
   },
   "outputs": [
    {
     "name": "stdout",
     "output_type": "stream",
     "text": [
      "음수\n"
     ]
    }
   ],
   "source": [
    "my_num = -5\n",
    "if my_num > 0:\n",
    "    print('양수')\n",
    "else:\n",
    "    if my_num < 0:\n",
    "        print('음수')\n",
    "    else:\n",
    "        print('0')"
   ]
  },
  {
   "cell_type": "code",
   "execution_count": 81,
   "metadata": {
    "ExecuteTime": {
     "end_time": "2022-02-16T11:27:07.088491Z",
     "start_time": "2022-02-16T11:27:07.080921Z"
    }
   },
   "outputs": [
    {
     "name": "stdout",
     "output_type": "stream",
     "text": [
      "참이다\n",
      "거짓이다\n"
     ]
    }
   ],
   "source": [
    "# 조건문을 한 줄로 표시하기\n",
    "# [참일 때의 값] if [조건문] else [거짓일 때의 값]\n",
    "print('참이다' if 10 > 5 else '거짓이다')\n",
    "print('참이다' if 10 < 5 else '거짓이다')"
   ]
  },
  {
   "cell_type": "code",
   "execution_count": 96,
   "metadata": {
    "ExecuteTime": {
     "end_time": "2022-02-03T01:54:45.946571Z",
     "start_time": "2022-02-03T01:54:45.939590Z"
    }
   },
   "outputs": [
    {
     "data": {
      "text/plain": [
       "'음수'"
      ]
     },
     "execution_count": 96,
     "metadata": {},
     "output_type": "execute_result"
    }
   ],
   "source": [
    "# 양수, 음수, 0을 구분하는 코드 1줄\n",
    "'양수' if my_num > 0 else ('음수' if my_num < 0 else '0')"
   ]
  },
  {
   "cell_type": "markdown",
   "metadata": {},
   "source": [
    "## Loop"
   ]
  },
  {
   "cell_type": "code",
   "execution_count": 56,
   "metadata": {
    "ExecuteTime": {
     "end_time": "2022-01-19T11:44:45.284103Z",
     "start_time": "2022-01-19T11:44:45.274128Z"
    }
   },
   "outputs": [
    {
     "name": "stdout",
     "output_type": "stream",
     "text": [
      "0 안녕하세요\n",
      "000\n",
      "1 안녕하세요\n",
      "000\n",
      "2 안녕하세요\n",
      "000\n",
      "3 안녕하세요\n",
      "000\n",
      "4 안녕하세요\n",
      "000\n",
      "5 안녕하세요\n",
      "000\n",
      "6 안녕하세요\n",
      "000\n",
      "7 안녕하세요\n",
      "000\n",
      "8 안녕하세요\n",
      "000\n",
      "9 안녕하세요\n",
      "000\n"
     ]
    }
   ],
   "source": [
    "for i in range(10): #0부터 (n-1) -> 0,1,2,3,4,5,6,7,8,9\n",
    "    print(i, '안녕하세요')\n",
    "    print('000')"
   ]
  },
  {
   "cell_type": "code",
   "execution_count": 110,
   "metadata": {
    "ExecuteTime": {
     "end_time": "2022-02-03T02:11:40.001087Z",
     "start_time": "2022-02-03T02:11:39.993139Z"
    }
   },
   "outputs": [
    {
     "name": "stdout",
     "output_type": "stream",
     "text": [
      "0\n",
      "1\n",
      "2\n",
      "3\n",
      "4\n",
      "--------------------\n",
      "0\n",
      "1\n",
      "2\n",
      "3\n",
      "4\n",
      "--------------------\n",
      "0\n",
      "1\n",
      "2\n",
      "3\n",
      "4\n"
     ]
    }
   ],
   "source": [
    "for i in range(5):\n",
    "    print(i)\n",
    "print('-'*20)    \n",
    "for i in range(0,5):\n",
    "    print(i)\n",
    "print('-'*20)        \n",
    "for i in range(0,5,1): #start, end-1, step\n",
    "    print(i)    "
   ]
  },
  {
   "cell_type": "code",
   "execution_count": 79,
   "metadata": {
    "ExecuteTime": {
     "end_time": "2022-02-16T02:41:54.655745Z",
     "start_time": "2022-02-16T02:41:54.647763Z"
    }
   },
   "outputs": [
    {
     "name": "stdout",
     "output_type": "stream",
     "text": [
      "0\n",
      "2\n",
      "4\n",
      "--------------------\n"
     ]
    }
   ],
   "source": [
    "for i in range(0,5,2):\n",
    "    print(i)    \n",
    "print('-'*20)       \n",
    "for i in range(0,5,-1): #역순으로 할 때는 strat가 end 보다 커야 함.\n",
    "    print(i)"
   ]
  },
  {
   "cell_type": "code",
   "execution_count": 80,
   "metadata": {
    "ExecuteTime": {
     "end_time": "2022-02-16T02:42:10.210558Z",
     "start_time": "2022-02-16T02:42:10.203550Z"
    }
   },
   "outputs": [
    {
     "name": "stdout",
     "output_type": "stream",
     "text": [
      "5\n",
      "4\n",
      "3\n",
      "2\n",
      "1\n",
      "--------------------\n",
      "4\n",
      "3\n",
      "2\n",
      "1\n",
      "0\n"
     ]
    }
   ],
   "source": [
    "for i in range(5,0,-1):  # 5부터 시작하여 역순으로 0의  앞인 1 까지\n",
    "    print(i)    \n",
    "print('-'*20)       \n",
    "for i in reversed(range(0,5)): # range(0,5) 결과의 역순\n",
    "    print(i)    "
   ]
  },
  {
   "cell_type": "markdown",
   "metadata": {},
   "source": [
    "### Loop for list "
   ]
  },
  {
   "cell_type": "code",
   "execution_count": 82,
   "metadata": {
    "ExecuteTime": {
     "end_time": "2022-02-16T11:31:50.630970Z",
     "start_time": "2022-02-16T11:31:50.625039Z"
    }
   },
   "outputs": [
    {
     "name": "stdout",
     "output_type": "stream",
     "text": [
      "개\n",
      "고양이\n",
      "사자\n"
     ]
    }
   ],
   "source": [
    "animals = ['개', '고양이', '사자']\n",
    "for i in range(3):\n",
    "    print(animals[i])"
   ]
  },
  {
   "cell_type": "code",
   "execution_count": 36,
   "metadata": {},
   "outputs": [
    {
     "name": "stdout",
     "output_type": "stream",
     "text": [
      "개\n",
      "고양이\n",
      "사자\n"
     ]
    }
   ],
   "source": [
    "animals = ['개', '고양이', '사자']\n",
    "for animal in animals:\n",
    "    print(animal)"
   ]
  },
  {
   "cell_type": "code",
   "execution_count": 37,
   "metadata": {},
   "outputs": [
    {
     "name": "stdout",
     "output_type": "stream",
     "text": [
      "0 개\n",
      "1 고양이\n",
      "2 사자\n"
     ]
    }
   ],
   "source": [
    "for i, animal in enumerate(animals): #  순번과  값이 모두 필요할 때 enumerate 사용\n",
    "    print(i, animal)"
   ]
  },
  {
   "cell_type": "markdown",
   "metadata": {},
   "source": [
    "### Loop for dictionary "
   ]
  },
  {
   "cell_type": "code",
   "execution_count": 8,
   "metadata": {
    "ExecuteTime": {
     "end_time": "2022-04-13T04:06:39.788596Z",
     "start_time": "2022-04-13T04:06:39.781580Z"
    }
   },
   "outputs": [
    {
     "name": "stdout",
     "output_type": "stream",
     "text": [
      "{'name': '홍길동', 'birth': 900101, 'job': '데이터분석가', 'email': 'hgd@gmail.com'}\n"
     ]
    }
   ],
   "source": [
    "member = {'name' : '홍길동', 'birth' : 900101, 'job' : '데이터분석가',\n",
    "           'email' : 'hgd@gmail.com'}  # key : value 의 쌍\n",
    "print(member)"
   ]
  },
  {
   "cell_type": "code",
   "execution_count": 9,
   "metadata": {
    "ExecuteTime": {
     "end_time": "2022-04-13T04:06:40.010985Z",
     "start_time": "2022-04-13T04:06:40.004984Z"
    }
   },
   "outputs": [
    {
     "name": "stdout",
     "output_type": "stream",
     "text": [
      "name => 홍길동\n",
      "birth => 900101\n",
      "job => 데이터분석가\n",
      "email => hgd@gmail.com\n"
     ]
    }
   ],
   "source": [
    "for key in member:\n",
    "    print(key + ' => ' + str(member[key]))"
   ]
  },
  {
   "cell_type": "code",
   "execution_count": 10,
   "metadata": {
    "ExecuteTime": {
     "end_time": "2022-04-13T04:06:40.229421Z",
     "start_time": "2022-04-13T04:06:40.222698Z"
    }
   },
   "outputs": [
    {
     "name": "stdout",
     "output_type": "stream",
     "text": [
      "('name', '홍길동')\n",
      "('birth', 900101)\n",
      "('job', '데이터분석가')\n",
      "('email', 'hgd@gmail.com')\n"
     ]
    }
   ],
   "source": [
    "for something in member.items():\n",
    "    print(something)"
   ]
  },
  {
   "cell_type": "code",
   "execution_count": 15,
   "metadata": {
    "ExecuteTime": {
     "end_time": "2022-04-13T04:07:43.357598Z",
     "start_time": "2022-04-13T04:07:43.352577Z"
    }
   },
   "outputs": [
    {
     "name": "stdout",
     "output_type": "stream",
     "text": [
      "name => 홍길동\n",
      "birth => 900101\n",
      "job => 데이터분석가\n",
      "email => hgd@gmail.com\n"
     ]
    }
   ],
   "source": [
    "for key, value in member.items():\n",
    "    print(key + ' => '+ str(value))\n",
    "#     print(key + ' => '+ value)"
   ]
  },
  {
   "cell_type": "code",
   "execution_count": 12,
   "metadata": {
    "ExecuteTime": {
     "end_time": "2022-04-13T04:06:41.189817Z",
     "start_time": "2022-04-13T04:06:41.183833Z"
    }
   },
   "outputs": [
    {
     "name": "stdout",
     "output_type": "stream",
     "text": [
      "name  => 홍길동\n",
      "birth  => 900101\n",
      "job  => 데이터분석가\n",
      "email  => hgd@gmail.com\n"
     ]
    }
   ],
   "source": [
    "for key, value in member.items():\n",
    "    print(f'{key}  => {str(value)}')  # f-string 방법 : f'' 안에 원하는 출력 지정, {}안에는 변수명 지정"
   ]
  },
  {
   "cell_type": "code",
   "execution_count": 131,
   "metadata": {
    "ExecuteTime": {
     "end_time": "2022-02-03T02:25:13.496961Z",
     "start_time": "2022-02-03T02:25:13.490978Z"
    }
   },
   "outputs": [
    {
     "name": "stdout",
     "output_type": "stream",
     "text": [
      "name\n",
      "birth\n",
      "job\n",
      "email\n"
     ]
    }
   ],
   "source": [
    "for key in member:\n",
    "    print(key)"
   ]
  },
  {
   "cell_type": "markdown",
   "metadata": {
    "ExecuteTime": {
     "end_time": "2022-02-16T01:44:12.358101Z",
     "start_time": "2022-02-16T01:44:12.353080Z"
    }
   },
   "source": [
    "#### Quiz3) for와 list를 이용하여 다음 문장을 출력하시오.  \n",
    "변수명 : department  \n",
    "변수값 : \"핵의학과\", \"순환기내과\",\"외상외과\"  \n",
    "출력문장 : XX 에 오신 것을 환영합니다.  "
   ]
  },
  {
   "cell_type": "code",
   "execution_count": 84,
   "metadata": {
    "ExecuteTime": {
     "end_time": "2022-02-16T11:38:48.503928Z",
     "start_time": "2022-02-16T11:38:48.497945Z"
    }
   },
   "outputs": [
    {
     "name": "stdout",
     "output_type": "stream",
     "text": [
      "핵의학과에 오신 것을 환영합니다.\n",
      "순환기내과에 오신 것을 환영합니다.\n",
      "외상외과에 오신 것을 환영합니다.\n"
     ]
    }
   ],
   "source": []
  },
  {
   "cell_type": "markdown",
   "metadata": {},
   "source": [
    "## Function"
   ]
  },
  {
   "cell_type": "code",
   "execution_count": 17,
   "metadata": {
    "ExecuteTime": {
     "end_time": "2022-04-13T04:09:23.428040Z",
     "start_time": "2022-04-13T04:09:23.421059Z"
    }
   },
   "outputs": [
    {
     "name": "stdout",
     "output_type": "stream",
     "text": [
      "안녕하세요\n",
      "안녕하세요\n",
      "안녕하세요\n"
     ]
    }
   ],
   "source": [
    "# 함수 선언   ->  def 함수명():\n",
    "def greeting():   #  입력이 없고\n",
    "    print('안녕하세요') \n",
    "                  # 반환값이 없음\n",
    "        \n",
    "greeting() #함수를 실행시키기\n",
    "greeting() #함수를 실행시키기\n",
    "greeting() #함수를 실행시키기"
   ]
  },
  {
   "cell_type": "code",
   "execution_count": 18,
   "metadata": {
    "ExecuteTime": {
     "end_time": "2022-04-13T04:09:39.268715Z",
     "start_time": "2022-04-13T04:09:39.262694Z"
    }
   },
   "outputs": [
    {
     "name": "stdout",
     "output_type": "stream",
     "text": [
      "홍길동님, 안녕하세요.\n"
     ]
    }
   ],
   "source": [
    "def greeting(name): #입력 : name\n",
    "    '''\n",
    "    name이라는 String을 받아서, ___님 안녕하세요. 라고 출력하는 함수\n",
    "    '''\n",
    "    print(str(name) + '님, 안녕하세요.')  \n",
    "    # 반환값이 없음\n",
    "\n",
    "greeting('홍길동')"
   ]
  },
  {
   "cell_type": "code",
   "execution_count": 19,
   "metadata": {
    "ExecuteTime": {
     "end_time": "2022-04-13T04:09:41.868761Z",
     "start_time": "2022-04-13T04:09:41.860746Z"
    }
   },
   "outputs": [
    {
     "name": "stdout",
     "output_type": "stream",
     "text": [
      "Help on function greeting in module __main__:\n",
      "\n",
      "greeting(name)\n",
      "    name이라는 String을 받아서, ___님 안녕하세요. 라고 출력하는 함수\n",
      "\n"
     ]
    }
   ],
   "source": [
    "help(greeting)\n",
    "# ''' ''' 안에 써진 부분을 docstring 이라 함."
   ]
  },
  {
   "cell_type": "code",
   "execution_count": 20,
   "metadata": {
    "ExecuteTime": {
     "end_time": "2022-04-13T04:09:54.948778Z",
     "start_time": "2022-04-13T04:09:54.940763Z"
    }
   },
   "outputs": [
    {
     "name": "stdout",
     "output_type": "stream",
     "text": [
      "Help on built-in function print in module builtins:\n",
      "\n",
      "print(...)\n",
      "    print(value, ..., sep=' ', end='\\n', file=sys.stdout, flush=False)\n",
      "    \n",
      "    Prints the values to a stream, or to sys.stdout by default.\n",
      "    Optional keyword arguments:\n",
      "    file:  a file-like object (stream); defaults to the current sys.stdout.\n",
      "    sep:   string inserted between values, default a space.\n",
      "    end:   string appended after the last value, default a newline.\n",
      "    flush: whether to forcibly flush the stream.\n",
      "\n"
     ]
    }
   ],
   "source": [
    "help(print) #사용법이 궁금한 명령어를 조회해 볼 수 있음"
   ]
  },
  {
   "cell_type": "code",
   "execution_count": 21,
   "metadata": {
    "ExecuteTime": {
     "end_time": "2022-04-13T04:10:12.393130Z",
     "start_time": "2022-04-13T04:10:12.385147Z"
    }
   },
   "outputs": [],
   "source": [
    "# checkNumber (CamelCase) ... 클래스명\n",
    "# check_number (underscore)... 변수명, 함수명\n",
    "# 숫자를 받아서, => 양수, 음수, 0을 구분해주는 함수( input => 'my_num')\n",
    "def check_number(my_num):\n",
    "    '''\n",
    "    숫자를 받아서, => 양수, 음수, 0을 구분해주는 함수( input => 'my_num')\n",
    "    '''\n",
    "    \n",
    "    return '양수' if my_num > 0 else ('음수' if my_num < 0 else '0') # 반환값이 있음"
   ]
  },
  {
   "cell_type": "code",
   "execution_count": 22,
   "metadata": {
    "ExecuteTime": {
     "end_time": "2022-04-13T04:10:12.955609Z",
     "start_time": "2022-04-13T04:10:12.949605Z"
    }
   },
   "outputs": [
    {
     "name": "stdout",
     "output_type": "stream",
     "text": [
      "0\n"
     ]
    }
   ],
   "source": [
    "result = check_number(0)\n",
    "print(result)"
   ]
  },
  {
   "cell_type": "code",
   "execution_count": 23,
   "metadata": {
    "ExecuteTime": {
     "end_time": "2022-04-13T04:10:18.212562Z",
     "start_time": "2022-04-13T04:10:18.199566Z"
    }
   },
   "outputs": [
    {
     "data": {
      "text/plain": [
       "str"
      ]
     },
     "execution_count": 23,
     "metadata": {},
     "output_type": "execute_result"
    }
   ],
   "source": [
    "type(result)"
   ]
  },
  {
   "cell_type": "code",
   "execution_count": 89,
   "metadata": {
    "ExecuteTime": {
     "end_time": "2022-02-16T03:29:32.932634Z",
     "start_time": "2022-02-16T03:29:32.923656Z"
    }
   },
   "outputs": [
    {
     "name": "stdout",
     "output_type": "stream",
     "text": [
      "0\n",
      "양수\n",
      "음수\n"
     ]
    }
   ],
   "source": [
    "def check_number2(my_num):\n",
    "    '''\n",
    "    숫자를 받아서, => 양수, 음수, 0을 구분해주는 함수( input => 'my_num')\n",
    "    '''\n",
    "    #if문을 풀어서 쓰면\n",
    "    if my_num > 0:\n",
    "        result='양수' \n",
    "    else:\n",
    "        if my_num < 0:\n",
    "            result ='음수'\n",
    "        else :\n",
    "            result='0'\n",
    "    return result # 변수에 저장한 후 변수를 반환하는 방법\n",
    "\n",
    "print(check_number2(0))\n",
    "print(check_number2(1))\n",
    "print(check_number2(-1))"
   ]
  },
  {
   "cell_type": "markdown",
   "metadata": {},
   "source": [
    "#### Quiz4) for와 list 를 이용하여 다음 문장을 출력하는  **함수** 를 만드시오.   \n",
    "변수명 : department  \n",
    "변수값 : \"핵의학과\", \"순환기내과\",\"외상외과\"  \n",
    "함수명 : welcome  \n",
    "출력문장 : XX 에 오신 것을 환영합니다.  "
   ]
  },
  {
   "cell_type": "code",
   "execution_count": 101,
   "metadata": {
    "ExecuteTime": {
     "end_time": "2022-02-17T00:03:07.363878Z",
     "start_time": "2022-02-17T00:03:07.348918Z"
    }
   },
   "outputs": [
    {
     "name": "stdout",
     "output_type": "stream",
     "text": [
      "핵의학과에 오신 것을 환영합니다.\n",
      "순환기내과에 오신 것을 환영합니다.\n",
      "외상외과에 오신 것을 환영합니다.\n"
     ]
    }
   ],
   "source": []
  },
  {
   "cell_type": "markdown",
   "metadata": {},
   "source": [
    "## String과 관련된 함수들\n",
    "split, join, replace, startswith, endswith, ..."
   ]
  },
  {
   "cell_type": "markdown",
   "metadata": {},
   "source": [
    "### split & join "
   ]
  },
  {
   "cell_type": "code",
   "execution_count": 92,
   "metadata": {
    "ExecuteTime": {
     "end_time": "2022-02-16T11:46:06.104478Z",
     "start_time": "2022-02-16T11:46:06.092483Z"
    }
   },
   "outputs": [
    {
     "data": {
      "text/plain": [
       "['dance', '900101', 'hds@gmail.com', '데이터분석가', '홍길동']"
      ]
     },
     "execution_count": 92,
     "metadata": {},
     "output_type": "execute_result"
    }
   ],
   "source": [
    "data = 'dance,900101,hds@gmail.com,데이터분석가,홍길동'\n",
    "data.split(',') #문자열을 쪼갤 때 사용한 기준 문자를 지정"
   ]
  },
  {
   "cell_type": "code",
   "execution_count": 156,
   "metadata": {
    "ExecuteTime": {
     "end_time": "2022-02-03T02:37:25.364092Z",
     "start_time": "2022-02-03T02:37:25.358140Z"
    }
   },
   "outputs": [
    {
     "name": "stdout",
     "output_type": "stream",
     "text": [
      "홍길동,hds@gmail.com,dance\n",
      "홍길동 hds@gmail.com dance\n",
      "홍길동hds@gmail.comdance\n"
     ]
    }
   ],
   "source": [
    "my_infos = ['홍길동', 'hds@gmail.com', 'dance']\n",
    "print(','.join(my_infos)) # . 를 기준으로 list의 요소들을 모두 합쳐서 문자열로 만듬.\n",
    "print(' '.join(my_infos)) # 공백을 기준으로 list의 요소들을 모두 합쳐서 문자열로 만듬.\n",
    "print(''.join(my_infos)) # 공백 없이 list의 요소들을 모두 합쳐서 문자열로 만듬."
   ]
  },
  {
   "cell_type": "markdown",
   "metadata": {},
   "source": [
    "### replace"
   ]
  },
  {
   "cell_type": "code",
   "execution_count": 157,
   "metadata": {
    "ExecuteTime": {
     "end_time": "2022-02-03T02:37:47.835008Z",
     "start_time": "2022-02-03T02:37:47.829058Z"
    }
   },
   "outputs": [
    {
     "data": {
      "text/plain": [
       "'dance/900101/hds@gmail.com/데이터분석가/홍길동'"
      ]
     },
     "execution_count": 157,
     "metadata": {},
     "output_type": "execute_result"
    }
   ],
   "source": [
    "data.replace(',', '/') #바꾸기"
   ]
  },
  {
   "cell_type": "markdown",
   "metadata": {},
   "source": [
    "### search"
   ]
  },
  {
   "cell_type": "code",
   "execution_count": 159,
   "metadata": {
    "ExecuteTime": {
     "end_time": "2022-02-03T02:39:28.863925Z",
     "start_time": "2022-02-03T02:39:28.856909Z"
    }
   },
   "outputs": [
    {
     "name": "stdout",
     "output_type": "stream",
     "text": [
      "True\n",
      "False\n"
     ]
    }
   ],
   "source": [
    "print('홍길동' in data)   #data에  '홍길동'이 있는지 찾기 - 있으면 True\n",
    "print('이순신' in data)   #data에  '이순신'이 있는지 찾기 - 없으면 False"
   ]
  },
  {
   "cell_type": "markdown",
   "metadata": {},
   "source": [
    "### startswith & endswith"
   ]
  },
  {
   "cell_type": "code",
   "execution_count": 164,
   "metadata": {
    "ExecuteTime": {
     "end_time": "2022-02-03T02:40:50.029350Z",
     "start_time": "2022-02-03T02:40:50.023397Z"
    }
   },
   "outputs": [
    {
     "data": {
      "text/plain": [
       "'dance,900101,hds@gmail.com,데이터분석가,홍길동'"
      ]
     },
     "execution_count": 164,
     "metadata": {},
     "output_type": "execute_result"
    }
   ],
   "source": [
    "data"
   ]
  },
  {
   "cell_type": "code",
   "execution_count": 165,
   "metadata": {
    "ExecuteTime": {
     "end_time": "2022-02-03T02:40:50.341514Z",
     "start_time": "2022-02-03T02:40:50.334533Z"
    }
   },
   "outputs": [
    {
     "data": {
      "text/plain": [
       "True"
      ]
     },
     "execution_count": 165,
     "metadata": {},
     "output_type": "execute_result"
    }
   ],
   "source": [
    "data.startswith('dance')  #문자열 data가  'dance'로 시작하는지?"
   ]
  },
  {
   "cell_type": "code",
   "execution_count": 166,
   "metadata": {
    "ExecuteTime": {
     "end_time": "2022-02-03T02:40:50.578881Z",
     "start_time": "2022-02-03T02:40:50.571898Z"
    }
   },
   "outputs": [
    {
     "data": {
      "text/plain": [
       "False"
      ]
     },
     "execution_count": 166,
     "metadata": {},
     "output_type": "execute_result"
    }
   ],
   "source": [
    "data.startswith('123')   #문자열 data가  '123'로 시작하는지?"
   ]
  },
  {
   "cell_type": "code",
   "execution_count": 167,
   "metadata": {
    "ExecuteTime": {
     "end_time": "2022-02-03T02:40:51.685956Z",
     "start_time": "2022-02-03T02:40:51.679974Z"
    }
   },
   "outputs": [
    {
     "data": {
      "text/plain": [
       "True"
      ]
     },
     "execution_count": 167,
     "metadata": {},
     "output_type": "execute_result"
    }
   ],
   "source": [
    "data.endswith('홍길동')   #문자열 data가  '홍길동'로 끝나는지?"
   ]
  },
  {
   "cell_type": "markdown",
   "metadata": {},
   "source": [
    "## File I/O"
   ]
  },
  {
   "cell_type": "code",
   "execution_count": 24,
   "metadata": {
    "ExecuteTime": {
     "end_time": "2022-04-13T04:13:39.542145Z",
     "start_time": "2022-04-13T04:13:39.533147Z"
    }
   },
   "outputs": [
    {
     "name": "stdout",
     "output_type": "stream",
     "text": [
      "E:\\workspace\\python\\tf\\강의자료\\수업용\\수업준비_전남대병원\\python_basic\\20220414\n"
     ]
    },
    {
     "data": {
      "text/plain": [
       "['.ipynb_checkpoints',\n",
       " 'animals.csv',\n",
       " 'diabetes.csv',\n",
       " 'ML_study.ipynb',\n",
       " 'Python_기초.ipynb',\n",
       " 'Quiz_Python_기초.ipynb']"
      ]
     },
     "execution_count": 24,
     "metadata": {},
     "output_type": "execute_result"
    }
   ],
   "source": [
    "import os, sys\n",
    "print(os.getcwd()) # 현재 경로 파악하기\n",
    "os.listdir() # 현재 폴더의 목록 보기"
   ]
  },
  {
   "cell_type": "code",
   "execution_count": 25,
   "metadata": {
    "ExecuteTime": {
     "end_time": "2022-04-13T04:13:45.718640Z",
     "start_time": "2022-04-13T04:13:45.710638Z"
    }
   },
   "outputs": [],
   "source": [
    "fp = open('test.txt', 'w') # w : 쓰기모드\n",
    "fp.write('hello python!')\n",
    "fp.close() #파일을 다 사용하였으면 닫아주어야 합니다."
   ]
  },
  {
   "cell_type": "code",
   "execution_count": 26,
   "metadata": {
    "ExecuteTime": {
     "end_time": "2022-04-13T04:13:46.739908Z",
     "start_time": "2022-04-13T04:13:46.731898Z"
    }
   },
   "outputs": [
    {
     "data": {
      "text/plain": [
       "['.ipynb_checkpoints',\n",
       " 'animals.csv',\n",
       " 'diabetes.csv',\n",
       " 'ML_study.ipynb',\n",
       " 'Python_기초.ipynb',\n",
       " 'Quiz_Python_기초.ipynb',\n",
       " 'test.txt']"
      ]
     },
     "execution_count": 26,
     "metadata": {},
     "output_type": "execute_result"
    }
   ],
   "source": [
    "os.listdir()  # test.txt 가 새로 생겼음을 확인할 수 있음."
   ]
  },
  {
   "cell_type": "code",
   "execution_count": 27,
   "metadata": {
    "ExecuteTime": {
     "end_time": "2022-04-13T04:13:56.895748Z",
     "start_time": "2022-04-13T04:13:56.889733Z"
    }
   },
   "outputs": [
    {
     "name": "stdout",
     "output_type": "stream",
     "text": [
      "hello python!\n"
     ]
    }
   ],
   "source": [
    "# 파일 읽기\n",
    "fp = open('test.txt', 'r') # r : 읽기모드\n",
    "data = fp.read()\n",
    "fp.close() #파일을 다 사용하였으면 닫아주어야 합니다.\n",
    "print(data)"
   ]
  },
  {
   "cell_type": "code",
   "execution_count": 28,
   "metadata": {
    "ExecuteTime": {
     "end_time": "2022-04-13T04:14:08.028965Z",
     "start_time": "2022-04-13T04:14:08.023956Z"
    }
   },
   "outputs": [],
   "source": [
    "fp = open('test.txt', 'a') # a : 이어쓰기모드\n",
    "fp.write('\\nhello world!')\n",
    "fp.close() #파일을 다 사용하였으면 닫아주어야 합니다."
   ]
  },
  {
   "cell_type": "code",
   "execution_count": 29,
   "metadata": {
    "ExecuteTime": {
     "end_time": "2022-04-13T04:14:10.388665Z",
     "start_time": "2022-04-13T04:14:10.382648Z"
    }
   },
   "outputs": [
    {
     "name": "stdout",
     "output_type": "stream",
     "text": [
      "hello python!\n",
      "hello world!\n"
     ]
    }
   ],
   "source": [
    "# 파일 읽기\n",
    "fp = open('test.txt', 'r') # r : 읽기모드\n",
    "data = fp.read()\n",
    "fp.close() #파일을 다 사용하였으면 닫아주어야 합니다.\n",
    "print(data)"
   ]
  },
  {
   "cell_type": "code",
   "execution_count": 30,
   "metadata": {
    "ExecuteTime": {
     "end_time": "2022-04-13T04:14:14.637303Z",
     "start_time": "2022-04-13T04:14:14.630290Z"
    }
   },
   "outputs": [
    {
     "data": {
      "text/plain": [
       "['.ipynb_checkpoints',\n",
       " 'animals.csv',\n",
       " 'diabetes.csv',\n",
       " 'ML_study.ipynb',\n",
       " 'Python_기초.ipynb',\n",
       " 'Quiz_Python_기초.ipynb']"
      ]
     },
     "execution_count": 30,
     "metadata": {},
     "output_type": "execute_result"
    }
   ],
   "source": [
    "# 파일 삭제\n",
    "os.remove('test.txt')\n",
    "os.listdir()"
   ]
  },
  {
   "cell_type": "code",
   "execution_count": null,
   "metadata": {},
   "outputs": [],
   "source": []
  },
  {
   "cell_type": "markdown",
   "metadata": {},
   "source": [
    "Summary\n",
    "* Lambda (익명 함수)  \n",
    "    * 함수형 프로그래밍  \n",
    "    (익명함수 Lambda + Lambda Operator - map, reduce, filter)  \n",
    "        * map : 모든 element에 동일한 함수 적용  \n",
    "        * filter 모든 element에 동일한 함수 적용, 결과가 참인 element => List  \n",
    "        * reduce 모든 element... 줄여나가다가 => 값!!  \n",
    "* List Comprehension  \n",
    "    * [i___ for i in elements if _____]"
   ]
  },
  {
   "cell_type": "markdown",
   "metadata": {},
   "source": [
    "## Lambda  \n",
    "* Lambda (이름이 있는 함수..., 익명함수) + Lambda Operator (map, filter, reduce)"
   ]
  },
  {
   "cell_type": "code",
   "execution_count": 32,
   "metadata": {
    "ExecuteTime": {
     "end_time": "2022-04-13T04:30:49.905439Z",
     "start_time": "2022-04-13T04:30:49.898459Z"
    }
   },
   "outputs": [
    {
     "data": {
      "text/plain": [
       "8"
      ]
     },
     "execution_count": 32,
     "metadata": {},
     "output_type": "execute_result"
    }
   ],
   "source": [
    "# Double\n",
    "def double(x):\n",
    "    return 2 * x\n",
    "\n",
    "double(4)"
   ]
  },
  {
   "cell_type": "code",
   "execution_count": 97,
   "metadata": {
    "ExecuteTime": {
     "end_time": "2022-02-16T04:00:14.556194Z",
     "start_time": "2022-02-16T04:00:14.549614Z"
    }
   },
   "outputs": [
    {
     "data": {
      "text/plain": [
       "<function __main__.<lambda>(x)>"
      ]
     },
     "execution_count": 97,
     "metadata": {},
     "output_type": "execute_result"
    }
   ],
   "source": [
    "lambda x : 2 * x\n",
    "# lambda 변수명 : 계산식"
   ]
  },
  {
   "cell_type": "code",
   "execution_count": 98,
   "metadata": {
    "ExecuteTime": {
     "end_time": "2022-02-16T04:00:31.783934Z",
     "start_time": "2022-02-16T04:00:31.777917Z"
    }
   },
   "outputs": [
    {
     "data": {
      "text/plain": [
       "200"
      ]
     },
     "execution_count": 98,
     "metadata": {},
     "output_type": "execute_result"
    }
   ],
   "source": [
    "# 활용방법\n",
    "(lambda x : 2 * x)(100)"
   ]
  },
  {
   "cell_type": "code",
   "execution_count": 99,
   "metadata": {
    "ExecuteTime": {
     "end_time": "2022-02-16T04:01:26.668756Z",
     "start_time": "2022-02-16T04:01:26.660775Z"
    }
   },
   "outputs": [
    {
     "data": {
      "text/plain": [
       "[2, 4, 6, 8, 10]"
      ]
     },
     "execution_count": 99,
     "metadata": {},
     "output_type": "execute_result"
    }
   ],
   "source": [
    "# [1, 2, 3, 4, 5] List 를   [2, 4, 6, 8, 10] 형태로 변경해야 한다면.\n",
    "# 1. for 문을 돌리고,\n",
    "# 2. 각각의 element 들에 대해서 '동일한 함수'를 적용\n",
    "my_list = [1, 2, 3, 4, 5]\n",
    "result = []\n",
    "for element in my_list:\n",
    "    result.append(double(element))\n",
    "result"
   ]
  },
  {
   "cell_type": "code",
   "execution_count": 5,
   "metadata": {
    "ExecuteTime": {
     "end_time": "2022-02-04T01:56:11.758480Z",
     "start_time": "2022-02-04T01:56:11.751500Z"
    }
   },
   "outputs": [
    {
     "data": {
      "text/plain": [
       "[1, 2, 3, 4, 5, 1, 2, 3, 4, 5]"
      ]
     },
     "execution_count": 5,
     "metadata": {},
     "output_type": "execute_result"
    }
   ],
   "source": [
    "double(my_list) # 원하지 않은 결과가 나옴. [1, 2, 3, 4, 5]*2 와 같이 작용"
   ]
  },
  {
   "cell_type": "code",
   "execution_count": 6,
   "metadata": {
    "ExecuteTime": {
     "end_time": "2022-02-04T01:57:06.234863Z",
     "start_time": "2022-02-04T01:57:06.228843Z"
    }
   },
   "outputs": [
    {
     "data": {
      "text/plain": [
       "[1, 2, 3, 4, 5, 1, 2, 3, 4, 5]"
      ]
     },
     "execution_count": 6,
     "metadata": {},
     "output_type": "execute_result"
    }
   ],
   "source": [
    "[1, 2, 3, 4, 5]*2"
   ]
  },
  {
   "cell_type": "markdown",
   "metadata": {},
   "source": [
    "### map(function, list) => list  \n",
    "* list의 각각의 element에 동일한 function을 적용해서 새로운 list를 반환"
   ]
  },
  {
   "cell_type": "code",
   "execution_count": 33,
   "metadata": {
    "ExecuteTime": {
     "end_time": "2022-04-13T04:30:57.527066Z",
     "start_time": "2022-04-13T04:30:57.520041Z"
    }
   },
   "outputs": [
    {
     "data": {
      "text/plain": [
       "[2, 4, 6, 8, 10]"
      ]
     },
     "execution_count": 33,
     "metadata": {},
     "output_type": "execute_result"
    }
   ],
   "source": [
    "# map(Lambda Operator)\n",
    "# \"동일한 함수\"를 적용! (Lambda)\n",
    "list(map(double,[1,2,3,4,5])) "
   ]
  },
  {
   "cell_type": "code",
   "execution_count": 8,
   "metadata": {
    "ExecuteTime": {
     "end_time": "2022-02-04T01:58:32.747518Z",
     "start_time": "2022-02-04T01:58:32.740576Z"
    }
   },
   "outputs": [
    {
     "data": {
      "text/plain": [
       "[2, 4, 6, 8, 10]"
      ]
     },
     "execution_count": 8,
     "metadata": {},
     "output_type": "execute_result"
    }
   ],
   "source": [
    "# double이 매우 간단한 함수니까 익명함수 써서 정의하자\n",
    "list(map(lambda x: 2*x,[1,2,3,4,5]))"
   ]
  },
  {
   "cell_type": "code",
   "execution_count": 102,
   "metadata": {
    "ExecuteTime": {
     "end_time": "2022-02-16T04:08:57.690187Z",
     "start_time": "2022-02-16T04:08:57.683185Z"
    }
   },
   "outputs": [
    {
     "data": {
      "text/plain": [
       "[0, 2, 4, 6, 8, 10, 12, 14, 16, 18]"
      ]
     },
     "execution_count": 102,
     "metadata": {},
     "output_type": "execute_result"
    }
   ],
   "source": [
    "list(map(lambda x: x * 2,\n",
    "         range(10) # iterable한 애들이면 넣을 수 있음, list처럼 요소를 하나씩 꺼낼 수 있는..\n",
    "        ))"
   ]
  },
  {
   "cell_type": "markdown",
   "metadata": {},
   "source": [
    "### filter(function, list) => list  \n",
    "* list의 각각의 element에 대해서 동일한 function을 적용한 다음에, 함수의 결과가 True인 Element만 남겨서 새로운 list 반환"
   ]
  },
  {
   "cell_type": "code",
   "execution_count": 103,
   "metadata": {
    "ExecuteTime": {
     "end_time": "2022-02-16T04:09:23.020714Z",
     "start_time": "2022-02-16T04:09:23.014727Z"
    }
   },
   "outputs": [
    {
     "data": {
      "text/plain": [
       "[100, 101, 105, 106]"
      ]
     },
     "execution_count": 103,
     "metadata": {},
     "output_type": "execute_result"
    }
   ],
   "source": [
    "# 가지고 있는 list에서 100이상의 수만 뽑는 경우\n",
    "list(filter( lambda x : x>=100,\n",
    "       [1,100,101,3,4,105,106]\n",
    "      ))"
   ]
  },
  {
   "cell_type": "code",
   "execution_count": 35,
   "metadata": {
    "ExecuteTime": {
     "end_time": "2022-04-13T04:31:59.520271Z",
     "start_time": "2022-04-13T04:31:59.511264Z"
    }
   },
   "outputs": [
    {
     "data": {
      "text/plain": [
       "[False, True, True, False, False, True, True]"
      ]
     },
     "execution_count": 35,
     "metadata": {},
     "output_type": "execute_result"
    }
   ],
   "source": [
    "# 가지고 있는 list에서 100이상의 수만 뽑는 경우 <- map을 적용한 결과 - T/F 만 나옴\n",
    "list(map( lambda x : x>=100,\n",
    "       [1,100,101,3,4,105,106]\n",
    "      ))"
   ]
  },
  {
   "cell_type": "markdown",
   "metadata": {},
   "source": [
    "- 1-10까지의 자연수 리스트 => 제곱한 결과중에서 50이상의 수만 리스트로 만들기"
   ]
  },
  {
   "cell_type": "code",
   "execution_count": 11,
   "metadata": {
    "ExecuteTime": {
     "end_time": "2022-02-04T02:02:28.349602Z",
     "start_time": "2022-02-04T02:02:28.342644Z"
    }
   },
   "outputs": [
    {
     "data": {
      "text/plain": [
       "[64, 81, 100]"
      ]
     },
     "execution_count": 11,
     "metadata": {},
     "output_type": "execute_result"
    }
   ],
   "source": [
    "# for문 활용\n",
    "tmp = []\n",
    "for number in range(1,11):\n",
    "    if number ** 2 >= 50:\n",
    "        tmp.append((number) ** 2)\n",
    "print(tmp )"
   ]
  },
  {
   "cell_type": "code",
   "execution_count": 12,
   "metadata": {
    "ExecuteTime": {
     "end_time": "2022-02-04T02:03:27.953267Z",
     "start_time": "2022-02-04T02:03:27.946252Z"
    }
   },
   "outputs": [
    {
     "data": {
      "text/plain": [
       "[64, 81, 100]"
      ]
     },
     "execution_count": 12,
     "metadata": {},
     "output_type": "execute_result"
    }
   ],
   "source": [
    "# map, filter\n",
    "tmp = list(filter(lambda x : x>=50,\n",
    "             map(lambda x : x ** 2, \n",
    "                 range(1, 11))))      #먼저 map으로 람다함수 적용시킨 결과를, filter로 비교구문 통해 참인 것만 리스트로 출력\n",
    "tmp\n",
    "# 이해를 돕기 위해 여러 줄로 표현, 아래처럼 한 줄로 가능"
   ]
  },
  {
   "cell_type": "code",
   "execution_count": 13,
   "metadata": {
    "ExecuteTime": {
     "end_time": "2022-02-04T02:03:43.224433Z",
     "start_time": "2022-02-04T02:03:43.217419Z"
    }
   },
   "outputs": [
    {
     "data": {
      "text/plain": [
       "[64, 81, 100]"
      ]
     },
     "execution_count": 13,
     "metadata": {},
     "output_type": "execute_result"
    }
   ],
   "source": [
    "list(filter(lambda x : x>=50, map(lambda x : x ** 2, range(1, 11))))"
   ]
  },
  {
   "cell_type": "markdown",
   "metadata": {},
   "source": [
    "### reduce(function, list) => value"
   ]
  },
  {
   "cell_type": "markdown",
   "metadata": {},
   "source": [
    "- example 1~5까지의 누적 합"
   ]
  },
  {
   "cell_type": "code",
   "execution_count": 104,
   "metadata": {
    "ExecuteTime": {
     "end_time": "2022-02-16T04:11:01.731641Z",
     "start_time": "2022-02-16T04:11:01.725621Z"
    }
   },
   "outputs": [
    {
     "data": {
      "text/plain": [
       "15"
      ]
     },
     "execution_count": 104,
     "metadata": {},
     "output_type": "execute_result"
    }
   ],
   "source": [
    "# for 문 이용\n",
    "result = 0\n",
    "for i in range(1,6):\n",
    "    result = result + i\n",
    "result"
   ]
  },
  {
   "cell_type": "code",
   "execution_count": 105,
   "metadata": {
    "ExecuteTime": {
     "end_time": "2022-02-16T04:11:37.236965Z",
     "start_time": "2022-02-16T04:11:37.230945Z"
    }
   },
   "outputs": [
    {
     "data": {
      "text/plain": [
       "15"
      ]
     },
     "execution_count": 105,
     "metadata": {},
     "output_type": "execute_result"
    }
   ],
   "source": [
    "# 1, 2, 3, 4, 5  <= start\n",
    "#    3, 3, 4, 5\n",
    "#       6, 4, 5\n",
    "#         10, 5\n",
    "#            15\n",
    "# reduce 이용\n",
    "from functools import reduce\n",
    "\n",
    "reduce(\n",
    "    lambda a, b: a+b,\n",
    "    range(1,6)\n",
    ")"
   ]
  },
  {
   "cell_type": "markdown",
   "metadata": {
    "ExecuteTime": {
     "end_time": "2022-04-13T04:41:01.930199Z",
     "start_time": "2022-04-13T04:41:01.921167Z"
    }
   },
   "source": [
    "- 리스트의 element 중에서 가장 큰 수 구하기"
   ]
  },
  {
   "cell_type": "code",
   "execution_count": 37,
   "metadata": {
    "ExecuteTime": {
     "end_time": "2022-04-13T04:40:33.449308Z",
     "start_time": "2022-04-13T04:40:33.438338Z"
    }
   },
   "outputs": [
    {
     "data": {
      "text/plain": [
       "105"
      ]
     },
     "execution_count": 37,
     "metadata": {},
     "output_type": "execute_result"
    }
   ],
   "source": [
    "# input : 리스트\n",
    "# output : 리스트의 element 중에서 가장 큰 수\n",
    "# get_max() \n",
    "def get_max(elements):\n",
    "    maxv = elements[0]\n",
    "    \n",
    "    for element in elements:\n",
    "        if element >= maxv:\n",
    "            maxv = element\n",
    "    return maxv\n",
    "\n",
    "get_max([1, 100, 2,3, 4, 105, 6])"
   ]
  },
  {
   "cell_type": "code",
   "execution_count": 18,
   "metadata": {
    "ExecuteTime": {
     "end_time": "2022-02-04T02:12:20.772365Z",
     "start_time": "2022-02-04T02:12:20.764388Z"
    }
   },
   "outputs": [
    {
     "data": {
      "text/plain": [
       "105"
      ]
     },
     "execution_count": 18,
     "metadata": {},
     "output_type": "execute_result"
    }
   ],
   "source": [
    "# 1, 100, 2, 3, 4, 105, 6\n",
    "# 100, 2, 3, 4, 105, 6\n",
    "# 100, 3, 4, 105, 6\n",
    "# 100, 4, 105, 6\n",
    "# 100, 105, 6\n",
    "# 105, 6\n",
    "# 105\n",
    "# reduce 이용\n",
    "reduce(\n",
    "    lambda a, b: a if a > b else b,\n",
    "    [1, 100, 2,3, 4, 105, 6]\n",
    ")"
   ]
  },
  {
   "cell_type": "code",
   "execution_count": 107,
   "metadata": {
    "ExecuteTime": {
     "end_time": "2022-02-16T04:13:49.043211Z",
     "start_time": "2022-02-16T04:13:49.035168Z"
    }
   },
   "outputs": [
    {
     "data": {
      "text/plain": [
       "105"
      ]
     },
     "execution_count": 107,
     "metadata": {},
     "output_type": "execute_result"
    }
   ],
   "source": [
    "get_max = lambda elements: reduce(   # lambda 함수를 변수명에 저장하고, 함수처럼 사용\n",
    "    lambda a, b: a if a > b else b,\n",
    "    elements\n",
    ")\n",
    "get_max([1, 100, 2,3, 4, 105, 6])"
   ]
  },
  {
   "cell_type": "markdown",
   "metadata": {
    "ExecuteTime": {
     "end_time": "2022-02-04T02:13:49.832283Z",
     "start_time": "2022-02-04T02:13:49.826295Z"
    }
   },
   "source": [
    "## List Comprehension  \n",
    "list를 정의하는 것처럼 쓰지만. 실제로 내부적으로는 Lambda Operator  \n",
    "[i--- for i in elements if ----]"
   ]
  },
  {
   "cell_type": "code",
   "execution_count": 21,
   "metadata": {
    "ExecuteTime": {
     "end_time": "2022-02-04T02:14:21.326045Z",
     "start_time": "2022-02-04T02:14:21.317071Z"
    }
   },
   "outputs": [
    {
     "data": {
      "text/plain": [
       "[1, 4, 9, 16, 25]"
      ]
     },
     "execution_count": 21,
     "metadata": {},
     "output_type": "execute_result"
    }
   ],
   "source": [
    "list(map(\n",
    "    lambda x: x**2, # 1. lambda function\n",
    "    range(1,6)      # 2. list\n",
    "))"
   ]
  },
  {
   "cell_type": "code",
   "execution_count": 22,
   "metadata": {
    "ExecuteTime": {
     "end_time": "2022-02-04T02:15:12.925118Z",
     "start_time": "2022-02-04T02:15:12.918101Z"
    }
   },
   "outputs": [
    {
     "data": {
      "text/plain": [
       "[1, 4, 9, 16, 25]"
      ]
     },
     "execution_count": 22,
     "metadata": {},
     "output_type": "execute_result"
    }
   ],
   "source": [
    "# [i___ for i in elements if ________]  #풀어서 쓰면\n",
    "[  \n",
    "   i**2 # 1. lambda function  \n",
    "   for i\n",
    "   in range(1,6) # 2. list\n",
    "]"
   ]
  },
  {
   "cell_type": "code",
   "execution_count": 23,
   "metadata": {
    "ExecuteTime": {
     "end_time": "2022-02-04T02:15:59.975872Z",
     "start_time": "2022-02-04T02:15:59.968894Z"
    }
   },
   "outputs": [
    {
     "data": {
      "text/plain": [
       "[1, 4, 9, 16, 25]"
      ]
     },
     "execution_count": 23,
     "metadata": {},
     "output_type": "execute_result"
    }
   ],
   "source": [
    "# [i___ for i in elements if ________] # 한 줄로 쓰면\n",
    "[ i**2 for i in range(1,6) ]"
   ]
  },
  {
   "cell_type": "code",
   "execution_count": 24,
   "metadata": {
    "ExecuteTime": {
     "end_time": "2022-02-04T02:16:27.319764Z",
     "start_time": "2022-02-04T02:16:27.312782Z"
    }
   },
   "outputs": [
    {
     "data": {
      "text/plain": [
       "[101, 104, 105]"
      ]
     },
     "execution_count": 24,
     "metadata": {},
     "output_type": "execute_result"
    }
   ],
   "source": [
    "[                                    #풀어서 쓰면\n",
    "    i                               # 1. map lambda\n",
    "    for i\n",
    "    in [101, 2, 3, 104, 105]        # 2. list\n",
    "    if i >= 100                     # 3, filter lambda\n",
    "    \n",
    "]"
   ]
  },
  {
   "cell_type": "code",
   "execution_count": 25,
   "metadata": {
    "ExecuteTime": {
     "end_time": "2022-02-04T02:16:52.050643Z",
     "start_time": "2022-02-04T02:16:52.043662Z"
    }
   },
   "outputs": [
    {
     "data": {
      "text/plain": [
       "[101, 104, 105]"
      ]
     },
     "execution_count": 25,
     "metadata": {},
     "output_type": "execute_result"
    }
   ],
   "source": [
    "[ i for i in [101, 2, 3, 104, 105] if i >= 100 ]  # 한 줄로 쓰면"
   ]
  },
  {
   "cell_type": "code",
   "execution_count": 26,
   "metadata": {
    "ExecuteTime": {
     "end_time": "2022-02-04T02:17:24.270498Z",
     "start_time": "2022-02-04T02:17:24.263513Z"
    }
   },
   "outputs": [
    {
     "data": {
      "text/plain": [
       "[64, 81, 100]"
      ]
     },
     "execution_count": 26,
     "metadata": {},
     "output_type": "execute_result"
    }
   ],
   "source": [
    "# 1-10까지의 자연수 리스트 => 제곱한 결과중에서 50이상의 수만 리스트로 저장\n",
    "[                            #풀어서 쓰면\n",
    "    i ** 2\n",
    "    for i \n",
    "    in range(1,11)\n",
    "    if i**2 >= 50   \n",
    "]"
   ]
  },
  {
   "cell_type": "code",
   "execution_count": 27,
   "metadata": {
    "ExecuteTime": {
     "end_time": "2022-02-04T02:17:37.664719Z",
     "start_time": "2022-02-04T02:17:37.657703Z"
    }
   },
   "outputs": [
    {
     "data": {
      "text/plain": [
       "[64, 81, 100]"
      ]
     },
     "execution_count": 27,
     "metadata": {},
     "output_type": "execute_result"
    }
   ],
   "source": [
    "[ i ** 2 for i in range(1,11) if i**2 >= 50 ]  # 한 줄로 쓰면"
   ]
  },
  {
   "cell_type": "markdown",
   "metadata": {},
   "source": [
    "# Pandas  \n",
    "[pandas 사용법 알아보기](https://laboputer.github.io/machine-learning/2020/04/07/pandas-10minutes/)"
   ]
  },
  {
   "cell_type": "code",
   "execution_count": 44,
   "metadata": {
    "ExecuteTime": {
     "end_time": "2022-04-13T05:00:34.545771Z",
     "start_time": "2022-04-13T05:00:31.230640Z"
    }
   },
   "outputs": [],
   "source": [
    "# pandas 라이브러리를 사용하겠다고 등록해주는 절차\n",
    "# import pandas\n",
    "import pandas as pd   #as pd 별명을 지어 단축하여 사용"
   ]
  },
  {
   "attachments": {
    "image.png": {
     "image/png": "[encoded data removed]"
    }
   },
   "cell_type": "markdown",
   "metadata": {},
   "source": [
    "![image.png](attachment:image.png)"
   ]
  },
  {
   "cell_type": "markdown",
   "metadata": {},
   "source": [
    "## Series"
   ]
  },
  {
   "cell_type": "code",
   "execution_count": 45,
   "metadata": {
    "ExecuteTime": {
     "end_time": "2022-04-13T05:00:34.560731Z",
     "start_time": "2022-04-13T05:00:34.549762Z"
    }
   },
   "outputs": [
    {
     "name": "stdout",
     "output_type": "stream",
     "text": [
      "<class 'pandas.core.series.Series'>\n"
     ]
    },
    {
     "data": {
      "text/plain": [
       "0    100\n",
       "1     90\n",
       "2    120\n",
       "3    110\n",
       "4    105\n",
       "dtype: int64"
      ]
     },
     "execution_count": 45,
     "metadata": {},
     "output_type": "execute_result"
    }
   ],
   "source": [
    "series_ex = pd.Series([100, 90, 120, 110, 105])\n",
    "print(type(series_ex))\n",
    "series_ex"
   ]
  },
  {
   "cell_type": "code",
   "execution_count": 46,
   "metadata": {
    "ExecuteTime": {
     "end_time": "2022-04-13T05:00:34.579681Z",
     "start_time": "2022-04-13T05:00:34.563725Z"
    }
   },
   "outputs": [
    {
     "name": "stdout",
     "output_type": "stream",
     "text": [
      "<class 'pandas.core.series.Series'>\n"
     ]
    },
    {
     "data": {
      "text/plain": [
       "월    100\n",
       "화     90\n",
       "수    120\n",
       "목    110\n",
       "금    105\n",
       "dtype: int64"
      ]
     },
     "execution_count": 46,
     "metadata": {},
     "output_type": "execute_result"
    }
   ],
   "source": [
    "series_ex2 = pd.Series([100, 90, 120, 110, 105], index=['월', '화', '수', '목', '금'])\n",
    "print(type(series_ex2))\n",
    "series_ex2"
   ]
  },
  {
   "cell_type": "code",
   "execution_count": 47,
   "metadata": {
    "ExecuteTime": {
     "end_time": "2022-04-13T05:00:34.591649Z",
     "start_time": "2022-04-13T05:00:34.582692Z"
    }
   },
   "outputs": [
    {
     "data": {
      "text/plain": [
       "100"
      ]
     },
     "execution_count": 47,
     "metadata": {},
     "output_type": "execute_result"
    }
   ],
   "source": [
    "series_ex2['월']"
   ]
  },
  {
   "cell_type": "code",
   "execution_count": 48,
   "metadata": {
    "ExecuteTime": {
     "end_time": "2022-04-13T05:00:34.605615Z",
     "start_time": "2022-04-13T05:00:34.594645Z"
    }
   },
   "outputs": [
    {
     "data": {
      "text/plain": [
       "90"
      ]
     },
     "execution_count": 48,
     "metadata": {},
     "output_type": "execute_result"
    }
   ],
   "source": [
    "series_ex2[1]"
   ]
  },
  {
   "cell_type": "markdown",
   "metadata": {},
   "source": [
    "## Dataframe"
   ]
  },
  {
   "cell_type": "code",
   "execution_count": 49,
   "metadata": {
    "ExecuteTime": {
     "end_time": "2022-04-13T05:00:34.638524Z",
     "start_time": "2022-04-13T05:00:34.609602Z"
    }
   },
   "outputs": [
    {
     "name": "stdout",
     "output_type": "stream",
     "text": [
      "<class 'pandas.core.frame.DataFrame'>\n",
      "(5, 3)\n"
     ]
    },
    {
     "data": {
      "text/html": [
       "<div>\n",
       "<style scoped>\n",
       "    .dataframe tbody tr th:only-of-type {\n",
       "        vertical-align: middle;\n",
       "    }\n",
       "\n",
       "    .dataframe tbody tr th {\n",
       "        vertical-align: top;\n",
       "    }\n",
       "\n",
       "    .dataframe thead th {\n",
       "        text-align: right;\n",
       "    }\n",
       "</style>\n",
       "<table border=\"1\" class=\"dataframe\">\n",
       "  <thead>\n",
       "    <tr style=\"text-align: right;\">\n",
       "      <th></th>\n",
       "      <th>나이</th>\n",
       "      <th>수축기혈압</th>\n",
       "      <th>이완기혈압</th>\n",
       "    </tr>\n",
       "  </thead>\n",
       "  <tbody>\n",
       "    <tr>\n",
       "      <th>1</th>\n",
       "      <td>80</td>\n",
       "      <td>120</td>\n",
       "      <td>95</td>\n",
       "    </tr>\n",
       "    <tr>\n",
       "      <th>2</th>\n",
       "      <td>20</td>\n",
       "      <td>110</td>\n",
       "      <td>80</td>\n",
       "    </tr>\n",
       "    <tr>\n",
       "      <th>3</th>\n",
       "      <td>34</td>\n",
       "      <td>105</td>\n",
       "      <td>85</td>\n",
       "    </tr>\n",
       "    <tr>\n",
       "      <th>4</th>\n",
       "      <td>53</td>\n",
       "      <td>120</td>\n",
       "      <td>89</td>\n",
       "    </tr>\n",
       "    <tr>\n",
       "      <th>5</th>\n",
       "      <td>75</td>\n",
       "      <td>128</td>\n",
       "      <td>90</td>\n",
       "    </tr>\n",
       "  </tbody>\n",
       "</table>\n",
       "</div>"
      ],
      "text/plain": [
       "   나이  수축기혈압  이완기혈압\n",
       "1  80    120     95\n",
       "2  20    110     80\n",
       "3  34    105     85\n",
       "4  53    120     89\n",
       "5  75    128     90"
      ]
     },
     "execution_count": 49,
     "metadata": {},
     "output_type": "execute_result"
    }
   ],
   "source": [
    "dataframe_ex = pd.DataFrame({'나이':[80, 20, 34, 53, 75], \n",
    "              '수축기혈압':[120, 110, 105, 120, 128], \n",
    "              '이완기혈압':[95, 80, 85, 89, 90]}, \n",
    "             index=[1, 2, 3, 4, 5])\n",
    "print(type(dataframe_ex))\n",
    "print(dataframe_ex.shape)\n",
    "dataframe_ex"
   ]
  },
  {
   "cell_type": "code",
   "execution_count": 50,
   "metadata": {
    "ExecuteTime": {
     "end_time": "2022-04-13T05:00:34.651494Z",
     "start_time": "2022-04-13T05:00:34.641517Z"
    }
   },
   "outputs": [
    {
     "data": {
      "text/plain": [
       "1    120\n",
       "2    110\n",
       "3    105\n",
       "4    120\n",
       "5    128\n",
       "Name: 수축기혈압, dtype: int64"
      ]
     },
     "execution_count": 50,
     "metadata": {},
     "output_type": "execute_result"
    }
   ],
   "source": [
    "dataframe_ex['수축기혈압']"
   ]
  },
  {
   "cell_type": "code",
   "execution_count": 51,
   "metadata": {
    "ExecuteTime": {
     "end_time": "2022-04-13T05:00:34.665452Z",
     "start_time": "2022-04-13T05:00:34.656477Z"
    }
   },
   "outputs": [
    {
     "name": "stdout",
     "output_type": "stream",
     "text": [
      "<class 'pandas.core.series.Series'>\n"
     ]
    }
   ],
   "source": [
    "a= dataframe_ex['수축기혈압']\n",
    "print(type(a))"
   ]
  },
  {
   "cell_type": "code",
   "execution_count": 52,
   "metadata": {
    "ExecuteTime": {
     "end_time": "2022-04-13T05:00:34.682408Z",
     "start_time": "2022-04-13T05:00:34.668444Z"
    }
   },
   "outputs": [
    {
     "data": {
      "text/plain": [
       "나이        80\n",
       "수축기혈압    120\n",
       "이완기혈압     95\n",
       "Name: 1, dtype: int64"
      ]
     },
     "execution_count": 52,
     "metadata": {},
     "output_type": "execute_result"
    }
   ],
   "source": [
    "dataframe_ex.loc[1]"
   ]
  },
  {
   "cell_type": "code",
   "execution_count": 53,
   "metadata": {
    "ExecuteTime": {
     "end_time": "2022-04-13T05:00:34.696370Z",
     "start_time": "2022-04-13T05:00:34.687393Z"
    }
   },
   "outputs": [
    {
     "name": "stdout",
     "output_type": "stream",
     "text": [
      "<class 'pandas.core.series.Series'>\n"
     ]
    }
   ],
   "source": [
    "b = dataframe_ex.loc[1]\n",
    "print(type(b))"
   ]
  },
  {
   "cell_type": "code",
   "execution_count": 54,
   "metadata": {
    "ExecuteTime": {
     "end_time": "2022-04-13T05:00:34.711328Z",
     "start_time": "2022-04-13T05:00:34.699360Z"
    }
   },
   "outputs": [
    {
     "name": "stdout",
     "output_type": "stream",
     "text": [
      "120\n",
      "120\n"
     ]
    }
   ],
   "source": [
    "print(dataframe_ex['수축기혈압'][1])\n",
    "print(dataframe_ex.loc[1]['수축기혈압'])"
   ]
  },
  {
   "cell_type": "code",
   "execution_count": 55,
   "metadata": {
    "ExecuteTime": {
     "end_time": "2022-04-13T05:00:37.434079Z",
     "start_time": "2022-04-13T05:00:37.425078Z"
    }
   },
   "outputs": [
    {
     "data": {
      "text/plain": [
       "화     90\n",
       "월    100\n",
       "금    105\n",
       "목    110\n",
       "수    120\n",
       "dtype: int64"
      ]
     },
     "execution_count": 55,
     "metadata": {},
     "output_type": "execute_result"
    }
   ],
   "source": [
    "series_ex2.sort_values()  #올림차순, 기본"
   ]
  },
  {
   "cell_type": "code",
   "execution_count": 56,
   "metadata": {
    "ExecuteTime": {
     "end_time": "2022-04-13T05:00:37.929735Z",
     "start_time": "2022-04-13T05:00:37.920748Z"
    }
   },
   "outputs": [
    {
     "data": {
      "text/plain": [
       "수    120\n",
       "목    110\n",
       "금    105\n",
       "월    100\n",
       "화     90\n",
       "dtype: int64"
      ]
     },
     "execution_count": 56,
     "metadata": {},
     "output_type": "execute_result"
    }
   ],
   "source": [
    "series_ex2.sort_values(ascending=False)  #내림차순"
   ]
  },
  {
   "cell_type": "code",
   "execution_count": 57,
   "metadata": {
    "ExecuteTime": {
     "end_time": "2022-04-13T05:00:38.814391Z",
     "start_time": "2022-04-13T05:00:38.803387Z"
    }
   },
   "outputs": [
    {
     "data": {
      "text/html": [
       "<div>\n",
       "<style scoped>\n",
       "    .dataframe tbody tr th:only-of-type {\n",
       "        vertical-align: middle;\n",
       "    }\n",
       "\n",
       "    .dataframe tbody tr th {\n",
       "        vertical-align: top;\n",
       "    }\n",
       "\n",
       "    .dataframe thead th {\n",
       "        text-align: right;\n",
       "    }\n",
       "</style>\n",
       "<table border=\"1\" class=\"dataframe\">\n",
       "  <thead>\n",
       "    <tr style=\"text-align: right;\">\n",
       "      <th></th>\n",
       "      <th>나이</th>\n",
       "      <th>수축기혈압</th>\n",
       "      <th>이완기혈압</th>\n",
       "    </tr>\n",
       "  </thead>\n",
       "  <tbody>\n",
       "    <tr>\n",
       "      <th>5</th>\n",
       "      <td>75</td>\n",
       "      <td>128</td>\n",
       "      <td>90</td>\n",
       "    </tr>\n",
       "    <tr>\n",
       "      <th>1</th>\n",
       "      <td>80</td>\n",
       "      <td>120</td>\n",
       "      <td>95</td>\n",
       "    </tr>\n",
       "    <tr>\n",
       "      <th>4</th>\n",
       "      <td>53</td>\n",
       "      <td>120</td>\n",
       "      <td>89</td>\n",
       "    </tr>\n",
       "    <tr>\n",
       "      <th>2</th>\n",
       "      <td>20</td>\n",
       "      <td>110</td>\n",
       "      <td>80</td>\n",
       "    </tr>\n",
       "    <tr>\n",
       "      <th>3</th>\n",
       "      <td>34</td>\n",
       "      <td>105</td>\n",
       "      <td>85</td>\n",
       "    </tr>\n",
       "  </tbody>\n",
       "</table>\n",
       "</div>"
      ],
      "text/plain": [
       "   나이  수축기혈압  이완기혈압\n",
       "5  75    128     90\n",
       "1  80    120     95\n",
       "4  53    120     89\n",
       "2  20    110     80\n",
       "3  34    105     85"
      ]
     },
     "execution_count": 57,
     "metadata": {},
     "output_type": "execute_result"
    }
   ],
   "source": [
    "dataframe_ex.sort_values(by='수축기혈압', ascending=False) #수축기혈압 을 기준으로 내림차순으로 정렬"
   ]
  },
  {
   "cell_type": "code",
   "execution_count": 75,
   "metadata": {
    "ExecuteTime": {
     "end_time": "2022-02-04T04:48:44.304431Z",
     "start_time": "2022-02-04T04:48:44.297475Z"
    }
   },
   "outputs": [
    {
     "data": {
      "text/plain": [
       "수    120\n",
       "목    110\n",
       "금    105\n",
       "dtype: int64"
      ]
     },
     "execution_count": 75,
     "metadata": {},
     "output_type": "execute_result"
    }
   ],
   "source": [
    "series_ex2[ series_ex2 > 100 ]"
   ]
  },
  {
   "cell_type": "code",
   "execution_count": 77,
   "metadata": {
    "ExecuteTime": {
     "end_time": "2022-02-04T04:49:05.709274Z",
     "start_time": "2022-02-04T04:49:05.698228Z"
    }
   },
   "outputs": [
    {
     "data": {
      "text/html": [
       "<div>\n",
       "<style scoped>\n",
       "    .dataframe tbody tr th:only-of-type {\n",
       "        vertical-align: middle;\n",
       "    }\n",
       "\n",
       "    .dataframe tbody tr th {\n",
       "        vertical-align: top;\n",
       "    }\n",
       "\n",
       "    .dataframe thead th {\n",
       "        text-align: right;\n",
       "    }\n",
       "</style>\n",
       "<table border=\"1\" class=\"dataframe\">\n",
       "  <thead>\n",
       "    <tr style=\"text-align: right;\">\n",
       "      <th></th>\n",
       "      <th>나이</th>\n",
       "      <th>수축기혈압</th>\n",
       "      <th>이완기혈압</th>\n",
       "    </tr>\n",
       "  </thead>\n",
       "  <tbody>\n",
       "    <tr>\n",
       "      <th>1</th>\n",
       "      <td>80</td>\n",
       "      <td>120</td>\n",
       "      <td>95</td>\n",
       "    </tr>\n",
       "    <tr>\n",
       "      <th>4</th>\n",
       "      <td>53</td>\n",
       "      <td>120</td>\n",
       "      <td>89</td>\n",
       "    </tr>\n",
       "    <tr>\n",
       "      <th>5</th>\n",
       "      <td>75</td>\n",
       "      <td>128</td>\n",
       "      <td>90</td>\n",
       "    </tr>\n",
       "  </tbody>\n",
       "</table>\n",
       "</div>"
      ],
      "text/plain": [
       "   나이  수축기혈압  이완기혈압\n",
       "1  80    120     95\n",
       "4  53    120     89\n",
       "5  75    128     90"
      ]
     },
     "execution_count": 77,
     "metadata": {},
     "output_type": "execute_result"
    }
   ],
   "source": [
    "dataframe_ex[ dataframe_ex['수축기혈압'] > 110 ] #수축기혈압 을 기준으로 110이상인 row만 출력"
   ]
  },
  {
   "cell_type": "markdown",
   "metadata": {},
   "source": [
    "## csv 파일 읽기"
   ]
  },
  {
   "cell_type": "code",
   "execution_count": 113,
   "metadata": {
    "ExecuteTime": {
     "end_time": "2022-02-04T05:43:50.477936Z",
     "start_time": "2022-02-04T05:43:50.470924Z"
    }
   },
   "outputs": [],
   "source": [
    "# csv 파일 읽기\n",
    "df = pd.read_csv('animals.csv')"
   ]
  },
  {
   "cell_type": "code",
   "execution_count": 114,
   "metadata": {
    "ExecuteTime": {
     "end_time": "2022-02-04T05:43:52.464594Z",
     "start_time": "2022-02-04T05:43:52.455619Z"
    }
   },
   "outputs": [
    {
     "data": {
      "text/html": [
       "<div>\n",
       "<style scoped>\n",
       "    .dataframe tbody tr th:only-of-type {\n",
       "        vertical-align: middle;\n",
       "    }\n",
       "\n",
       "    .dataframe tbody tr th {\n",
       "        vertical-align: top;\n",
       "    }\n",
       "\n",
       "    .dataframe thead th {\n",
       "        text-align: right;\n",
       "    }\n",
       "</style>\n",
       "<table border=\"1\" class=\"dataframe\">\n",
       "  <thead>\n",
       "    <tr style=\"text-align: right;\">\n",
       "      <th></th>\n",
       "      <th>개</th>\n",
       "      <th>dog</th>\n",
       "    </tr>\n",
       "  </thead>\n",
       "  <tbody>\n",
       "    <tr>\n",
       "      <th>0</th>\n",
       "      <td>고양이</td>\n",
       "      <td>cat</td>\n",
       "    </tr>\n",
       "    <tr>\n",
       "      <th>1</th>\n",
       "      <td>사자</td>\n",
       "      <td>lion</td>\n",
       "    </tr>\n",
       "    <tr>\n",
       "      <th>2</th>\n",
       "      <td>원숭이</td>\n",
       "      <td>monkey</td>\n",
       "    </tr>\n",
       "  </tbody>\n",
       "</table>\n",
       "</div>"
      ],
      "text/plain": [
       "     개     dog\n",
       "0  고양이     cat\n",
       "1   사자    lion\n",
       "2  원숭이  monkey"
      ]
     },
     "execution_count": 114,
     "metadata": {},
     "output_type": "execute_result"
    }
   ],
   "source": [
    "df"
   ]
  },
  {
   "cell_type": "markdown",
   "metadata": {},
   "source": [
    "[pandas 보충설명자료](https://laboputer.github.io/machine-learning/2020/04/07/pandas-10minutes/)"
   ]
  },
  {
   "cell_type": "markdown",
   "metadata": {},
   "source": [
    "# Class  \n",
    "[Class 보충설명자료](https://blockdmask.tistory.com/443)"
   ]
  },
  {
   "cell_type": "markdown",
   "metadata": {},
   "source": [
    "## Class 기본  \n",
    "클래스는 특정기능을 하는 함수들과 변수들을 모아서 하나의 뭉텅이로 관리를해서 마치 새로운 타입처럼 만들어서 데이터를 관리할 수 있는 개념 입니다.  \n",
    "스마트폰 이라고 하면 전화하기, 전화받기, 메시지 보내기, 메시지 받기 라는게있잖아요.  \n",
    "그러면 사람에 따라서 전화하기1, 전화하기2, 전화하기3 을 각각 함수를 만들게 아니라 스마트폰 자체를 스마트폰1, 스마트폰2, 스마트폰3을 각각 만들어 주면 각 스마트폰 마다 전화하기, 전화받기, 메시지 보내기, 메시지 받기가 다 안에 들어가있겠죠?  \n",
    "그 스마트폰을 만들어주는 틀을 클래스라고 합니다. 기계처럼 뚝딱 뚝딱 동일한 기능을 가지고 있는 스마트폰을 만들어주는 틀! \"클래스\" 입니다.  "
   ]
  },
  {
   "cell_type": "markdown",
   "metadata": {},
   "source": [
    "### example : person Class"
   ]
  },
  {
   "cell_type": "code",
   "execution_count": 6,
   "metadata": {
    "ExecuteTime": {
     "end_time": "2022-02-16T01:15:00.888429Z",
     "start_time": "2022-02-16T01:15:00.878454Z"
    }
   },
   "outputs": [],
   "source": [
    "class Person:\n",
    "\n",
    "    def __init__(self, name, age, money, *args, **kwargs): # instance 생성하는 함수\n",
    "        self.name = name\n",
    "        self.age = age\n",
    "        self.money = money\n",
    "    \n",
    "    def introduce(self):\n",
    "        print('안녕하세요, 저는 {age}살 {name} 입니다.'.format(age = self.age, name = self.name))\n",
    "    \n",
    "    def give(self, partner, amount):\n",
    "        self.money -= amount\n",
    "        partner.money += amount\n",
    "        \n",
    "    def meet(self, another):\n",
    "        print('{myname}이 {partner_name} 을 만났습니다!'.format(\n",
    "            myname = self.name,\n",
    "            partner_name = another.name\n",
    "        ))"
   ]
  },
  {
   "cell_type": "code",
   "execution_count": 7,
   "metadata": {
    "ExecuteTime": {
     "end_time": "2022-02-16T01:15:01.097436Z",
     "start_time": "2022-02-16T01:15:01.090451Z"
    }
   },
   "outputs": [
    {
     "name": "stdout",
     "output_type": "stream",
     "text": [
      "이몽룡 33\n"
     ]
    }
   ],
   "source": [
    "p1 = Person(name = '이몽룡', age = '33', money = 2000)\n",
    "print(p1.name, p1.age)"
   ]
  },
  {
   "cell_type": "code",
   "execution_count": 8,
   "metadata": {
    "ExecuteTime": {
     "end_time": "2022-02-16T01:15:01.306883Z",
     "start_time": "2022-02-16T01:15:01.301897Z"
    }
   },
   "outputs": [
    {
     "name": "stdout",
     "output_type": "stream",
     "text": [
      "안녕하세요, 저는 33살 이몽룡 입니다.\n"
     ]
    }
   ],
   "source": [
    "p1.introduce()"
   ]
  },
  {
   "cell_type": "code",
   "execution_count": 110,
   "metadata": {
    "ExecuteTime": {
     "end_time": "2022-02-16T04:40:28.305008Z",
     "start_time": "2022-02-16T04:40:28.298453Z"
    }
   },
   "outputs": [],
   "source": [
    "data = [\n",
    "        {'name' : '사람1', 'age':30, 'money' : 1000},\n",
    "        {'name' : '사람2', 'age':40, 'money' : 1000},\n",
    "        {'name' : '사람3', 'age':50, 'money' : 1000}\n",
    "]"
   ]
  },
  {
   "cell_type": "code",
   "execution_count": 111,
   "metadata": {
    "ExecuteTime": {
     "end_time": "2022-02-16T04:40:28.727329Z",
     "start_time": "2022-02-16T04:40:28.721726Z"
    }
   },
   "outputs": [],
   "source": [
    "people = [ Person(name = person['name'], age = person['age'], money = person['money']) for person in data]"
   ]
  },
  {
   "cell_type": "code",
   "execution_count": 112,
   "metadata": {
    "ExecuteTime": {
     "end_time": "2022-02-16T04:40:29.190654Z",
     "start_time": "2022-02-16T04:40:29.184668Z"
    }
   },
   "outputs": [
    {
     "name": "stdout",
     "output_type": "stream",
     "text": [
      "안녕하세요, 저는 30살 사람1 입니다.\n"
     ]
    }
   ],
   "source": [
    "people[0].introduce()"
   ]
  },
  {
   "cell_type": "code",
   "execution_count": 113,
   "metadata": {
    "ExecuteTime": {
     "end_time": "2022-02-16T04:40:29.673948Z",
     "start_time": "2022-02-16T04:40:29.667962Z"
    }
   },
   "outputs": [
    {
     "name": "stdout",
     "output_type": "stream",
     "text": [
      "안녕하세요, 저는 40살 사람2 입니다.\n"
     ]
    }
   ],
   "source": [
    "people[1].introduce()"
   ]
  },
  {
   "cell_type": "code",
   "execution_count": 114,
   "metadata": {
    "ExecuteTime": {
     "end_time": "2022-02-16T04:40:34.140225Z",
     "start_time": "2022-02-16T04:40:34.135239Z"
    }
   },
   "outputs": [
    {
     "name": "stdout",
     "output_type": "stream",
     "text": [
      "안녕하세요, 저는 50살 사람3 입니다.\n"
     ]
    }
   ],
   "source": [
    "people[2].introduce()"
   ]
  },
  {
   "cell_type": "code",
   "execution_count": 115,
   "metadata": {
    "ExecuteTime": {
     "end_time": "2022-02-16T04:40:34.970674Z",
     "start_time": "2022-02-16T04:40:34.964692Z"
    }
   },
   "outputs": [
    {
     "name": "stdout",
     "output_type": "stream",
     "text": [
      "이몽룡이 성춘향 을 만났습니다!\n"
     ]
    }
   ],
   "source": [
    "p2 = Person(name = '성춘향', age = '16', money = 5000)\n",
    "p1.meet(another = p2)"
   ]
  },
  {
   "cell_type": "code",
   "execution_count": 116,
   "metadata": {
    "ExecuteTime": {
     "end_time": "2022-02-16T04:40:41.852024Z",
     "start_time": "2022-02-16T04:40:41.845040Z"
    }
   },
   "outputs": [
    {
     "name": "stdout",
     "output_type": "stream",
     "text": [
      "5000\n",
      "2000\n",
      "3000\n",
      "4000\n"
     ]
    }
   ],
   "source": [
    "print(p2.money)\n",
    "print(p1.money)\n",
    "p2.give(partner = p1, amount = 2000)\n",
    "print(p2.money)\n",
    "print(p1.money)"
   ]
  },
  {
   "cell_type": "code",
   "execution_count": 16,
   "metadata": {
    "ExecuteTime": {
     "end_time": "2022-02-16T01:15:04.138854Z",
     "start_time": "2022-02-16T01:15:04.134865Z"
    }
   },
   "outputs": [
    {
     "name": "stdout",
     "output_type": "stream",
     "text": [
      "<__main__.Person object at 0x000001CADA675B88>\n"
     ]
    }
   ],
   "source": [
    "print(p1)"
   ]
  },
  {
   "cell_type": "code",
   "execution_count": 17,
   "metadata": {
    "ExecuteTime": {
     "end_time": "2022-02-16T01:15:04.727786Z",
     "start_time": "2022-02-16T01:15:04.717815Z"
    }
   },
   "outputs": [],
   "source": [
    "# Class에 아래의 코드를 추가하여 동작방식을 변경\n",
    "# 객체의 메소드의 동작방식을 바꿀 수 있다.\n",
    "class Person:\n",
    "\n",
    "    def __init__(self, name, age, money, *args, **kwargs): # instance 생성하는 함수\n",
    "        self.name = name\n",
    "        self.age = age\n",
    "        self.money = money\n",
    "    \n",
    "    def __str__(self): # print에 대한 기능 확장 (해당 class에 대해서)\n",
    "        return self.name\n",
    "    \n",
    "    def __add__(self, partner): # 사칙연산에 대한 기능 확장 (해당 class에 대해서)\n",
    "        print('{name} & {partner_name} | 결혼을 축하합니다.'.format(\n",
    "            name = self.name,\n",
    "            partner_name = partner.name\n",
    "        ))\n",
    "    \n",
    "    def introduce(self):\n",
    "        print('안녕하세요, 저는 {age}살 {name} 입니다.'.format(age = self.age, name = self.name))\n",
    "    \n",
    "    def give(self, partner, amount):\n",
    "        self.money -= amount\n",
    "        partner.money += amount\n",
    "        \n",
    "    def meet(self, another):\n",
    "        print('{myname}이 {partner_name} 을 만났습니다!'.format(\n",
    "            myname = self.name,\n",
    "            partner_name = another.name\n",
    "        ))"
   ]
  },
  {
   "cell_type": "code",
   "execution_count": 18,
   "metadata": {
    "ExecuteTime": {
     "end_time": "2022-02-16T01:15:05.255547Z",
     "start_time": "2022-02-16T01:15:05.250426Z"
    }
   },
   "outputs": [
    {
     "name": "stdout",
     "output_type": "stream",
     "text": [
      "이몽룡\n"
     ]
    }
   ],
   "source": [
    "p1 = Person(name = '이몽룡', age = '33', money = 2000)\n",
    "p2 = Person(name = '성춘향', age = '16', money = 5000)\n",
    "print(p1)"
   ]
  },
  {
   "cell_type": "code",
   "execution_count": 19,
   "metadata": {
    "ExecuteTime": {
     "end_time": "2022-02-16T01:15:05.873336Z",
     "start_time": "2022-02-16T01:15:05.868379Z"
    }
   },
   "outputs": [
    {
     "name": "stdout",
     "output_type": "stream",
     "text": [
      "이몽룡 & 성춘향 | 결혼을 축하합니다.\n"
     ]
    }
   ],
   "source": [
    "p1 + p2"
   ]
  },
  {
   "cell_type": "markdown",
   "metadata": {},
   "source": [
    "### example : Triangle Class  \n",
    "* State : height, width  \n",
    "* Behavior : area(넓이계산), is_bigger(다른 삼각형이랑 비교)"
   ]
  },
  {
   "cell_type": "code",
   "execution_count": 20,
   "metadata": {
    "ExecuteTime": {
     "end_time": "2022-02-16T01:15:07.229067Z",
     "start_time": "2022-02-16T01:15:07.222106Z"
    }
   },
   "outputs": [],
   "source": [
    "class Triangle:\n",
    "    def __init__(self, height, width):\n",
    "        self.height = height\n",
    "        self.width = width\n",
    "    \n",
    "    def __str__(self):\n",
    "        return '({width}, {height}) Triangle'.format(\n",
    "            width = self.width,\n",
    "            height = self.height\n",
    "        )\n",
    "    \n",
    "    def area(self):\n",
    "        self.area = self.height * self.width * 1/2\n",
    "        return self.area\n",
    "    \n",
    "    def is_bigger(self, another):\n",
    "        return '큽니다' if self.area() > another.area() else ('작습니다' if self.area() < another.area() else '똑같습니다.')        "
   ]
  },
  {
   "cell_type": "code",
   "execution_count": 21,
   "metadata": {
    "ExecuteTime": {
     "end_time": "2022-02-16T01:15:07.780637Z",
     "start_time": "2022-02-16T01:15:07.773656Z"
    }
   },
   "outputs": [
    {
     "name": "stdout",
     "output_type": "stream",
     "text": [
      "(20, 10) Triangle\n"
     ]
    }
   ],
   "source": [
    "t1 = Triangle(10, 20)\n",
    "print(t1)"
   ]
  },
  {
   "cell_type": "code",
   "execution_count": 22,
   "metadata": {
    "ExecuteTime": {
     "end_time": "2022-02-16T01:15:08.054982Z",
     "start_time": "2022-02-16T01:15:08.049915Z"
    }
   },
   "outputs": [
    {
     "name": "stdout",
     "output_type": "stream",
     "text": [
      "(5, 10) Triangle\n"
     ]
    }
   ],
   "source": [
    "t2 = Triangle(10,5)\n",
    "print(t2)"
   ]
  },
  {
   "cell_type": "code",
   "execution_count": 23,
   "metadata": {
    "ExecuteTime": {
     "end_time": "2022-02-16T01:15:08.269334Z",
     "start_time": "2022-02-16T01:15:08.253373Z"
    }
   },
   "outputs": [
    {
     "data": {
      "text/plain": [
       "'큽니다'"
      ]
     },
     "execution_count": 23,
     "metadata": {},
     "output_type": "execute_result"
    }
   ],
   "source": [
    "t1.is_bigger(t2)"
   ]
  },
  {
   "cell_type": "markdown",
   "metadata": {
    "ExecuteTime": {
     "end_time": "2022-02-04T05:31:38.619993Z",
     "start_time": "2022-02-04T05:31:38.614034Z"
    }
   },
   "source": [
    "## Class 상속 (객체의 상속, Inheritance)  \n",
    "모든 Class는 일단 object Class에서 상속을 받는 형태  \n",
    "class object: _init_, __str__, __add__ 같은 method들이 사전에 정의되어 있음  \n",
    "새로 만드는 class에서 저런 동적을 변경하고 싶다면 위의 method들을 재정의하면 됨, 그러한 동적을 method overriding이라고 칭함"
   ]
  },
  {
   "cell_type": "markdown",
   "metadata": {},
   "source": [
    "### 1.4.2.1  simple example   \n",
    "동물 : 행동 (eat, attack)  \n",
    "강아지 : (+ 행동 : bark)  \n",
    "새 : (+ 행동 : fly)"
   ]
  },
  {
   "cell_type": "code",
   "execution_count": 118,
   "metadata": {
    "ExecuteTime": {
     "end_time": "2022-02-16T04:43:06.263703Z",
     "start_time": "2022-02-16T04:43:06.257721Z"
    }
   },
   "outputs": [],
   "source": [
    "class Animal: # 사실상 기본적으로 class Animal(object): 이런식으로 상속 받는 것 \n",
    "              # class object: __init__, __str__, __add__, 이런게 미리 다 정의되어 있는 것!\n",
    "    \n",
    "    def eat(self):\n",
    "        print('먹는다!!!')\n",
    "        \n",
    "    def attack(self):\n",
    "        print('공격!!!')"
   ]
  },
  {
   "cell_type": "code",
   "execution_count": 119,
   "metadata": {
    "ExecuteTime": {
     "end_time": "2022-02-16T04:43:06.729758Z",
     "start_time": "2022-02-16T04:43:06.723775Z"
    }
   },
   "outputs": [],
   "source": [
    "class Dog(Animal):\n",
    "    def bark(self):\n",
    "        print('월월!!')"
   ]
  },
  {
   "cell_type": "code",
   "execution_count": 120,
   "metadata": {
    "ExecuteTime": {
     "end_time": "2022-02-16T04:43:06.849438Z",
     "start_time": "2022-02-16T04:43:06.843455Z"
    }
   },
   "outputs": [
    {
     "name": "stdout",
     "output_type": "stream",
     "text": [
      "월월!!\n",
      "먹는다!!!\n"
     ]
    }
   ],
   "source": [
    "dog = Dog()\n",
    "dog.bark()\n",
    "dog.eat()  # Dog  Class 에는 없던 eat 가 실행됨 - 생성시에 Animal을 상속했기 때문"
   ]
  },
  {
   "cell_type": "code",
   "execution_count": 121,
   "metadata": {
    "ExecuteTime": {
     "end_time": "2022-02-16T04:43:07.584147Z",
     "start_time": "2022-02-16T04:43:07.579161Z"
    }
   },
   "outputs": [],
   "source": [
    "class Bird(Animal):\n",
    "    def fly(self):\n",
    "        print('날다')"
   ]
  },
  {
   "cell_type": "code",
   "execution_count": 122,
   "metadata": {
    "ExecuteTime": {
     "end_time": "2022-02-16T04:43:08.187742Z",
     "start_time": "2022-02-16T04:43:08.181747Z"
    }
   },
   "outputs": [
    {
     "name": "stdout",
     "output_type": "stream",
     "text": [
      "날다\n"
     ]
    }
   ],
   "source": [
    "bird = Bird()\n",
    "bird.fly()"
   ]
  },
  {
   "cell_type": "code",
   "execution_count": 123,
   "metadata": {
    "ExecuteTime": {
     "end_time": "2022-02-16T04:43:08.945671Z",
     "start_time": "2022-02-16T04:43:08.934701Z"
    },
    "scrolled": true
   },
   "outputs": [
    {
     "ename": "AttributeError",
     "evalue": "'Dog' object has no attribute 'fly'",
     "output_type": "error",
     "traceback": [
      "\u001b[1;31m---------------------------------------------------------------------------\u001b[0m",
      "\u001b[1;31mAttributeError\u001b[0m                            Traceback (most recent call last)",
      "\u001b[1;32m<ipython-input-123-40b3a8534e78>\u001b[0m in \u001b[0;36m<module>\u001b[1;34m\u001b[0m\n\u001b[1;32m----> 1\u001b[1;33m \u001b[0mdog\u001b[0m\u001b[1;33m.\u001b[0m\u001b[0mfly\u001b[0m\u001b[1;33m(\u001b[0m\u001b[1;33m)\u001b[0m  \u001b[1;31m#그런 메소드는 없으므로 에러 발생\u001b[0m\u001b[1;33m\u001b[0m\u001b[1;33m\u001b[0m\u001b[0m\n\u001b[0m",
      "\u001b[1;31mAttributeError\u001b[0m: 'Dog' object has no attribute 'fly'"
     ]
    }
   ],
   "source": [
    "dog.fly()  #그런 메소드는 없으므로 에러 발생"
   ]
  },
  {
   "cell_type": "markdown",
   "metadata": {},
   "source": [
    "### Method Overriding"
   ]
  },
  {
   "cell_type": "code",
   "execution_count": null,
   "metadata": {
    "ExecuteTime": {
     "end_time": "2022-02-16T01:15:15.204250Z",
     "start_time": "2022-02-16T01:15:15.198129Z"
    }
   },
   "outputs": [],
   "source": [
    "class Dog(Animal):\n",
    "    \n",
    "    def eat(self):\n",
    "        print('침을 흘리면서 먹는다!!') # method overriding\n",
    "    \n",
    "    def bark(self):\n",
    "        print('월월!!')"
   ]
  },
  {
   "cell_type": "code",
   "execution_count": null,
   "metadata": {
    "ExecuteTime": {
     "end_time": "2022-02-16T01:15:15.204250Z",
     "start_time": "2022-02-16T01:15:15.198129Z"
    }
   },
   "outputs": [],
   "source": [
    "dog = Dog()\n",
    "dog.eat()  # 기존 Anumal의 eat 대신에 Dog에서 선언한 eat를 실행"
   ]
  },
  {
   "cell_type": "markdown",
   "metadata": {},
   "source": [
    "# 단축키"
   ]
  },
  {
   "cell_type": "markdown",
   "metadata": {
    "ExecuteTime": {
     "end_time": "2022-02-16T01:12:42.763580Z",
     "start_time": "2022-02-16T01:12:42.752606Z"
    }
   },
   "source": [
    "shift + Enter  : 해당 cell을 실행하고 다음 cell로 이동  \n",
    "ctrl + Enter  : 해당 cell을 실행하고 현재 cell에 머뭄  \n",
    "alt + Enter  : 해당 cell을 실행하고 다음칸에 빈cell을 생성하고 이동        \n",
    "ctrl + / : 해당 라인 주석 처리  \n",
    "cell 내에 커서 있을 때, cell 테두리가 녹색 : 키보드 입력은 cell에 반영  \n",
    "    => esc 누르면 cell 테두리가 파란색으로 바뀌고 키보드 입력은 기능으로 작동      \n",
    "cell 내에 커서 없을 때, cell 테두리가 파란색 : 키보드 입력은 기능으로 작동      \n",
    "    => enter 치거나, cell 내를 클릭하면 cell 테두리가 녹색 : 키보드 입력은 cell에 반영  \n",
    "a : 윗 칸에 빈 cell 생성  \n",
    "b : 아래 칸에 빈 cell 생성      \n",
    "c : 선택된 cell 을 복사  \n",
    "v : 현재 cell 아래에 복사해둔 cell을 복사(끼워넣기)  \n",
    "x : 선택된 cell 을 삭제  \n",
    "shfit 누르고 여러 cell 클릭하여 선택 가능  \n",
    "shift + m : 선택된 cell과 아래 cell을 합치기  \n",
    "ctrl + shift + - : 선택된 cell 안에서, 현재 위치 기준으로 2개의 cell로 나누기      \n",
    "m : markdown 모드로 변경  \n",
    "c : coding 모드로 변경      "
   ]
  },
  {
   "cell_type": "markdown",
   "metadata": {
    "ExecuteTime": {
     "end_time": "2022-02-16T01:14:07.446334Z",
     "start_time": "2022-02-16T01:14:07.439353Z"
    }
   },
   "source": [
    "[Jupyter Notebook의 주요 단축키 모음](https://kkokkilkon.tistory.com/151)"
   ]
  },
  {
   "cell_type": "code",
   "execution_count": null,
   "metadata": {},
   "outputs": [],
   "source": []
  }
 ],
 "metadata": {
  "kernelspec": {
   "display_name": "Python 3",
   "language": "python",
   "name": "python3"
  },
  "language_info": {
   "codemirror_mode": {
    "name": "ipython",
    "version": 3
   },
   "file_extension": ".py",
   "mimetype": "text/x-python",
   "name": "python",
   "nbconvert_exporter": "python",
   "pygments_lexer": "ipython3",
   "version": "3.7.6"
  },
  "toc": {
   "base_numbering": 1,
   "nav_menu": {},
   "number_sections": true,
   "sideBar": true,
   "skip_h1_title": false,
   "title_cell": "Table of Contents",
   "title_sidebar": "Contents",
   "toc_cell": false,
   "toc_position": {
    "height": "calc(100% - 180px)",
    "left": "10px",
    "top": "150px",
    "width": "242.976px"
   },
   "toc_section_display": true,
   "toc_window_display": false
  }
 },
 "nbformat": 4,
 "nbformat_minor": 2
}
