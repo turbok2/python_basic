{
 "cells": [
  {
   "cell_type": "markdown",
   "metadata": {},
   "source": [
    "# Python 기초  "
   ]
  },
  {
   "cell_type": "markdown",
   "metadata": {},
   "source": [
    "[구글 코랩에서 열기](https://colab.research.google.com/github/turbok2/python_basic/blob/main/20230131/Quiz_Python_basic.ipynb)   2023.1.31"
   ]
  },
  {
   "cell_type": "markdown",
   "metadata": {},
   "source": [
    "- 코랩에서 열리면 상단 메뉴 - 파일 - 드라이브에 사본 저장 선택\n",
    "- 새탭으로 열기 선택\n",
    "- 이 파일은 강사의 소유이므로 여기서 여러 사람이 실행하면 문제 발생함,  복사본을 만들어 자신의 구글드라이브에 복사된 걸 사용해야 함\n",
    "- 상단의 파일이름을 클릭하고 원하는 이름으로 변경"
   ]
  },
  {
   "cell_type": "markdown",
   "metadata": {
    "ExecuteTime": {
     "end_time": "2022-05-26T02:53:10.849118Z",
     "start_time": "2022-05-26T02:53:10.827175Z"
    }
   },
   "source": [
    "Summary\n",
    "* Data Types (자료형) - String, Number(Integer, ...), Elements(List, Set, Dict, Tuple), Boolean\n",
    "* Conditional Statement (조건문) - if, elef, else\n",
    "* Loops (반복문) - for, (range, list, dict(dict.items()))\n",
    "* Function (함수) - def, return\n",
    "* String - split, join, replace\n",
    "* File I/O - open, read, write"
   ]
  },
  {
   "cell_type": "markdown",
   "metadata": {},
   "source": [
    "## Data Types "
   ]
  },
  {
   "cell_type": "markdown",
   "metadata": {},
   "source": [
    "### 숫자 "
   ]
  },
  {
   "cell_type": "markdown",
   "metadata": {},
   "source": [
    "### 문자 "
   ]
  },
  {
   "cell_type": "markdown",
   "metadata": {},
   "source": [
    "#### Quiz0) 변수에 대해 설명하시오.  "
   ]
  },
  {
   "cell_type": "markdown",
   "metadata": {},
   "source": [
    "[힌트](https://bigdaheta.tistory.com/4)"
   ]
  },
  {
   "cell_type": "markdown",
   "metadata": {},
   "source": [
    "어떤 값을 담는 상자 , 변할 수 있다. "
   ]
  },
  {
   "cell_type": "markdown",
   "metadata": {
    "ExecuteTime": {
     "end_time": "2022-06-28T00:25:50.941219Z",
     "start_time": "2022-06-28T00:25:50.930245Z"
    }
   },
   "source": [
    "#### Quiz1) 변수를 이용하여 다음 문장을 출력하시오.  \n",
    "  변수명 : department  \n",
    "  변수값 : \"핵의학과\", \"순환기내과\",\"외상외과\"  \n",
    "  출력문장 : XX에 오신 것을 환영합니다.  "
   ]
  },
  {
   "cell_type": "code",
   "execution_count": 1,
   "metadata": {
    "ExecuteTime": {
     "end_time": "2022-02-16T10:35:14.005880Z",
     "start_time": "2022-02-16T10:35:13.999965Z"
    }
   },
   "outputs": [
    {
     "name": "stdout",
     "output_type": "stream",
     "text": [
      "핵의학과에 오신 것을 환영합니다.\n",
      "순환기내과에 오신 것을 환영합니다.\n",
      "외상외과에 오신 것을 환영합니다.\n"
     ]
    }
   ],
   "source": [
    "department=\"핵의학과\"\n",
    "print(department+\"에 오신 것을 환영합니다.\")\n",
    "department=\"순환기내과\"\n",
    "print(department+\"에 오신 것을 환영합니다.\")\n",
    "department=\"외상외과\"\n",
    "print(department+\"에 오신 것을 환영합니다.\")"
   ]
  },
  {
   "cell_type": "markdown",
   "metadata": {},
   "source": [
    "- 위의 결과와 아래 결과의 차이점? print 함수는 ,으로 구분된 변수들을 출력할 때 공백을 자동으로 포함시킨다."
   ]
  },
  {
   "cell_type": "code",
   "execution_count": 1,
   "metadata": {
    "ExecuteTime": {
     "end_time": "2022-05-26T00:14:52.960460Z",
     "start_time": "2022-05-26T00:14:52.940515Z"
    }
   },
   "outputs": [
    {
     "name": "stdout",
     "output_type": "stream",
     "text": [
      "핵의학과 에 오신 것을 환영합니다.\n",
      "순환기내과 에 오신 것을 환영합니다.\n",
      "외상외과 에 오신 것을 환영합니다.\n"
     ]
    }
   ],
   "source": [
    "department=\"핵의학과\"\n",
    "print(department,\"에 오신 것을 환영합니다.\")\n",
    "department=\"순환기내과\"\n",
    "print(department,\"에 오신 것을 환영합니다.\")\n",
    "department=\"외상외과\"\n",
    "print(department,\"에 오신 것을 환영합니다.\")"
   ]
  },
  {
   "cell_type": "markdown",
   "metadata": {},
   "source": [
    "### List\n",
    "1. 여러 Elements 들을 저장하고 있는 자료형 (Element 하나하나는 어떤 자료형 상관 X)\n",
    "2. 중복이 가능, 순서가 있음"
   ]
  },
  {
   "cell_type": "markdown",
   "metadata": {
    "ExecuteTime": {
     "end_time": "2022-02-16T01:41:24.680282Z",
     "start_time": "2022-02-16T01:41:24.674296Z"
    }
   },
   "source": [
    "#### Quiz2) list를 이용하여 다음 문장을 출력하시오.¶  \n",
    "변수명 : department  \n",
    "변수값 : \"핵의학과\", \"순환기내과\",\"외상외과\"  \n",
    "출력문장 : XX에 오신 것을 환영합니다.  "
   ]
  },
  {
   "cell_type": "code",
   "execution_count": 36,
   "metadata": {
    "ExecuteTime": {
     "end_time": "2022-02-16T10:53:40.934609Z",
     "start_time": "2022-02-16T10:53:40.928506Z"
    }
   },
   "outputs": [
    {
     "name": "stdout",
     "output_type": "stream",
     "text": [
      "핵의학과에 오신 것을 환영합니다.\n",
      "순환기내과에 오신 것을 환영합니다.\n",
      "외상외과에 오신 것을 환영합니다.\n"
     ]
    }
   ],
   "source": [
    "department=[\"핵의학과\", \"순환기내과\",\"외상외과\"]\n",
    "print(department[0]+\"에 오신 것을 환영합니다.\")\n",
    "print(department[1]+\"에 오신 것을 환영합니다.\")\n",
    "print(department[2]+\"에 오신 것을 환영합니다.\")"
   ]
  },
  {
   "cell_type": "markdown",
   "metadata": {},
   "source": [
    "### Set\n",
    "1. 여러 Elements 들을 저장하고 있는 자료형\n",
    "2. 중복 X, 순서 X"
   ]
  },
  {
   "cell_type": "markdown",
   "metadata": {},
   "source": [
    "#### example : unique한 alphabet 뽑기"
   ]
  },
  {
   "cell_type": "markdown",
   "metadata": {},
   "source": [
    "### Dictionary "
   ]
  },
  {
   "cell_type": "markdown",
   "metadata": {},
   "source": [
    "### Tuple\n",
    "1. List, Dict, Set => 한번 정의해두고, 그리고 나서 데이터를 수정이 가능\n",
    "2. Tuple은 한번 정의해두면 끝, 수정 불가"
   ]
  },
  {
   "cell_type": "markdown",
   "metadata": {},
   "source": [
    "### Boolean"
   ]
  },
  {
   "cell_type": "markdown",
   "metadata": {},
   "source": [
    "* 심화 : [cheatsheet2](https://pycheatsheet.junekim.xyz/?fbclid=IwAR0XaYWcE9zjvDyk2Dvx6tJLkhXONNJeKqV6PbeEhqoSk-75iUmfc4kNreg#type-collections)"
   ]
  },
  {
   "cell_type": "markdown",
   "metadata": {
    "ExecuteTime": {
     "end_time": "2022-02-04T02:26:10.485340Z",
     "start_time": "2022-02-04T02:26:10.474372Z"
    }
   },
   "source": [
    "* Tip1"
   ]
  },
  {
   "cell_type": "markdown",
   "metadata": {},
   "source": [
    "* 심화 : [cheatsheet2](https://pycheatsheet.junekim.xyz/?fbclid=IwAR0XaYWcE9zjvDyk2Dvx6tJLkhXONNJeKqV6PbeEhqoSk-75iUmfc4kNreg#type-string-formatting)"
   ]
  },
  {
   "cell_type": "markdown",
   "metadata": {},
   "source": [
    "## Conditional Statement "
   ]
  },
  {
   "cell_type": "markdown",
   "metadata": {},
   "source": [
    "## Loop"
   ]
  },
  {
   "cell_type": "markdown",
   "metadata": {},
   "source": [
    "### Loop for list "
   ]
  },
  {
   "cell_type": "markdown",
   "metadata": {},
   "source": [
    "### Loop for dictionary "
   ]
  },
  {
   "cell_type": "markdown",
   "metadata": {
    "ExecuteTime": {
     "end_time": "2022-02-16T01:44:12.358101Z",
     "start_time": "2022-02-16T01:44:12.353080Z"
    }
   },
   "source": [
    "#### Quiz3) for와 list를 이용하여 다음 문장을 출력하시오.  \n",
    "변수명 : departments \n",
    "변수값 : \"핵의학과\", \"순환기내과\",\"외상외과\"  \n",
    "출력문장 : XX에 오신 것을 환영합니다.  "
   ]
  },
  {
   "cell_type": "code",
   "execution_count": 84,
   "metadata": {
    "ExecuteTime": {
     "end_time": "2022-02-16T11:38:48.503928Z",
     "start_time": "2022-02-16T11:38:48.497945Z"
    }
   },
   "outputs": [
    {
     "name": "stdout",
     "output_type": "stream",
     "text": [
      "핵의학과에 오신 것을 환영합니다.\n",
      "순환기내과에 오신 것을 환영합니다.\n",
      "외상외과에 오신 것을 환영합니다.\n"
     ]
    }
   ],
   "source": [
    "departments=[\"핵의학과\", \"순환기내과\",\"외상외과\"]\n",
    "for department in departments:\n",
    "    print(department+\"에 오신 것을 환영합니다.\")"
   ]
  },
  {
   "cell_type": "markdown",
   "metadata": {},
   "source": [
    "## Function"
   ]
  },
  {
   "cell_type": "markdown",
   "metadata": {},
   "source": [
    "#### Quiz4) for와 list 를 이용하여 다음 문장을 출력하는  **함수** 를 만들어 다음 문장을 출력하시오.   \n",
    "변수명 : department  \n",
    "변수값 : \"핵의학과\", \"순환기내과\",\"외상외과\"\n",
    "함수명 : welcome\n",
    "출력문장 : XX에 오신 것을 환영합니다.  "
   ]
  },
  {
   "cell_type": "code",
   "execution_count": 101,
   "metadata": {
    "ExecuteTime": {
     "end_time": "2022-02-17T00:03:07.363878Z",
     "start_time": "2022-02-17T00:03:07.348918Z"
    }
   },
   "outputs": [
    {
     "name": "stdout",
     "output_type": "stream",
     "text": [
      "핵의학과에 오신 것을 환영합니다.\n",
      "순환기내과에 오신 것을 환영합니다.\n",
      "외상외과에 오신 것을 환영합니다.\n"
     ]
    }
   ],
   "source": [
    "def welcome(departments):\n",
    "    for department in departments:\n",
    "        print(department+\"에 오신 것을 환영합니다.\")\n",
    "\n",
    "departments=[\"핵의학과\", \"순환기내과\",\"외상외과\"]\n",
    "welcome(departments)"
   ]
  },
  {
   "cell_type": "markdown",
   "metadata": {},
   "source": [
    "## String과 관련된 함수들\n",
    "split, join, replace, startswith, endswith, ..."
   ]
  },
  {
   "cell_type": "markdown",
   "metadata": {},
   "source": [
    "### split & join "
   ]
  },
  {
   "cell_type": "markdown",
   "metadata": {},
   "source": [
    "### replace"
   ]
  },
  {
   "cell_type": "markdown",
   "metadata": {},
   "source": [
    "### search"
   ]
  },
  {
   "cell_type": "markdown",
   "metadata": {},
   "source": [
    "### startswith & endswith"
   ]
  },
  {
   "cell_type": "markdown",
   "metadata": {},
   "source": [
    "## File I/O"
   ]
  },
  {
   "cell_type": "code",
   "execution_count": null,
   "metadata": {},
   "outputs": [],
   "source": []
  },
  {
   "cell_type": "markdown",
   "metadata": {},
   "source": [
    "Summary\n",
    "* Lambda (익명 함수)  \n",
    "    * 함수형 프로그래밍  \n",
    "    (익명함수 Lambda + Lambda Operator - map, reduce, filter)  \n",
    "        * map : 모든 element에 동일한 함수 적용  \n",
    "        * filter 모든 element에 동일한 함수 적용, 결과가 참인 element => List  \n",
    "        * reduce 모든 element... 줄여나가다가 => 값!!  \n",
    "* List Comprehension  \n",
    "    * [i___ for i in elements if _____]"
   ]
  },
  {
   "cell_type": "markdown",
   "metadata": {},
   "source": [
    "## Lambda  \n",
    "* Lambda (이름이 있는 함수..., 익명함수) + Lambda Operator (map, filter, reduce)"
   ]
  },
  {
   "cell_type": "markdown",
   "metadata": {},
   "source": [
    "### map(function, list) => list  \n",
    "* list의 각각의 element에 동일한 function을 적용해서 새로운 list를 반환"
   ]
  },
  {
   "cell_type": "markdown",
   "metadata": {},
   "source": [
    "### filter(function, list) => list  \n",
    "* list의 각각의 element에 대해서 동일한 function을 적용한 다음에, 함수의 결과가 True인 Element만 남겨서 새로운 list 반환"
   ]
  },
  {
   "cell_type": "markdown",
   "metadata": {},
   "source": [
    "### reduce(function, list) => value"
   ]
  },
  {
   "cell_type": "markdown",
   "metadata": {
    "ExecuteTime": {
     "end_time": "2022-02-04T02:13:49.832283Z",
     "start_time": "2022-02-04T02:13:49.826295Z"
    }
   },
   "source": [
    "## List Comprehension  \n",
    "list를 정의하는 것처럼 쓰지만. 실제로 내부적으로는 Lambda Operator  \n",
    "[i--- for i in elements if ----]"
   ]
  },
  {
   "cell_type": "markdown",
   "metadata": {},
   "source": [
    "## Class  \n",
    "[Class 보충설명자료](https://blockdmask.tistory.com/443)"
   ]
  },
  {
   "cell_type": "markdown",
   "metadata": {},
   "source": [
    "### Class 기본  \n",
    "클래스는 특정기능을 하는 함수들과 변수들을 모아서 하나의 뭉텅이로 관리를해서 마치 새로운 타입처럼 만들어서 데이터를 관리할 수 있는 개념 입니다.  \n",
    "스마트폰 이라고 하면 전화하기, 전화받기, 메시지 보내기, 메시지 받기 라는게있잖아요.  \n",
    "그러면 사람에 따라서 전화하기1, 전화하기2, 전화하기3 을 각각 함수를 만들게 아니라 스마트폰 자체를 스마트폰1, 스마트폰2, 스마트폰3을 각각 만들어 주면 각 스마트폰 마다 전화하기, 전화받기, 메시지 보내기, 메시지 받기가 다 안에 들어가있겠죠?  \n",
    "그 스마트폰을 만들어주는 틀을 클래스라고 합니다. 기계처럼 뚝딱 뚝딱 동일한 기능을 가지고 있는 스마트폰을 만들어주는 틀! \"클래스\" 입니다.  "
   ]
  },
  {
   "cell_type": "markdown",
   "metadata": {},
   "source": [
    "#### example : person Class"
   ]
  },
  {
   "cell_type": "markdown",
   "metadata": {},
   "source": [
    "#### example : Triangle Class  \n",
    "* State : height, width  \n",
    "* Behavior : area(넓이계산), is_bigger(다른 삼각형이랑 비교)"
   ]
  },
  {
   "cell_type": "markdown",
   "metadata": {
    "ExecuteTime": {
     "end_time": "2022-02-04T05:31:38.619993Z",
     "start_time": "2022-02-04T05:31:38.614034Z"
    }
   },
   "source": [
    "### Class 상속 (객체의 상속, Inheritance)  \n",
    "모든 Class는 일단 object Class에서 상속을 받는 형태  \n",
    "class object: _init_, __str__, __add__ 같은 method들이 사전에 정의되어 있음  \n",
    "새로 만드는 class에서 저런 동적을 변경하고 싶다면 위의 method들을 재정의하면 됨, 그러한 동적을 method overriding이라고 칭함"
   ]
  },
  {
   "cell_type": "markdown",
   "metadata": {},
   "source": [
    "#### simple example   \n",
    "동물 : 행동 (eat, attack)  \n",
    "강아지 : (+ 행동 : bark)  \n",
    "새 : (+ 행동 : fly)"
   ]
  },
  {
   "cell_type": "markdown",
   "metadata": {},
   "source": [
    "#### Method Overriding"
   ]
  },
  {
   "cell_type": "markdown",
   "metadata": {},
   "source": [
    "# Numpy"
   ]
  },
  {
   "cell_type": "markdown",
   "metadata": {},
   "source": [
    "# Pandas  \n",
    "[pandas 사용법 알아보기](https://laboputer.github.io/machine-learning/2020/04/07/pandas-10minutes/)"
   ]
  },
  {
   "cell_type": "markdown",
   "metadata": {},
   "source": [
    "## Series"
   ]
  },
  {
   "cell_type": "markdown",
   "metadata": {},
   "source": [
    "## Dataframe"
   ]
  },
  {
   "cell_type": "markdown",
   "metadata": {},
   "source": [
    "## csv 파일 읽기"
   ]
  }
 ],
 "metadata": {
  "kernelspec": {
   "display_name": "torch",
   "language": "python",
   "name": "torch"
  },
  "language_info": {
   "codemirror_mode": {
    "name": "ipython",
    "version": 3
   },
   "file_extension": ".py",
   "mimetype": "text/x-python",
   "name": "python",
   "nbconvert_exporter": "python",
   "pygments_lexer": "ipython3",
   "version": "3.6.13"
  },
  "toc": {
   "base_numbering": 1,
   "nav_menu": {},
   "number_sections": true,
   "sideBar": true,
   "skip_h1_title": false,
   "title_cell": "Table of Contents",
   "title_sidebar": "Contents",
   "toc_cell": false,
   "toc_position": {
    "height": "calc(100% - 180px)",
    "left": "10px",
    "top": "150px",
    "width": "243px"
   },
   "toc_section_display": true,
   "toc_window_display": true
  }
 },
 "nbformat": 4,
 "nbformat_minor": 2
}
