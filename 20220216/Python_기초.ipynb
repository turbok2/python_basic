{
 "cells": [
  {
   "cell_type": "markdown",
   "metadata": {},
   "source": [
    "# Python 기초  "
   ]
  },
  {
   "cell_type": "markdown",
   "metadata": {},
   "source": [
    "[구글 코랩에서 열기](https://colab.research.google.com/github/turbok2/python_basic/blob/main/20220216/Python_%EA%B8%B0%EC%B4%88.ipynb)"
   ]
  },
  {
   "cell_type": "markdown",
   "metadata": {},
   "source": [
    "Summary\n",
    "* Data Types (자료형) - String, Number(Integer, ...), Elements(List, Set, Dict, Tuple), Boolean\n",
    "* Conditional Statement (조건문) - if, elef, else\n",
    "* Loops (반복문) - for, (range, list, dict(dict.items()))\n",
    "* Function (함수) - def, return\n",
    "* String - split, join, replace\n",
    "* File I/O - open, read, write"
   ]
  },
  {
   "cell_type": "markdown",
   "metadata": {},
   "source": [
    "## Data Types "
   ]
  },
  {
   "cell_type": "markdown",
   "metadata": {},
   "source": [
    "### 숫자 "
   ]
  },
  {
   "cell_type": "code",
   "execution_count": 2,
   "metadata": {
    "ExecuteTime": {
     "end_time": "2022-01-26T02:39:33.208428Z",
     "start_time": "2022-01-26T02:39:33.197459Z"
    }
   },
   "outputs": [
    {
     "name": "stdout",
     "output_type": "stream",
     "text": [
      "1000\n",
      "1000.0\n",
      "-100\n",
      "20000\n",
      "0.5\n",
      "12\n"
     ]
    }
   ],
   "source": [
    "print(1000)\n",
    "print(1000.0)\n",
    "print(100 - 200)\n",
    "print(100 * 200)\n",
    "print(100 / 200)\n",
    "print(12)"
   ]
  },
  {
   "cell_type": "code",
   "execution_count": 3,
   "metadata": {
    "ExecuteTime": {
     "end_time": "2022-01-26T02:39:33.361041Z",
     "start_time": "2022-01-26T02:39:33.356033Z"
    }
   },
   "outputs": [
    {
     "name": "stdout",
     "output_type": "stream",
     "text": [
      "6367237\n"
     ]
    }
   ],
   "source": [
    "print(6367237)"
   ]
  },
  {
   "cell_type": "markdown",
   "metadata": {},
   "source": [
    "type : 자료형을 알려주는 함수"
   ]
  },
  {
   "cell_type": "code",
   "execution_count": 4,
   "metadata": {
    "ExecuteTime": {
     "end_time": "2022-01-26T02:39:33.709156Z",
     "start_time": "2022-01-26T02:39:33.693199Z"
    }
   },
   "outputs": [
    {
     "data": {
      "text/plain": [
       "int"
      ]
     },
     "execution_count": 4,
     "metadata": {},
     "output_type": "execute_result"
    }
   ],
   "source": [
    "b=1\n",
    "type(b)"
   ]
  },
  {
   "cell_type": "code",
   "execution_count": 5,
   "metadata": {
    "ExecuteTime": {
     "end_time": "2022-01-26T02:39:33.872720Z",
     "start_time": "2022-01-26T02:39:33.865739Z"
    }
   },
   "outputs": [
    {
     "data": {
      "text/plain": [
       "float"
      ]
     },
     "execution_count": 5,
     "metadata": {},
     "output_type": "execute_result"
    }
   ],
   "source": [
    "c=1.0\n",
    "type(c)"
   ]
  },
  {
   "cell_type": "markdown",
   "metadata": {},
   "source": [
    "### 문자 "
   ]
  },
  {
   "cell_type": "code",
   "execution_count": 6,
   "metadata": {
    "ExecuteTime": {
     "end_time": "2022-01-26T02:39:34.214806Z",
     "start_time": "2022-01-26T02:39:34.208821Z"
    }
   },
   "outputs": [
    {
     "name": "stdout",
     "output_type": "stream",
     "text": [
      "홍길동\n",
      "홍길동\n"
     ]
    }
   ],
   "source": [
    "a=\"홍길동\"\n",
    "print(a)\n",
    "print(a)"
   ]
  },
  {
   "cell_type": "markdown",
   "metadata": {},
   "source": [
    "문자형은 + 연산을 하면 자동으로 문자열로 인식하고 뎃셈이 아닌 이어붙이기를 한다."
   ]
  },
  {
   "cell_type": "code",
   "execution_count": 7,
   "metadata": {
    "ExecuteTime": {
     "end_time": "2022-01-26T02:39:34.586154Z",
     "start_time": "2022-01-26T02:39:34.579167Z"
    }
   },
   "outputs": [
    {
     "data": {
      "text/plain": [
       "'홍길동 데이터분석가'"
      ]
     },
     "execution_count": 7,
     "metadata": {},
     "output_type": "execute_result"
    }
   ],
   "source": [
    "'홍길동' + ' ' +  '데이터분석가'"
   ]
  },
  {
   "cell_type": "code",
   "execution_count": 8,
   "metadata": {
    "ExecuteTime": {
     "end_time": "2022-01-26T02:39:34.777638Z",
     "start_time": "2022-01-26T02:39:34.769679Z"
    }
   },
   "outputs": [
    {
     "data": {
      "text/plain": [
       "'홍길동_데이터분석가'"
      ]
     },
     "execution_count": 8,
     "metadata": {},
     "output_type": "execute_result"
    }
   ],
   "source": [
    "name = '홍길동'\n",
    "job = '데이터분석가'\n",
    "name + '_'+ job"
   ]
  },
  {
   "cell_type": "code",
   "execution_count": 9,
   "metadata": {
    "ExecuteTime": {
     "end_time": "2022-01-26T02:39:34.966135Z",
     "start_time": "2022-01-26T02:39:34.959152Z"
    }
   },
   "outputs": [
    {
     "data": {
      "text/plain": [
       "str"
      ]
     },
     "execution_count": 9,
     "metadata": {},
     "output_type": "execute_result"
    }
   ],
   "source": [
    "type(name)"
   ]
  },
  {
   "cell_type": "code",
   "execution_count": 10,
   "metadata": {
    "ExecuteTime": {
     "end_time": "2022-02-02T23:58:18.876225Z",
     "start_time": "2022-02-02T23:58:18.870240Z"
    }
   },
   "outputs": [
    {
     "name": "stdout",
     "output_type": "stream",
     "text": [
      "My age is  21\n",
      "My age is 21\n"
     ]
    }
   ],
   "source": [
    "age=21\n",
    "print('My age is ',age)\n",
    "# print('My age is '+age)  #에러 발생 => 문자와 숫자를 +연산자로 합칠 때는 에러, 한 가지 자료형으로 변환해줘야 함.\n",
    "print('My age is '+str(age))"
   ]
  },
  {
   "cell_type": "markdown",
   "metadata": {},
   "source": [
    "### List\n",
    "1. 여러 Elements 들을 저장하고 있는 자료형 (Element 하나하나는 어떤 자료형 상관 X)\n",
    "2. 중복이 가능, 순서가 있음"
   ]
  },
  {
   "cell_type": "code",
   "execution_count": 11,
   "metadata": {
    "ExecuteTime": {
     "end_time": "2022-02-02T23:59:28.471183Z",
     "start_time": "2022-02-02T23:59:28.465166Z"
    }
   },
   "outputs": [],
   "source": [
    "animals = ['개', '고양이', '원숭이', '사자']"
   ]
  },
  {
   "cell_type": "code",
   "execution_count": 12,
   "metadata": {
    "ExecuteTime": {
     "end_time": "2022-02-02T23:59:28.644686Z",
     "start_time": "2022-02-02T23:59:28.637704Z"
    }
   },
   "outputs": [
    {
     "data": {
      "text/plain": [
       "'개'"
      ]
     },
     "execution_count": 12,
     "metadata": {},
     "output_type": "execute_result"
    }
   ],
   "source": [
    "animals[0]"
   ]
  },
  {
   "cell_type": "code",
   "execution_count": 13,
   "metadata": {
    "ExecuteTime": {
     "end_time": "2022-02-02T23:59:28.852139Z",
     "start_time": "2022-02-02T23:59:28.846149Z"
    }
   },
   "outputs": [
    {
     "data": {
      "text/plain": [
       "'사자'"
      ]
     },
     "execution_count": 13,
     "metadata": {},
     "output_type": "execute_result"
    }
   ],
   "source": [
    "animals[-1]"
   ]
  },
  {
   "cell_type": "code",
   "execution_count": 14,
   "metadata": {
    "ExecuteTime": {
     "end_time": "2022-02-02T23:59:29.073538Z",
     "start_time": "2022-02-02T23:59:29.064563Z"
    }
   },
   "outputs": [
    {
     "data": {
      "text/plain": [
       "['고양이', '원숭이', '사자']"
      ]
     },
     "execution_count": 14,
     "metadata": {},
     "output_type": "execute_result"
    }
   ],
   "source": [
    "# M:N => M ~ N-1 index elements => list\n",
    "# M:N => M ~ N-1 번째 요소를 가져온다.\n",
    "# 파이썬 리스트는 0부터 시작한다.\n",
    "animals[1:4]"
   ]
  },
  {
   "cell_type": "code",
   "execution_count": 15,
   "metadata": {
    "ExecuteTime": {
     "end_time": "2022-02-02T23:59:29.270013Z",
     "start_time": "2022-02-02T23:59:29.262034Z"
    }
   },
   "outputs": [
    {
     "data": {
      "text/plain": [
       "['고양이', '원숭이']"
      ]
     },
     "execution_count": 15,
     "metadata": {},
     "output_type": "execute_result"
    }
   ],
   "source": [
    "# M:N => M ~ N-1 index elements => list\n",
    "#            0       1        2        3\n",
    "animals = ['개', '고양이', '원숭이', '사자']\n",
    "animals[1:3]  # 1번쨰부터 2번째까지(N-1, 3-1)"
   ]
  },
  {
   "cell_type": "code",
   "execution_count": 16,
   "metadata": {
    "ExecuteTime": {
     "end_time": "2022-02-02T23:59:29.506414Z",
     "start_time": "2022-02-02T23:59:29.500398Z"
    }
   },
   "outputs": [
    {
     "data": {
      "text/plain": [
       "['고양이', '원숭이', '사자']"
      ]
     },
     "execution_count": 16,
     "metadata": {},
     "output_type": "execute_result"
    }
   ],
   "source": [
    "animals[1:]  #1번째부터 끝까지"
   ]
  },
  {
   "cell_type": "code",
   "execution_count": 17,
   "metadata": {
    "ExecuteTime": {
     "end_time": "2022-02-02T23:59:30.055947Z",
     "start_time": "2022-02-02T23:59:30.049930Z"
    }
   },
   "outputs": [
    {
     "data": {
      "text/plain": [
       "['개', '고양이', '원숭이']"
      ]
     },
     "execution_count": 17,
     "metadata": {},
     "output_type": "execute_result"
    }
   ],
   "source": [
    "animals[:-1] # 처음부터 시작하여, 끝에서 1개는 빼고"
   ]
  },
  {
   "cell_type": "code",
   "execution_count": 18,
   "metadata": {
    "ExecuteTime": {
     "end_time": "2022-02-02T23:59:31.993754Z",
     "start_time": "2022-02-02T23:59:31.986788Z"
    }
   },
   "outputs": [
    {
     "data": {
      "text/plain": [
       "['개', '고양이']"
      ]
     },
     "execution_count": 18,
     "metadata": {},
     "output_type": "execute_result"
    }
   ],
   "source": [
    "animals[:-2] # 처음부터 시작하여, 끝에서 2개는 빼고"
   ]
  },
  {
   "cell_type": "code",
   "execution_count": 19,
   "metadata": {
    "ExecuteTime": {
     "end_time": "2022-02-02T23:59:33.336225Z",
     "start_time": "2022-02-02T23:59:33.332152Z"
    }
   },
   "outputs": [
    {
     "name": "stdout",
     "output_type": "stream",
     "text": [
      "['개', '고양이', '원숭이', '사자']\n",
      "['개', '고양이', '원숭이', '사자']\n"
     ]
    }
   ],
   "source": [
    "print(animals[:]) #모든 요소\n",
    "print(animals)"
   ]
  },
  {
   "cell_type": "code",
   "execution_count": 20,
   "metadata": {
    "ExecuteTime": {
     "end_time": "2022-02-02T23:59:35.010696Z",
     "start_time": "2022-02-02T23:59:35.005717Z"
    }
   },
   "outputs": [
    {
     "name": "stdout",
     "output_type": "stream",
     "text": [
      "['개', '원숭이']\n",
      "['사자', '원숭이', '고양이', '개']\n"
     ]
    }
   ],
   "source": [
    "print(animals[::2]) #처음부터 끝까지, 2간씩 띄어서\n",
    "print(animals[::-1]) # 처음부터 끝까지, 1간씩 띄어서, -니까 뒤집어서  => 역순으로 정리"
   ]
  },
  {
   "cell_type": "code",
   "execution_count": 53,
   "metadata": {
    "ExecuteTime": {
     "end_time": "2022-02-03T00:34:26.146279Z",
     "start_time": "2022-02-03T00:34:26.136307Z"
    }
   },
   "outputs": [
    {
     "name": "stdout",
     "output_type": "stream",
     "text": [
      "['개', '고양이', '원숭이', '사자']\n",
      "['개', '고양이']\n",
      "-----------------\n",
      "['개']\n",
      "['고양이', '개']\n",
      "['원숭이', '고양이', '개']\n",
      "['사자', '원숭이', '고양이', '개']\n",
      "-----------------\n",
      "['사자', '원숭이', '고양이']\n",
      "['사자', '원숭이']\n",
      "['사자']\n",
      "[]\n"
     ]
    }
   ],
   "source": [
    "print(animals[::1])\n",
    "print(animals[:2:1])\n",
    "print('-----------------')\n",
    "print(animals[0::-1]) #-1 간격이므로, start, end가 뒤집어짐, 처음부터, start 0이면 뒤에서 0번째 까지,  뒤로 정렬\n",
    "print(animals[1::-1]) # 처음부터, start 1이면 뒤에서 1번째 까지,  뒤로 정렬\n",
    "print(animals[2::-1]) # 처음부터, start 2이면 뒤에서 2번째 까지,  뒤로 정렬\n",
    "print(animals[3::-1]) # 처음부터, start 3이면 뒤에서 3번째 까지,  뒤로 정렬\n",
    "print('-----------------')\n",
    "print(animals[:0:-1]) #-1 간격이므로, start, end가 뒤집어짐, end가 0이면 앞에서 0번째 다음부터, 끝까지, 뒤로 정렬\n",
    "print(animals[:1:-1]) # end가 0이면 앞에서 1번째 다음부터, 끝까지, 뒤로 정렬\n",
    "print(animals[:2:-1]) # end가 0이면 앞에서 2번째 다음부터, 끝까지, 뒤로 정렬\n",
    "print(animals[:3:-1]) # end가 0이면 앞에서 3번째 다음부터, 끝까지, 뒤로 정렬"
   ]
  },
  {
   "cell_type": "code",
   "execution_count": 32,
   "metadata": {
    "ExecuteTime": {
     "end_time": "2022-01-26T02:43:40.500411Z",
     "start_time": "2022-01-26T02:43:40.492398Z"
    }
   },
   "outputs": [
    {
     "data": {
      "text/plain": [
       "['dog', 'dog', 'dog', 'cat']"
      ]
     },
     "execution_count": 32,
     "metadata": {},
     "output_type": "execute_result"
    }
   ],
   "source": [
    "a=['dog', 'dog', 'dog', 'cat']\n",
    "a"
   ]
  },
  {
   "cell_type": "code",
   "execution_count": 33,
   "metadata": {
    "ExecuteTime": {
     "end_time": "2022-01-26T02:43:47.020823Z",
     "start_time": "2022-01-26T02:43:47.014840Z"
    }
   },
   "outputs": [
    {
     "data": {
      "text/plain": [
       "[['dog1', 'dog2', ' dog3']]"
      ]
     },
     "execution_count": 33,
     "metadata": {},
     "output_type": "execute_result"
    }
   ],
   "source": [
    "b= [['dog1', 'dog2',' dog3']] #리스트 안에 리스트도 가능\n",
    "b"
   ]
  },
  {
   "cell_type": "markdown",
   "metadata": {},
   "source": [
    "len : 요소들의 갯수를 알려주는 함수"
   ]
  },
  {
   "cell_type": "code",
   "execution_count": 36,
   "metadata": {
    "ExecuteTime": {
     "end_time": "2022-01-26T02:45:28.189435Z",
     "start_time": "2022-01-26T02:45:28.183442Z"
    }
   },
   "outputs": [
    {
     "name": "stdout",
     "output_type": "stream",
     "text": [
      "4\n",
      "1\n",
      "3\n"
     ]
    }
   ],
   "source": [
    "print(len(a))  #요소가 4개\n",
    "print(len(b))  #요소가 1개, 단 depth 1의 요소 수만 알려줌\n",
    "print(len(b[0])) #요소가 3개, 단 depth 2의 요소 수"
   ]
  },
  {
   "cell_type": "code",
   "execution_count": 37,
   "metadata": {
    "ExecuteTime": {
     "end_time": "2022-01-26T02:45:52.942664Z",
     "start_time": "2022-01-26T02:45:52.934013Z"
    }
   },
   "outputs": [
    {
     "name": "stdout",
     "output_type": "stream",
     "text": [
      "<class 'list'>\n",
      "2\n",
      "3\n"
     ]
    },
    {
     "data": {
      "text/plain": [
       "[['dog1', 'dog2', 'dog3'], ['cat1', 'cat2', 'cat3']]"
      ]
     },
     "execution_count": 37,
     "metadata": {},
     "output_type": "execute_result"
    }
   ],
   "source": [
    "data = [\n",
    "    ['dog1', 'dog2', 'dog3'],\n",
    "    ['cat1', 'cat2', 'cat3']\n",
    "    \n",
    "]\n",
    "print(type(data))\n",
    "print(len(data))\n",
    "print(len(data[0]))\n",
    "data"
   ]
  },
  {
   "cell_type": "code",
   "execution_count": 38,
   "metadata": {
    "ExecuteTime": {
     "end_time": "2022-01-26T02:46:15.197216Z",
     "start_time": "2022-01-26T02:46:15.190236Z"
    }
   },
   "outputs": [
    {
     "data": {
      "text/plain": [
       "'dog3'"
      ]
     },
     "execution_count": 38,
     "metadata": {},
     "output_type": "execute_result"
    }
   ],
   "source": [
    "data[0][-1]"
   ]
  },
  {
   "cell_type": "code",
   "execution_count": 39,
   "metadata": {
    "ExecuteTime": {
     "end_time": "2022-01-26T02:46:15.427597Z",
     "start_time": "2022-01-26T02:46:15.421616Z"
    }
   },
   "outputs": [
    {
     "data": {
      "text/plain": [
       "['dog1', 'dog2', 'dog3']"
      ]
     },
     "execution_count": 39,
     "metadata": {},
     "output_type": "execute_result"
    }
   ],
   "source": [
    "data[0]"
   ]
  },
  {
   "cell_type": "code",
   "execution_count": 40,
   "metadata": {
    "ExecuteTime": {
     "end_time": "2022-01-26T02:46:15.631585Z",
     "start_time": "2022-01-26T02:46:15.624615Z"
    }
   },
   "outputs": [
    {
     "data": {
      "text/plain": [
       "['cat1', 'cat2', 'cat3']"
      ]
     },
     "execution_count": 40,
     "metadata": {},
     "output_type": "execute_result"
    }
   ],
   "source": [
    "data[1]"
   ]
  },
  {
   "cell_type": "code",
   "execution_count": 41,
   "metadata": {
    "ExecuteTime": {
     "end_time": "2022-01-26T02:46:15.876479Z",
     "start_time": "2022-01-26T02:46:15.870503Z"
    }
   },
   "outputs": [
    {
     "data": {
      "text/plain": [
       "[123, '홍길동', [1, 2, 3, 4]]"
      ]
     },
     "execution_count": 41,
     "metadata": {},
     "output_type": "execute_result"
    }
   ],
   "source": [
    "# list 안에 여러 자료형이 있을 수 있음\n",
    "[\n",
    "    123, '홍길동', [1, 2, 3, 4]\n",
    "]"
   ]
  },
  {
   "cell_type": "code",
   "execution_count": 42,
   "metadata": {
    "ExecuteTime": {
     "end_time": "2022-01-26T02:46:29.932736Z",
     "start_time": "2022-01-26T02:46:29.928750Z"
    }
   },
   "outputs": [],
   "source": [
    "# list에 새로운 data를 추가할 때, append\n",
    "animals = ['dog', 'dog', 'dog', 'cat']"
   ]
  },
  {
   "cell_type": "code",
   "execution_count": 43,
   "metadata": {
    "ExecuteTime": {
     "end_time": "2022-01-26T02:46:30.399275Z",
     "start_time": "2022-01-26T02:46:30.393294Z"
    }
   },
   "outputs": [
    {
     "data": {
      "text/plain": [
       "['dog', 'dog', 'dog', 'cat', 'duck']"
      ]
     },
     "execution_count": 43,
     "metadata": {},
     "output_type": "execute_result"
    }
   ],
   "source": [
    "animals.append('duck')\n",
    "animals"
   ]
  },
  {
   "cell_type": "markdown",
   "metadata": {},
   "source": [
    "### Set\n",
    "1. 여러 Elements 들을 저장하고 있는 자료형\n",
    "2. 중복 X, 순서 X"
   ]
  },
  {
   "cell_type": "code",
   "execution_count": 1,
   "metadata": {
    "ExecuteTime": {
     "end_time": "2022-02-02T23:42:50.625155Z",
     "start_time": "2022-02-02T23:42:50.595217Z"
    }
   },
   "outputs": [
    {
     "name": "stdout",
     "output_type": "stream",
     "text": [
      "['dog', 'dog', 'dog', 'cat'] <class 'list'>\n"
     ]
    }
   ],
   "source": [
    "animals = ['dog', 'dog', 'dog', 'cat']\n",
    "print(animals, type(animals))"
   ]
  },
  {
   "cell_type": "code",
   "execution_count": 2,
   "metadata": {
    "ExecuteTime": {
     "end_time": "2022-02-02T23:42:51.117857Z",
     "start_time": "2022-02-02T23:42:51.090940Z"
    }
   },
   "outputs": [
    {
     "data": {
      "text/plain": [
       "{'cat', 'dog'}"
      ]
     },
     "execution_count": 2,
     "metadata": {},
     "output_type": "execute_result"
    }
   ],
   "source": [
    "set(animals) # 중복 X, 순서 X => lsit를 set으로 변환하면 중복 제거 효과가 있어서 자주 사용됨."
   ]
  },
  {
   "cell_type": "code",
   "execution_count": 3,
   "metadata": {
    "ExecuteTime": {
     "end_time": "2022-02-02T23:42:53.948287Z",
     "start_time": "2022-02-02T23:42:53.942281Z"
    }
   },
   "outputs": [
    {
     "data": {
      "text/plain": [
       "set"
      ]
     },
     "execution_count": 3,
     "metadata": {},
     "output_type": "execute_result"
    }
   ],
   "source": [
    "s = set(animals)\n",
    "type(s)"
   ]
  },
  {
   "cell_type": "markdown",
   "metadata": {},
   "source": [
    "#### example : unique한 alphabet 뽑기"
   ]
  },
  {
   "cell_type": "code",
   "execution_count": 4,
   "metadata": {
    "ExecuteTime": {
     "end_time": "2022-02-02T23:43:10.303564Z",
     "start_time": "2022-02-02T23:43:10.297540Z"
    }
   },
   "outputs": [
    {
     "data": {
      "text/plain": [
       "list"
      ]
     },
     "execution_count": 4,
     "metadata": {},
     "output_type": "execute_result"
    }
   ],
   "source": [
    "my_list = [ 'A', 'A', 'A', 'B', 'C', 'C', 'C', 'D', 'D', 'D']\n",
    "type(my_list)"
   ]
  },
  {
   "cell_type": "code",
   "execution_count": 5,
   "metadata": {
    "ExecuteTime": {
     "end_time": "2022-02-02T23:43:13.027274Z",
     "start_time": "2022-02-02T23:43:13.022265Z"
    }
   },
   "outputs": [
    {
     "data": {
      "text/plain": [
       "{'A', 'B', 'C', 'D'}"
      ]
     },
     "execution_count": 5,
     "metadata": {},
     "output_type": "execute_result"
    }
   ],
   "source": [
    "set(my_list)"
   ]
  },
  {
   "cell_type": "code",
   "execution_count": 6,
   "metadata": {
    "ExecuteTime": {
     "end_time": "2022-02-02T23:43:15.223406Z",
     "start_time": "2022-02-02T23:43:15.218383Z"
    }
   },
   "outputs": [
    {
     "data": {
      "text/plain": [
       "['A', 'B', 'C', 'D']"
      ]
     },
     "execution_count": 6,
     "metadata": {},
     "output_type": "execute_result"
    }
   ],
   "source": [
    "# 중복을 제거하고 다시 list로 변환\n",
    "list(set(my_list))"
   ]
  },
  {
   "cell_type": "markdown",
   "metadata": {},
   "source": [
    "### Dictionary "
   ]
  },
  {
   "cell_type": "code",
   "execution_count": 55,
   "metadata": {
    "ExecuteTime": {
     "end_time": "2022-02-03T01:33:05.410480Z",
     "start_time": "2022-02-03T01:33:05.404494Z"
    }
   },
   "outputs": [
    {
     "name": "stdout",
     "output_type": "stream",
     "text": [
      "{'name': '홍길동', 'birth': 900101, 'job': '데이터분석가', 'email': 'hgd@gmail.com'}\n"
     ]
    }
   ],
   "source": [
    "member = {'name' : '홍길동', 'birth' : 900101, 'job' : '데이터분석가',\n",
    "           'email' : 'hgd@gmail.com'}  # key : value 의 쌍\n",
    "print(member)"
   ]
  },
  {
   "cell_type": "code",
   "execution_count": 63,
   "metadata": {
    "ExecuteTime": {
     "end_time": "2022-02-03T01:35:30.652107Z",
     "start_time": "2022-02-03T01:35:30.646123Z"
    }
   },
   "outputs": [
    {
     "data": {
      "text/plain": [
       "'홍길동'"
      ]
     },
     "execution_count": 63,
     "metadata": {},
     "output_type": "execute_result"
    }
   ],
   "source": [
    "# value를 얻는 방법 , key 값을 이용\n",
    "member['name']"
   ]
  },
  {
   "cell_type": "code",
   "execution_count": 64,
   "metadata": {
    "ExecuteTime": {
     "end_time": "2022-02-03T01:35:30.877544Z",
     "start_time": "2022-02-03T01:35:30.871522Z"
    }
   },
   "outputs": [
    {
     "data": {
      "text/plain": [
       "900101"
      ]
     },
     "execution_count": 64,
     "metadata": {},
     "output_type": "execute_result"
    }
   ],
   "source": [
    "member['birth']"
   ]
  },
  {
   "cell_type": "code",
   "execution_count": 65,
   "metadata": {
    "ExecuteTime": {
     "end_time": "2022-02-03T01:35:31.102903Z",
     "start_time": "2022-02-03T01:35:31.096918Z"
    }
   },
   "outputs": [
    {
     "data": {
      "text/plain": [
       "'데이터분석가'"
      ]
     },
     "execution_count": 65,
     "metadata": {},
     "output_type": "execute_result"
    }
   ],
   "source": [
    "member['job']"
   ]
  },
  {
   "cell_type": "code",
   "execution_count": 66,
   "metadata": {
    "ExecuteTime": {
     "end_time": "2022-02-03T01:35:31.324346Z",
     "start_time": "2022-02-03T01:35:31.319359Z"
    }
   },
   "outputs": [
    {
     "data": {
      "text/plain": [
       "'hgd@gmail.com'"
      ]
     },
     "execution_count": 66,
     "metadata": {},
     "output_type": "execute_result"
    }
   ],
   "source": [
    "member['email']"
   ]
  },
  {
   "cell_type": "code",
   "execution_count": 67,
   "metadata": {
    "ExecuteTime": {
     "end_time": "2022-02-03T01:35:31.801038Z",
     "start_time": "2022-02-03T01:35:31.798078Z"
    }
   },
   "outputs": [],
   "source": [
    "# value를 변경하는 방법\n",
    "member['hobby']= 'dance'"
   ]
  },
  {
   "cell_type": "code",
   "execution_count": 25,
   "metadata": {},
   "outputs": [
    {
     "data": {
      "text/plain": [
       "{'name': '홍길동',\n",
       " 'birth': 900101,\n",
       " 'job': '데이터분석가',\n",
       " 'email': 'hgd@gmail.com',\n",
       " 'hobby': 'dance'}"
      ]
     },
     "execution_count": 25,
     "metadata": {},
     "output_type": "execute_result"
    }
   ],
   "source": [
    "member"
   ]
  },
  {
   "cell_type": "code",
   "execution_count": 26,
   "metadata": {},
   "outputs": [
    {
     "data": {
      "text/plain": [
       "dict_keys(['name', 'birth', 'job', 'email', 'hobby'])"
      ]
     },
     "execution_count": 26,
     "metadata": {},
     "output_type": "execute_result"
    }
   ],
   "source": [
    "member.keys()"
   ]
  },
  {
   "cell_type": "code",
   "execution_count": 27,
   "metadata": {},
   "outputs": [
    {
     "data": {
      "text/plain": [
       "dict_items([('name', '홍길동'), ('birth', 900101), ('job', '데이터분석가'), ('email', 'hgd@gmail.com'), ('hobby', 'dance')])"
      ]
     },
     "execution_count": 27,
     "metadata": {},
     "output_type": "execute_result"
    }
   ],
   "source": [
    "member.items()"
   ]
  },
  {
   "cell_type": "code",
   "execution_count": 68,
   "metadata": {
    "ExecuteTime": {
     "end_time": "2022-02-03T01:36:13.144500Z",
     "start_time": "2022-02-03T01:36:13.136519Z"
    }
   },
   "outputs": [
    {
     "data": {
      "text/plain": [
       "dict_values(['홍길동', 900101, '데이터분석가', 'hgd@gmail.com', 'dance'])"
      ]
     },
     "execution_count": 68,
     "metadata": {},
     "output_type": "execute_result"
    }
   ],
   "source": [
    "member.values()"
   ]
  },
  {
   "cell_type": "code",
   "execution_count": 28,
   "metadata": {},
   "outputs": [],
   "source": [
    "# Dict.get\n",
    "# key로 불러오기보다는 get을 활용하자"
   ]
  },
  {
   "cell_type": "code",
   "execution_count": 29,
   "metadata": {},
   "outputs": [],
   "source": [
    "member = {'name' : '홍길동', 'email' : 'hgd@gmail.com'}"
   ]
  },
  {
   "cell_type": "code",
   "execution_count": 69,
   "metadata": {
    "ExecuteTime": {
     "end_time": "2022-02-03T01:36:57.740262Z",
     "start_time": "2022-02-03T01:36:57.730287Z"
    }
   },
   "outputs": [
    {
     "ename": "KeyError",
     "evalue": "'address'",
     "output_type": "error",
     "traceback": [
      "\u001b[1;31m---------------------------------------------------------------------------\u001b[0m",
      "\u001b[1;31mKeyError\u001b[0m                                  Traceback (most recent call last)",
      "\u001b[1;32m<ipython-input-69-8798a9d37e58>\u001b[0m in \u001b[0;36m<module>\u001b[1;34m\u001b[0m\n\u001b[1;32m----> 1\u001b[1;33m \u001b[0mmember\u001b[0m\u001b[1;33m[\u001b[0m\u001b[1;34m'address'\u001b[0m\u001b[1;33m]\u001b[0m  \u001b[1;31m#'address'라는 key가 없는 경우 에러발생\u001b[0m\u001b[1;33m\u001b[0m\u001b[1;33m\u001b[0m\u001b[0m\n\u001b[0m",
      "\u001b[1;31mKeyError\u001b[0m: 'address'"
     ]
    }
   ],
   "source": [
    "member['address']  #'address'라는 key가 없는 경우 에러발생"
   ]
  },
  {
   "cell_type": "code",
   "execution_count": 70,
   "metadata": {
    "ExecuteTime": {
     "end_time": "2022-02-03T01:36:58.733640Z",
     "start_time": "2022-02-03T01:36:58.727620Z"
    }
   },
   "outputs": [
    {
     "data": {
      "text/plain": [
       "'주소를 찾을 수 없습니다.'"
      ]
     },
     "execution_count": 70,
     "metadata": {},
     "output_type": "execute_result"
    }
   ],
   "source": [
    "member.get('address', '주소를 찾을 수 없습니다.')"
   ]
  },
  {
   "cell_type": "code",
   "execution_count": 71,
   "metadata": {
    "ExecuteTime": {
     "end_time": "2022-02-03T01:37:18.468842Z",
     "start_time": "2022-02-03T01:37:18.460861Z"
    }
   },
   "outputs": [
    {
     "data": {
      "text/plain": [
       "'홍길동'"
      ]
     },
     "execution_count": 71,
     "metadata": {},
     "output_type": "execute_result"
    }
   ],
   "source": [
    "member.get('name', '이름을 찾을 수 없습니다.')"
   ]
  },
  {
   "cell_type": "code",
   "execution_count": 36,
   "metadata": {
    "collapsed": true
   },
   "outputs": [],
   "source": [
    "# 학생 1000명을 for 문 돌다가, address가 있으면 address를 출력하고, 없으면 '주소 없음'이라고 출력하자"
   ]
  },
  {
   "cell_type": "code",
   "execution_count": 74,
   "metadata": {
    "ExecuteTime": {
     "end_time": "2022-02-03T01:38:27.140271Z",
     "start_time": "2022-02-03T01:38:27.135247Z"
    }
   },
   "outputs": [
    {
     "data": {
      "text/plain": [
       "[{'name': '홍길동', 'hobby': 'dance'}, {'name': '임꺽정'}]"
      ]
     },
     "execution_count": 74,
     "metadata": {},
     "output_type": "execute_result"
    }
   ],
   "source": [
    "member1 = {'name' : '홍길동', 'hobby' : 'dance'}\n",
    "member2 = {'name' : '임꺽정'}\n",
    "members = [member1, member2]\n",
    "members"
   ]
  },
  {
   "cell_type": "code",
   "execution_count": 75,
   "metadata": {
    "ExecuteTime": {
     "end_time": "2022-02-03T01:38:27.315770Z",
     "start_time": "2022-02-03T01:38:27.302799Z"
    }
   },
   "outputs": [
    {
     "name": "stdout",
     "output_type": "stream",
     "text": [
      "이름 홍길동 취미 dance\n"
     ]
    },
    {
     "ename": "KeyError",
     "evalue": "'hobby'",
     "output_type": "error",
     "traceback": [
      "\u001b[1;31m---------------------------------------------------------------------------\u001b[0m",
      "\u001b[1;31mKeyError\u001b[0m                                  Traceback (most recent call last)",
      "\u001b[1;32m<ipython-input-75-33036e45a9ef>\u001b[0m in \u001b[0;36m<module>\u001b[1;34m\u001b[0m\n\u001b[0;32m      1\u001b[0m \u001b[1;32mfor\u001b[0m \u001b[0mmember\u001b[0m \u001b[1;32min\u001b[0m \u001b[0mmembers\u001b[0m\u001b[1;33m:\u001b[0m\u001b[1;33m\u001b[0m\u001b[1;33m\u001b[0m\u001b[0m\n\u001b[1;32m----> 2\u001b[1;33m     \u001b[0mprint\u001b[0m\u001b[1;33m(\u001b[0m\u001b[1;34m'이름 '\u001b[0m \u001b[1;33m+\u001b[0m \u001b[0mmember\u001b[0m\u001b[1;33m[\u001b[0m\u001b[1;34m'name'\u001b[0m\u001b[1;33m]\u001b[0m \u001b[1;33m+\u001b[0m \u001b[1;34m' 취미 '\u001b[0m \u001b[1;33m+\u001b[0m \u001b[0mmember\u001b[0m\u001b[1;33m[\u001b[0m\u001b[1;34m'hobby'\u001b[0m\u001b[1;33m]\u001b[0m\u001b[1;33m)\u001b[0m \u001b[1;31m#member2에 hobby 라는 key 가 없어서 에러 발생함\u001b[0m\u001b[1;33m\u001b[0m\u001b[1;33m\u001b[0m\u001b[0m\n\u001b[0m",
      "\u001b[1;31mKeyError\u001b[0m: 'hobby'"
     ]
    }
   ],
   "source": [
    "for member in members:\n",
    "    print('이름 ' + member['name'] + ' 취미 ' + member['hobby']) #member2에 hobby 라는 key 가 없어서 에러 발생함"
   ]
  },
  {
   "cell_type": "code",
   "execution_count": 76,
   "metadata": {
    "ExecuteTime": {
     "end_time": "2022-02-03T01:38:27.495284Z",
     "start_time": "2022-02-03T01:38:27.488304Z"
    }
   },
   "outputs": [
    {
     "name": "stdout",
     "output_type": "stream",
     "text": [
      "이름 홍길동 취미 dance\n",
      "이름 임꺽정 취미 취미가 없습니다.\n"
     ]
    }
   ],
   "source": [
    "for member in members:\n",
    "    print('이름 ' + member.get('name') + ' 취미 ' + member.get('hobby', '취미가 없습니다.')) #에러 없이 작동"
   ]
  },
  {
   "cell_type": "markdown",
   "metadata": {},
   "source": [
    "### Tuple\n",
    "1. List, Dict, Set => 한번 정의해두고, 그리고 나서 데이터를 수정이 가능\n",
    "2. Tuple은 한번 정의해두면 끝, 수정 불가"
   ]
  },
  {
   "cell_type": "code",
   "execution_count": 82,
   "metadata": {
    "ExecuteTime": {
     "end_time": "2022-02-03T01:44:18.105895Z",
     "start_time": "2022-02-03T01:44:18.083953Z"
    }
   },
   "outputs": [
    {
     "name": "stdout",
     "output_type": "stream",
     "text": [
      "(30, 40)\n",
      "<class 'tuple'>\n",
      "30 40\n"
     ]
    },
    {
     "ename": "TypeError",
     "evalue": "'tuple' object does not support item assignment",
     "output_type": "error",
     "traceback": [
      "\u001b[1;31m---------------------------------------------------------------------------\u001b[0m",
      "\u001b[1;31mTypeError\u001b[0m                                 Traceback (most recent call last)",
      "\u001b[1;32m<ipython-input-82-6c714ebb7c31>\u001b[0m in \u001b[0;36m<module>\u001b[1;34m\u001b[0m\n\u001b[0;32m      3\u001b[0m \u001b[0mprint\u001b[0m\u001b[1;33m(\u001b[0m\u001b[0mtype\u001b[0m\u001b[1;33m(\u001b[0m\u001b[0ma\u001b[0m\u001b[1;33m)\u001b[0m\u001b[1;33m)\u001b[0m\u001b[1;33m\u001b[0m\u001b[1;33m\u001b[0m\u001b[0m\n\u001b[0;32m      4\u001b[0m \u001b[0mprint\u001b[0m\u001b[1;33m(\u001b[0m\u001b[0ma\u001b[0m\u001b[1;33m[\u001b[0m\u001b[1;36m0\u001b[0m\u001b[1;33m]\u001b[0m\u001b[1;33m,\u001b[0m\u001b[0ma\u001b[0m\u001b[1;33m[\u001b[0m\u001b[1;36m1\u001b[0m\u001b[1;33m]\u001b[0m\u001b[1;33m)\u001b[0m\u001b[1;33m\u001b[0m\u001b[1;33m\u001b[0m\u001b[0m\n\u001b[1;32m----> 5\u001b[1;33m \u001b[0ma\u001b[0m\u001b[1;33m[\u001b[0m\u001b[1;36m0\u001b[0m\u001b[1;33m]\u001b[0m\u001b[1;33m=\u001b[0m\u001b[1;36m100\u001b[0m\u001b[1;33m\u001b[0m\u001b[1;33m\u001b[0m\u001b[0m\n\u001b[0m\u001b[0;32m      6\u001b[0m \u001b[0mprint\u001b[0m\u001b[1;33m(\u001b[0m\u001b[0ma\u001b[0m\u001b[1;33m[\u001b[0m\u001b[1;36m0\u001b[0m\u001b[1;33m]\u001b[0m\u001b[1;33m,\u001b[0m\u001b[0ma\u001b[0m\u001b[1;33m[\u001b[0m\u001b[1;36m1\u001b[0m\u001b[1;33m]\u001b[0m\u001b[1;33m)\u001b[0m\u001b[1;33m\u001b[0m\u001b[1;33m\u001b[0m\u001b[0m\n",
      "\u001b[1;31mTypeError\u001b[0m: 'tuple' object does not support item assignment"
     ]
    }
   ],
   "source": [
    "a = (30, 40) \n",
    "print(a)\n",
    "print(type(a))\n",
    "print(a[0],a[1])\n",
    "a[0]=100  # tuple 은 값을 변경할 수 없음\n",
    "print(a[0],a[1])"
   ]
  },
  {
   "cell_type": "markdown",
   "metadata": {},
   "source": [
    "### Boolean"
   ]
  },
  {
   "cell_type": "code",
   "execution_count": 83,
   "metadata": {
    "ExecuteTime": {
     "end_time": "2022-02-03T01:44:53.421510Z",
     "start_time": "2022-02-03T01:44:53.415486Z"
    }
   },
   "outputs": [
    {
     "name": "stdout",
     "output_type": "stream",
     "text": [
      "True\n",
      "True\n"
     ]
    }
   ],
   "source": [
    "print(True)\n",
    "print(10 > 5)"
   ]
  },
  {
   "cell_type": "code",
   "execution_count": 88,
   "metadata": {
    "ExecuteTime": {
     "end_time": "2022-02-03T01:46:27.734363Z",
     "start_time": "2022-02-03T01:46:27.728379Z"
    }
   },
   "outputs": [
    {
     "name": "stdout",
     "output_type": "stream",
     "text": [
      "True\n"
     ]
    }
   ],
   "source": [
    "if 2:\n",
    "    print('True')\n",
    "else:\n",
    "    print('False')"
   ]
  },
  {
   "cell_type": "code",
   "execution_count": 89,
   "metadata": {
    "ExecuteTime": {
     "end_time": "2022-02-03T01:46:28.158229Z",
     "start_time": "2022-02-03T01:46:28.153244Z"
    }
   },
   "outputs": [
    {
     "name": "stdout",
     "output_type": "stream",
     "text": [
      "False\n"
     ]
    }
   ],
   "source": [
    "if 0:\n",
    "    print('True')\n",
    "else:\n",
    "    print('False')\n",
    "# 0만 False고, 나머지는 True"
   ]
  },
  {
   "cell_type": "code",
   "execution_count": 48,
   "metadata": {
    "ExecuteTime": {
     "end_time": "2022-01-19T11:38:12.441356Z",
     "start_time": "2022-01-19T11:38:12.435368Z"
    }
   },
   "outputs": [
    {
     "name": "stdout",
     "output_type": "stream",
     "text": [
      "False\n",
      "False\n"
     ]
    }
   ],
   "source": [
    "print(False)\n",
    "print(10 < 5)"
   ]
  },
  {
   "cell_type": "markdown",
   "metadata": {},
   "source": [
    "* 심화 : [cheatsheet2](https://pycheatsheet.junekim.xyz/?fbclid=IwAR0XaYWcE9zjvDyk2Dvx6tJLkhXONNJeKqV6PbeEhqoSk-75iUmfc4kNreg#type-collections)"
   ]
  },
  {
   "cell_type": "markdown",
   "metadata": {
    "ExecuteTime": {
     "end_time": "2022-02-04T02:26:10.485340Z",
     "start_time": "2022-02-04T02:26:10.474372Z"
    }
   },
   "source": [
    "* Tip1"
   ]
  },
  {
   "cell_type": "code",
   "execution_count": 29,
   "metadata": {
    "ExecuteTime": {
     "end_time": "2022-02-04T02:27:37.277031Z",
     "start_time": "2022-02-04T02:27:37.271061Z"
    }
   },
   "outputs": [
    {
     "name": "stdout",
     "output_type": "stream",
     "text": [
      "주석이 아닙니다.\n"
     ]
    }
   ],
   "source": [
    "# 주석처리\n",
    "# print('주석입니다.')\n",
    "print('주석이 아닙니다.')\n",
    "# 단축키 : 해당 라인 아무 위치에서나  crtl + /"
   ]
  },
  {
   "cell_type": "code",
   "execution_count": 30,
   "metadata": {
    "ExecuteTime": {
     "end_time": "2022-02-04T02:28:17.959260Z",
     "start_time": "2022-02-04T02:28:17.951281Z"
    }
   },
   "outputs": [
    {
     "name": "stdout",
     "output_type": "stream",
     "text": [
      "200\n"
     ]
    },
    {
     "data": {
      "text/plain": [
       "200"
      ]
     },
     "execution_count": 30,
     "metadata": {},
     "output_type": "execute_result"
    }
   ],
   "source": [
    "# 결과 출력\n",
    "a=100\n",
    "b=200\n",
    "print(b)  #print 은 언제나 출력됨\n",
    "a  # 출력 안 됨\n",
    "b  # 그냥 변수명만 쓸때는 맨 마지막 줄만 출력됨"
   ]
  },
  {
   "cell_type": "code",
   "execution_count": 33,
   "metadata": {
    "ExecuteTime": {
     "end_time": "2022-02-04T02:30:02.941961Z",
     "start_time": "2022-02-04T02:30:02.934983Z"
    }
   },
   "outputs": [
    {
     "name": "stdout",
     "output_type": "stream",
     "text": [
      "100\n",
      "100 200\n",
      "100 200 test\n"
     ]
    }
   ],
   "source": [
    "# print문\n",
    "print(a)\n",
    "print(a,b) #자동으로 변수간에 공백이 들어감\n",
    "c='test'\n",
    "print(a,b,c)"
   ]
  },
  {
   "cell_type": "code",
   "execution_count": 34,
   "metadata": {
    "ExecuteTime": {
     "end_time": "2022-02-04T02:30:59.360724Z",
     "start_time": "2022-02-04T02:30:59.352747Z"
    }
   },
   "outputs": [
    {
     "name": "stdout",
     "output_type": "stream",
     "text": [
      "Hello Python!\n",
      "Nice to meet you.\n",
      "Hello \"Python\"\n",
      "Hello 'Python'\n",
      "Hello Python!\n",
      "HelloPython!\n"
     ]
    }
   ],
   "source": [
    "print('Hello Python!')  # 따옴표 가능\n",
    "print(\"Nice to meet you.\")  # 쌍따옴표 가능\n",
    "print('Hello \"Python\"')  # 내부에 쌍따옴표가 있으면, 따옴표로 감싸기 \n",
    "print(\"Hello 'Python'\")  # 내부에 따옴표가 있으면, 쌍따옴표로 감싸기\n",
    "print('Hello', 'Python!')   # 공백이 하나\n",
    "print('Hello' + 'Python!')  # 공백이 없음"
   ]
  },
  {
   "cell_type": "code",
   "execution_count": 37,
   "metadata": {
    "ExecuteTime": {
     "end_time": "2022-02-04T02:33:38.880220Z",
     "start_time": "2022-02-04T02:33:38.874237Z"
    }
   },
   "outputs": [
    {
     "name": "stdout",
     "output_type": "stream",
     "text": [
      "i: 123, f: 3.140000, s: Hello\n",
      "i:       123, f:  3.14, s:   Hello\n",
      "i: 000000123, f: 03.14, s:   Hello\n"
     ]
    }
   ],
   "source": [
    "# %format\n",
    "i = 123\n",
    "f = 3.14\n",
    "s = 'Hello'\n",
    "print('i: %d, f: %f, s: %s' % (i, f, s))  #%d 정수,   %f 실수,   %s 문자\n",
    "print('i: %9d, f: %5.2f, s: %7s' % (i, f, s)) #  %9d  정수 9자리,  %5.2f 총 5자리, 소숫점 이하 2자리,  %7s 문자 7개\n",
    "print('i: %09d, f: %05.2f, s: %7s' % (i, f, s)) #0 지정된 자리수보다 수가 작으면 0으로 채운다는 의미"
   ]
  },
  {
   "cell_type": "code",
   "execution_count": 38,
   "metadata": {
    "ExecuteTime": {
     "end_time": "2022-02-04T02:37:17.921570Z",
     "start_time": "2022-02-04T02:37:17.915589Z"
    }
   },
   "outputs": [
    {
     "name": "stdout",
     "output_type": "stream",
     "text": [
      "i: 123, f: 3.14, s: Hello\n",
      "f: 3.14, i: 123, s: Hello\n",
      "f: 3.14, i: 123, s: Hello\n"
     ]
    }
   ],
   "source": [
    "# str.format 방식\n",
    "print('i: {}, f: {}, s: {}'.format(i, f, s)) #' '안에 {}는 변수의 위치 , ' '.format() 에 사용할 변수명\n",
    "print('f: {1}, i: {0}, s: {2}'.format(i, f, s)) # {}안에 숫자를 지정하여, 출력 위치 지정 가능\n",
    "print('f: {ff}, i: {ii}, s: {ss}'.format(ii=i, ff=f, ss=s)) # {}안에 숫자가 아닌 변수명을 따로 지정하여, 출력 위치 지정 가능"
   ]
  },
  {
   "cell_type": "code",
   "execution_count": 43,
   "metadata": {
    "ExecuteTime": {
     "end_time": "2022-02-04T02:45:59.487225Z",
     "start_time": "2022-02-04T02:45:59.481243Z"
    }
   },
   "outputs": [
    {
     "name": "stdout",
     "output_type": "stream",
     "text": [
      "1 x 2 = 2 입니다.\n",
      "3 x 2 = 6 입니다.\n",
      "5 x 2 = 10 입니다.\n",
      "7 x 2 = 14 입니다.\n",
      "9 x 2 = 18 입니다.\n"
     ]
    }
   ],
   "source": [
    "# f-string\n",
    "for x in range(1,10,2):\n",
    "    print(f'{x} x 2 = {x*2} 입니다.')  # f' ' 형식으로 사용"
   ]
  },
  {
   "cell_type": "code",
   "execution_count": 46,
   "metadata": {
    "ExecuteTime": {
     "end_time": "2022-02-04T02:50:13.952795Z",
     "start_time": "2022-02-04T02:50:13.945854Z"
    }
   },
   "outputs": [
    {
     "name": "stdout",
     "output_type": "stream",
     "text": [
      "1 x 2 =          2 입니다.\n",
      "3 x 2 =          6 입니다.\n",
      "5 x 2 =         10 입니다.\n",
      "7 x 2 =         14 입니다.\n",
      "9 x 2 =         18 입니다.\n"
     ]
    }
   ],
   "source": [
    "# f-string\n",
    "for x in range(1,10,2):\n",
    "    print(f'{x} x 2 = {x*2:>10d} 입니다.') # {}안의 : 뒤의 ^ 는 가운데 정렬, > 는 오른쪽 정렬, 없으면 왼쪽 정렬"
   ]
  },
  {
   "cell_type": "code",
   "execution_count": 47,
   "metadata": {
    "ExecuteTime": {
     "end_time": "2022-02-04T02:50:15.057874Z",
     "start_time": "2022-02-04T02:50:15.052890Z"
    }
   },
   "outputs": [
    {
     "name": "stdout",
     "output_type": "stream",
     "text": [
      "두째자리까지 표현 0.56\n",
      "두째자리까지 표현 0.67\n",
      "두째자리까지 표현 0.78\n"
     ]
    }
   ],
   "source": [
    "test = [0.5555, 0.6666, 0.7777]\n",
    "for x in test :\n",
    "    print(f'두째자리까지 표현 {x:.2f}') # {}안의 : 2f는  %format 방식에서 %를 빼면 동일하게 적용됨"
   ]
  },
  {
   "cell_type": "markdown",
   "metadata": {},
   "source": [
    "* 심화 : [cheatsheet2](https://pycheatsheet.junekim.xyz/?fbclid=IwAR0XaYWcE9zjvDyk2Dvx6tJLkhXONNJeKqV6PbeEhqoSk-75iUmfc4kNreg#type-string-formatting)"
   ]
  },
  {
   "cell_type": "markdown",
   "metadata": {},
   "source": [
    "## Conditional Statement "
   ]
  },
  {
   "cell_type": "code",
   "execution_count": 90,
   "metadata": {
    "ExecuteTime": {
     "end_time": "2022-02-03T01:54:05.101811Z",
     "start_time": "2022-02-03T01:54:05.097787Z"
    }
   },
   "outputs": [],
   "source": [
    "if 10 < 5:\n",
    "    print('10이 5보다 크다.')"
   ]
  },
  {
   "cell_type": "code",
   "execution_count": 91,
   "metadata": {
    "ExecuteTime": {
     "end_time": "2022-02-03T01:54:05.323183Z",
     "start_time": "2022-02-03T01:54:05.317199Z"
    }
   },
   "outputs": [
    {
     "name": "stdout",
     "output_type": "stream",
     "text": [
      "음수\n"
     ]
    }
   ],
   "source": [
    "# 양수, 음수, 0을 구분하는 코드\n",
    "my_num = -1\n",
    "if my_num > 0:\n",
    "    print('양수')\n",
    "else:\n",
    "    print('음수')"
   ]
  },
  {
   "cell_type": "code",
   "execution_count": 92,
   "metadata": {
    "ExecuteTime": {
     "end_time": "2022-02-03T01:54:05.563578Z",
     "start_time": "2022-02-03T01:54:05.556560Z"
    }
   },
   "outputs": [
    {
     "name": "stdout",
     "output_type": "stream",
     "text": [
      "양수\n"
     ]
    }
   ],
   "source": [
    "# 양수, 음수, 0을 구분하는 코드\n",
    "my_num = 23\n",
    "if my_num > 0:\n",
    "    print('양수')\n",
    "elif my_num == 0:\n",
    "    print(0)\n",
    "else:\n",
    "    print('음수')"
   ]
  },
  {
   "cell_type": "code",
   "execution_count": 93,
   "metadata": {
    "ExecuteTime": {
     "end_time": "2022-02-03T01:54:05.893697Z",
     "start_time": "2022-02-03T01:54:05.888671Z"
    }
   },
   "outputs": [
    {
     "name": "stdout",
     "output_type": "stream",
     "text": [
      "음수\n"
     ]
    }
   ],
   "source": [
    "my_num = -5\n",
    "if my_num > 0:\n",
    "    print('양수')\n",
    "else:\n",
    "    if my_num < 0:\n",
    "        print('음수')\n",
    "    else:\n",
    "        print('0')"
   ]
  },
  {
   "cell_type": "code",
   "execution_count": 94,
   "metadata": {
    "ExecuteTime": {
     "end_time": "2022-02-03T01:54:07.418580Z",
     "start_time": "2022-02-03T01:54:07.412597Z"
    }
   },
   "outputs": [
    {
     "name": "stdout",
     "output_type": "stream",
     "text": [
      "참이다\n",
      "거짓이다\n"
     ]
    }
   ],
   "source": [
    "# [참일 때의 값] if [조건문] else [거짓일 때의 값]\n",
    "print('참이다' if 10 > 5 else '거짓이다')\n",
    "print('참이다' if 10 < 5 else '거짓이다')"
   ]
  },
  {
   "cell_type": "code",
   "execution_count": 96,
   "metadata": {
    "ExecuteTime": {
     "end_time": "2022-02-03T01:54:45.946571Z",
     "start_time": "2022-02-03T01:54:45.939590Z"
    }
   },
   "outputs": [
    {
     "data": {
      "text/plain": [
       "'음수'"
      ]
     },
     "execution_count": 96,
     "metadata": {},
     "output_type": "execute_result"
    }
   ],
   "source": [
    "# 양수, 음수, 0을 구분하는 코드 1줄\n",
    "'양수' if my_num > 0 else ('음수' if my_num < 0 else '0')"
   ]
  },
  {
   "cell_type": "markdown",
   "metadata": {},
   "source": [
    "## Loop"
   ]
  },
  {
   "cell_type": "code",
   "execution_count": 56,
   "metadata": {
    "ExecuteTime": {
     "end_time": "2022-01-19T11:44:45.284103Z",
     "start_time": "2022-01-19T11:44:45.274128Z"
    }
   },
   "outputs": [
    {
     "name": "stdout",
     "output_type": "stream",
     "text": [
      "0 안녕하세요\n",
      "000\n",
      "1 안녕하세요\n",
      "000\n",
      "2 안녕하세요\n",
      "000\n",
      "3 안녕하세요\n",
      "000\n",
      "4 안녕하세요\n",
      "000\n",
      "5 안녕하세요\n",
      "000\n",
      "6 안녕하세요\n",
      "000\n",
      "7 안녕하세요\n",
      "000\n",
      "8 안녕하세요\n",
      "000\n",
      "9 안녕하세요\n",
      "000\n"
     ]
    }
   ],
   "source": [
    "for i in range(10): #0부터 (n-1) -> 0,1,2,3,4,5,6,7,8,9\n",
    "    print(i, '안녕하세요')\n",
    "    print('000')"
   ]
  },
  {
   "cell_type": "code",
   "execution_count": 110,
   "metadata": {
    "ExecuteTime": {
     "end_time": "2022-02-03T02:11:40.001087Z",
     "start_time": "2022-02-03T02:11:39.993139Z"
    }
   },
   "outputs": [
    {
     "name": "stdout",
     "output_type": "stream",
     "text": [
      "0\n",
      "1\n",
      "2\n",
      "3\n",
      "4\n",
      "--------------------\n",
      "0\n",
      "1\n",
      "2\n",
      "3\n",
      "4\n",
      "--------------------\n",
      "0\n",
      "1\n",
      "2\n",
      "3\n",
      "4\n"
     ]
    }
   ],
   "source": [
    "for i in range(5):\n",
    "    print(i)\n",
    "print('-'*20)    \n",
    "for i in range(0,5):\n",
    "    print(i)\n",
    "print('-'*20)        \n",
    "for i in range(0,5,1): #start, end-1, step\n",
    "    print(i)    "
   ]
  },
  {
   "cell_type": "code",
   "execution_count": 112,
   "metadata": {
    "ExecuteTime": {
     "end_time": "2022-02-03T02:13:41.044709Z",
     "start_time": "2022-02-03T02:13:41.037751Z"
    }
   },
   "outputs": [
    {
     "name": "stdout",
     "output_type": "stream",
     "text": [
      "0\n",
      "2\n",
      "4\n",
      "--------------------\n"
     ]
    }
   ],
   "source": [
    "for i in range(0,5,2):\n",
    "    print(i)    \n",
    "print('-'*20)       \n",
    "for i in range(0,5,-1): #역순으로 할 때는 strat가 end 보다 커야 함.\n",
    "    print(i)"
   ]
  },
  {
   "cell_type": "code",
   "execution_count": 114,
   "metadata": {
    "ExecuteTime": {
     "end_time": "2022-02-03T02:14:52.508629Z",
     "start_time": "2022-02-03T02:14:52.499653Z"
    }
   },
   "outputs": [
    {
     "name": "stdout",
     "output_type": "stream",
     "text": [
      "5\n",
      "4\n",
      "3\n",
      "2\n",
      "1\n",
      "--------------------\n",
      "4\n",
      "3\n",
      "2\n",
      "1\n",
      "0\n"
     ]
    }
   ],
   "source": [
    "for i in range(5,0,-1):  # 5부터 시작하여 역순으로 0의  앞인 1 까지\n",
    "    print(i)    \n",
    "print('-'*20)       \n",
    "for i in reversed(range(0,5)): # range(0,5) 결과의 역순\n",
    "    print(i)    "
   ]
  },
  {
   "cell_type": "markdown",
   "metadata": {},
   "source": [
    "### Loop for list "
   ]
  },
  {
   "cell_type": "code",
   "execution_count": 57,
   "metadata": {
    "ExecuteTime": {
     "end_time": "2022-01-19T11:46:03.646266Z",
     "start_time": "2022-01-19T11:46:03.640313Z"
    }
   },
   "outputs": [
    {
     "name": "stdout",
     "output_type": "stream",
     "text": [
      "개\n",
      "고양이\n",
      "사자\n"
     ]
    }
   ],
   "source": [
    "animals = ['개', '고양이', '사자']\n",
    "for i in range(3):\n",
    "    print(animals[i])"
   ]
  },
  {
   "cell_type": "code",
   "execution_count": 36,
   "metadata": {},
   "outputs": [
    {
     "name": "stdout",
     "output_type": "stream",
     "text": [
      "개\n",
      "고양이\n",
      "사자\n"
     ]
    }
   ],
   "source": [
    "animals = ['개', '고양이', '사자']\n",
    "for animal in animals:\n",
    "    print(animal)"
   ]
  },
  {
   "cell_type": "code",
   "execution_count": 37,
   "metadata": {},
   "outputs": [
    {
     "name": "stdout",
     "output_type": "stream",
     "text": [
      "0 개\n",
      "1 고양이\n",
      "2 사자\n"
     ]
    }
   ],
   "source": [
    "for i, animal in enumerate(animals): # 처례와 값이 모두 필요할 때 enumerate 사용\n",
    "    print(i, animal)"
   ]
  },
  {
   "cell_type": "markdown",
   "metadata": {},
   "source": [
    "### Loop for dictionary "
   ]
  },
  {
   "cell_type": "code",
   "execution_count": 126,
   "metadata": {
    "ExecuteTime": {
     "end_time": "2022-02-03T02:24:47.723870Z",
     "start_time": "2022-02-03T02:24:47.717887Z"
    }
   },
   "outputs": [
    {
     "name": "stdout",
     "output_type": "stream",
     "text": [
      "{'name': '홍길동', 'birth': 900101, 'job': '데이터분석가', 'email': 'hgd@gmail.com'}\n"
     ]
    }
   ],
   "source": [
    "member = {'name' : '홍길동', 'birth' : 900101, 'job' : '데이터분석가',\n",
    "           'email' : 'hgd@gmail.com'}  # key : value 의 쌍\n",
    "print(member)"
   ]
  },
  {
   "cell_type": "code",
   "execution_count": 127,
   "metadata": {
    "ExecuteTime": {
     "end_time": "2022-02-03T02:24:50.346859Z",
     "start_time": "2022-02-03T02:24:50.341873Z"
    }
   },
   "outputs": [
    {
     "name": "stdout",
     "output_type": "stream",
     "text": [
      "name => 홍길동\n",
      "birth => 900101\n",
      "job => 데이터분석가\n",
      "email => hgd@gmail.com\n"
     ]
    }
   ],
   "source": [
    "for key in member:\n",
    "    print(key + ' => ' + str(member[key]))"
   ]
  },
  {
   "cell_type": "code",
   "execution_count": 128,
   "metadata": {
    "ExecuteTime": {
     "end_time": "2022-02-03T02:24:55.030335Z",
     "start_time": "2022-02-03T02:24:55.025382Z"
    }
   },
   "outputs": [
    {
     "name": "stdout",
     "output_type": "stream",
     "text": [
      "('name', '홍길동')\n",
      "('birth', 900101)\n",
      "('job', '데이터분석가')\n",
      "('email', 'hgd@gmail.com')\n"
     ]
    }
   ],
   "source": [
    "for something in member.items():\n",
    "    print(something)"
   ]
  },
  {
   "cell_type": "code",
   "execution_count": 129,
   "metadata": {
    "ExecuteTime": {
     "end_time": "2022-02-03T02:24:59.594174Z",
     "start_time": "2022-02-03T02:24:59.590177Z"
    }
   },
   "outputs": [
    {
     "name": "stdout",
     "output_type": "stream",
     "text": [
      "name =>  홍길동\n",
      "birth =>  900101\n",
      "job =>  데이터분석가\n",
      "email =>  hgd@gmail.com\n"
     ]
    }
   ],
   "source": [
    "for key, value in member.items():\n",
    "    print(key + ' => ', str(value))"
   ]
  },
  {
   "cell_type": "code",
   "execution_count": 130,
   "metadata": {
    "ExecuteTime": {
     "end_time": "2022-02-03T02:25:11.136272Z",
     "start_time": "2022-02-03T02:25:11.131287Z"
    }
   },
   "outputs": [
    {
     "name": "stdout",
     "output_type": "stream",
     "text": [
      "name  => 홍길동\n",
      "birth  => 900101\n",
      "job  => 데이터분석가\n",
      "email  => hgd@gmail.com\n"
     ]
    }
   ],
   "source": [
    "for key, value in member.items():\n",
    "    print(f'{key}  => {str(value)}')  # f-string 방법 : f'' 안에 원하는 출력 지정, {}안에는 변수명 지정"
   ]
  },
  {
   "cell_type": "code",
   "execution_count": 131,
   "metadata": {
    "ExecuteTime": {
     "end_time": "2022-02-03T02:25:13.496961Z",
     "start_time": "2022-02-03T02:25:13.490978Z"
    }
   },
   "outputs": [
    {
     "name": "stdout",
     "output_type": "stream",
     "text": [
      "name\n",
      "birth\n",
      "job\n",
      "email\n"
     ]
    }
   ],
   "source": [
    "for key in member:\n",
    "    print(key)"
   ]
  },
  {
   "cell_type": "markdown",
   "metadata": {},
   "source": [
    "## Function"
   ]
  },
  {
   "cell_type": "code",
   "execution_count": 133,
   "metadata": {
    "ExecuteTime": {
     "end_time": "2022-02-03T02:26:29.679273Z",
     "start_time": "2022-02-03T02:26:29.673290Z"
    }
   },
   "outputs": [
    {
     "name": "stdout",
     "output_type": "stream",
     "text": [
      "안녕하세요\n"
     ]
    }
   ],
   "source": [
    "def greeting():   #  입력이 없고\n",
    "    print('안녕하세요') \n",
    "                  # 반환값이 없음\n",
    "        \n",
    "greeting()"
   ]
  },
  {
   "cell_type": "code",
   "execution_count": 137,
   "metadata": {
    "ExecuteTime": {
     "end_time": "2022-02-03T02:27:10.273770Z",
     "start_time": "2022-02-03T02:27:10.267799Z"
    }
   },
   "outputs": [
    {
     "name": "stdout",
     "output_type": "stream",
     "text": [
      "홍길동님, 안녕하세요.\n"
     ]
    }
   ],
   "source": [
    "def greeting(name): #입력 : name\n",
    "    '''\n",
    "    name이라는 String을 받아서, ___님 안녕하세요. 라고 출력하는 함수\n",
    "    '''\n",
    "    print(str(name) + '님, 안녕하세요.')  \n",
    "    # 반환값이 없음\n",
    "\n",
    "greeting('홍길동')"
   ]
  },
  {
   "cell_type": "code",
   "execution_count": 138,
   "metadata": {
    "ExecuteTime": {
     "end_time": "2022-02-03T02:27:10.942947Z",
     "start_time": "2022-02-03T02:27:10.937963Z"
    }
   },
   "outputs": [
    {
     "name": "stdout",
     "output_type": "stream",
     "text": [
      "Help on function greeting in module __main__:\n",
      "\n",
      "greeting(name)\n",
      "    name이라는 String을 받아서, ___님 안녕하세요. 라고 출력하는 함수\n",
      "\n"
     ]
    }
   ],
   "source": [
    "help(greeting)\n",
    "# ''' ''' 안에 써진 부분을 docstring 이라 함."
   ]
  },
  {
   "cell_type": "code",
   "execution_count": 139,
   "metadata": {
    "ExecuteTime": {
     "end_time": "2022-02-03T02:28:49.746074Z",
     "start_time": "2022-02-03T02:28:49.741241Z"
    }
   },
   "outputs": [],
   "source": [
    "# checkNumber (CamelCase) ... 클래스명\n",
    "# check_number (underscore)... 변수명, 함수명\n",
    "# 숫자를 받아서, => 양수, 음수, 0을 구분해주는 함수( input => 'my_num')\n",
    "def check_number(my_num):\n",
    "    '''\n",
    "    숫자를 받아서, => 양수, 음수, 0을 구분해주는 함수( input => 'my_num')\n",
    "    '''\n",
    "    \n",
    "    return '양수' if my_num > 0 else ('음수' if my_num < 0 else '0') # 반환값이 있음"
   ]
  },
  {
   "cell_type": "code",
   "execution_count": 150,
   "metadata": {
    "ExecuteTime": {
     "end_time": "2022-02-03T02:32:11.421912Z",
     "start_time": "2022-02-03T02:32:11.416924Z"
    }
   },
   "outputs": [
    {
     "name": "stdout",
     "output_type": "stream",
     "text": [
      "0\n"
     ]
    }
   ],
   "source": [
    "result = check_number(0)\n",
    "print(result)"
   ]
  },
  {
   "cell_type": "code",
   "execution_count": 151,
   "metadata": {
    "ExecuteTime": {
     "end_time": "2022-02-03T02:32:11.911600Z",
     "start_time": "2022-02-03T02:32:11.905616Z"
    }
   },
   "outputs": [
    {
     "data": {
      "text/plain": [
       "str"
      ]
     },
     "execution_count": 151,
     "metadata": {},
     "output_type": "execute_result"
    }
   ],
   "source": [
    "type(result)"
   ]
  },
  {
   "cell_type": "code",
   "execution_count": 152,
   "metadata": {
    "ExecuteTime": {
     "end_time": "2022-02-03T02:32:26.302123Z",
     "start_time": "2022-02-03T02:32:26.295182Z"
    }
   },
   "outputs": [
    {
     "name": "stdout",
     "output_type": "stream",
     "text": [
      "0\n",
      "양수\n",
      "음수\n"
     ]
    }
   ],
   "source": [
    "def check_number(my_num):\n",
    "    #if문을 풀어서 쓰면\n",
    "    if my_num > 0:\n",
    "        result='양수' \n",
    "    else:\n",
    "        if my_num < 0:\n",
    "            result ='음수'\n",
    "        else :\n",
    "            result='0'\n",
    "    return result # 변수에 저장한 후 변수를 반환하는 방법\n",
    "\n",
    "print(check_number(0))\n",
    "print(check_number(1))\n",
    "print(check_number(-1))"
   ]
  },
  {
   "cell_type": "markdown",
   "metadata": {},
   "source": [
    "## String과 관련된 함수들\n",
    "split, join, replace, startswith, endswith, ..."
   ]
  },
  {
   "cell_type": "markdown",
   "metadata": {},
   "source": [
    "### split & join "
   ]
  },
  {
   "cell_type": "code",
   "execution_count": 153,
   "metadata": {
    "ExecuteTime": {
     "end_time": "2022-02-03T02:35:53.242678Z",
     "start_time": "2022-02-03T02:35:53.236694Z"
    }
   },
   "outputs": [
    {
     "data": {
      "text/plain": [
       "['dance', '900101', 'hds@gmail.com', '데이터분석가', '홍길동']"
      ]
     },
     "execution_count": 153,
     "metadata": {},
     "output_type": "execute_result"
    }
   ],
   "source": [
    "data = 'dance,900101,hds@gmail.com,데이터분석가,홍길동'\n",
    "data.split(',') #쪼갤 때 사용한 기준 문자를 지정"
   ]
  },
  {
   "cell_type": "code",
   "execution_count": 156,
   "metadata": {
    "ExecuteTime": {
     "end_time": "2022-02-03T02:37:25.364092Z",
     "start_time": "2022-02-03T02:37:25.358140Z"
    }
   },
   "outputs": [
    {
     "name": "stdout",
     "output_type": "stream",
     "text": [
      "홍길동,hds@gmail.com,dance\n",
      "홍길동 hds@gmail.com dance\n",
      "홍길동hds@gmail.comdance\n"
     ]
    }
   ],
   "source": [
    "my_infos = ['홍길동', 'hds@gmail.com', 'dance']\n",
    "print(','.join(my_infos)) # . 를 기준으로 list의 요소들을 모두 합쳐서 문자열로 만듬.\n",
    "print(' '.join(my_infos)) # 공백을 기준으로 list의 요소들을 모두 합쳐서 문자열로 만듬.\n",
    "print(''.join(my_infos)) # 공백 없이 list의 요소들을 모두 합쳐서 문자열로 만듬."
   ]
  },
  {
   "cell_type": "markdown",
   "metadata": {},
   "source": [
    "### replace"
   ]
  },
  {
   "cell_type": "code",
   "execution_count": 157,
   "metadata": {
    "ExecuteTime": {
     "end_time": "2022-02-03T02:37:47.835008Z",
     "start_time": "2022-02-03T02:37:47.829058Z"
    }
   },
   "outputs": [
    {
     "data": {
      "text/plain": [
       "'dance/900101/hds@gmail.com/데이터분석가/홍길동'"
      ]
     },
     "execution_count": 157,
     "metadata": {},
     "output_type": "execute_result"
    }
   ],
   "source": [
    "data.replace(',', '/') #바꾸기"
   ]
  },
  {
   "cell_type": "markdown",
   "metadata": {},
   "source": [
    "### search"
   ]
  },
  {
   "cell_type": "code",
   "execution_count": 159,
   "metadata": {
    "ExecuteTime": {
     "end_time": "2022-02-03T02:39:28.863925Z",
     "start_time": "2022-02-03T02:39:28.856909Z"
    }
   },
   "outputs": [
    {
     "name": "stdout",
     "output_type": "stream",
     "text": [
      "True\n",
      "False\n"
     ]
    }
   ],
   "source": [
    "print('홍길동' in data)   #data에  '홍길동'이 있는지 찾기 - 있으면 True\n",
    "print('이순신' in data)   #data에  '이순신'이 있는지 찾기 - 없으면 False"
   ]
  },
  {
   "cell_type": "markdown",
   "metadata": {},
   "source": [
    "### startswith & endswith"
   ]
  },
  {
   "cell_type": "code",
   "execution_count": 164,
   "metadata": {
    "ExecuteTime": {
     "end_time": "2022-02-03T02:40:50.029350Z",
     "start_time": "2022-02-03T02:40:50.023397Z"
    }
   },
   "outputs": [
    {
     "data": {
      "text/plain": [
       "'dance,900101,hds@gmail.com,데이터분석가,홍길동'"
      ]
     },
     "execution_count": 164,
     "metadata": {},
     "output_type": "execute_result"
    }
   ],
   "source": [
    "data"
   ]
  },
  {
   "cell_type": "code",
   "execution_count": 165,
   "metadata": {
    "ExecuteTime": {
     "end_time": "2022-02-03T02:40:50.341514Z",
     "start_time": "2022-02-03T02:40:50.334533Z"
    }
   },
   "outputs": [
    {
     "data": {
      "text/plain": [
       "True"
      ]
     },
     "execution_count": 165,
     "metadata": {},
     "output_type": "execute_result"
    }
   ],
   "source": [
    "data.startswith('dance')  #문자열 data가  'dance'로 시작하는지?"
   ]
  },
  {
   "cell_type": "code",
   "execution_count": 166,
   "metadata": {
    "ExecuteTime": {
     "end_time": "2022-02-03T02:40:50.578881Z",
     "start_time": "2022-02-03T02:40:50.571898Z"
    }
   },
   "outputs": [
    {
     "data": {
      "text/plain": [
       "False"
      ]
     },
     "execution_count": 166,
     "metadata": {},
     "output_type": "execute_result"
    }
   ],
   "source": [
    "data.startswith('123')   #문자열 data가  '123'로 시작하는지?"
   ]
  },
  {
   "cell_type": "code",
   "execution_count": 167,
   "metadata": {
    "ExecuteTime": {
     "end_time": "2022-02-03T02:40:51.685956Z",
     "start_time": "2022-02-03T02:40:51.679974Z"
    }
   },
   "outputs": [
    {
     "data": {
      "text/plain": [
       "True"
      ]
     },
     "execution_count": 167,
     "metadata": {},
     "output_type": "execute_result"
    }
   ],
   "source": [
    "data.endswith('홍길동')   #문자열 data가  '홍길동'로 끝나는지?"
   ]
  },
  {
   "cell_type": "markdown",
   "metadata": {},
   "source": [
    "## File I/O"
   ]
  },
  {
   "cell_type": "code",
   "execution_count": 189,
   "metadata": {
    "ExecuteTime": {
     "end_time": "2022-02-03T07:40:17.376175Z",
     "start_time": "2022-02-03T07:40:17.370192Z"
    }
   },
   "outputs": [
    {
     "name": "stdout",
     "output_type": "stream",
     "text": [
      "E:\\workspace\\python\\tf\\강의자료\\수업용\\수업준비_전남대병원\n",
      "['.ipynb_checkpoints', 'animals.csv', 'animals2.csv', 'backjun_quiz.ipynb', 'Basic', 'fruits.csv', 'python 기초_속성.ipynb', 'Python_기초.ipynb', 'Python_기초1.ipynb', 'Python_기초2.ipynb', 'Python_기초3.ipynb', 'src', '속성과정용_파이썬 기본 문법과 pandas.ipynb', '자습roadmap.pdf', '자습roadmap.pptx', '자습용_Python_기초1.ipynb', '커리큘럼_초안.pptx', '파이썬 기초반 스터디.pptx', '파이썬개발환경.pdf', '파이썬개발환경.pptx', '파이썬기초.pptx']\n"
     ]
    }
   ],
   "source": [
    "import os, sys\n",
    "print(os.getcwd())\n",
    "print(os.listdir())"
   ]
  },
  {
   "cell_type": "code",
   "execution_count": 190,
   "metadata": {
    "ExecuteTime": {
     "end_time": "2022-02-03T07:40:17.607582Z",
     "start_time": "2022-02-03T07:40:17.576639Z"
    }
   },
   "outputs": [
    {
     "name": "stdout",
     "output_type": "stream",
     "text": [
      " E 드라이브의 볼륨: 새 볼륨\n",
      " 볼륨 일련 번호: 5C2B-4A60\n",
      "\n",
      " E:\\workspace\\python\\tf\\강의자료\\수업용\\수업준비_전남대병원 디렉터리\n",
      "\n",
      "2022-02-03  오후 04:40    <DIR>          .\n",
      "2022-02-03  오후 04:40    <DIR>          ..\n",
      "2022-01-31  오전 09:26    <DIR>          .ipynb_checkpoints\n",
      "2020-11-19  오전 02:36                58 animals.csv\n",
      "2020-11-19  오전 02:40               117 animals2.csv\n",
      "2022-02-02  오후 08:12            57,374 backjun_quiz.ipynb\n",
      "2022-01-14  오후 07:49    <DIR>          Basic\n",
      "2020-11-19  오전 02:47                59 fruits.csv\n",
      "2020-11-19  오전 02:00            15,035 python 기초_속성.ipynb\n",
      "2022-02-03  오후 02:03            65,120 Python_기초.ipynb\n",
      "2022-01-26  오전 11:26            44,584 Python_기초1.ipynb\n",
      "2022-01-20  오전 11:30            34,008 Python_기초2.ipynb\n",
      "2022-01-19  오후 09:13            30,753 Python_기초3.ipynb\n",
      "2022-01-14  오후 04:45    <DIR>          src\n",
      "2020-11-23  오전 12:48            19,230 속성과정용_파이썬 기본 문법과 pandas.ipynb\n",
      "2022-01-06  오전 10:29           389,421 자습roadmap.pdf\n",
      "2022-01-06  오전 10:30           418,571 자습roadmap.pptx\n",
      "2022-01-06  오전 09:48            33,002 자습용_Python_기초1.ipynb\n",
      "2022-01-06  오전 10:25           420,491 커리큘럼_초안.pptx\n",
      "2021-12-28  오후 02:14           326,993 파이썬 기초반 스터디.pptx\n",
      "2022-01-19  오후 05:27         4,539,466 파이썬개발환경.pdf\n",
      "2022-01-19  오후 05:27         6,775,364 파이썬개발환경.pptx\n",
      "2022-01-19  오후 05:24            56,120 파이썬기초.pptx\n",
      "              18개 파일          13,225,766 바이트\n",
      "               5개 디렉터리   6,507,278,336 바이트 남음\n"
     ]
    }
   ],
   "source": [
    "!dir"
   ]
  },
  {
   "cell_type": "code",
   "execution_count": 191,
   "metadata": {
    "ExecuteTime": {
     "end_time": "2022-02-03T07:40:17.784085Z",
     "start_time": "2022-02-03T07:40:17.778101Z"
    }
   },
   "outputs": [],
   "source": [
    "fp = open('test.txt', 'w') # w : 쓰기모드\n",
    "fp.write('hello python!')\n",
    "fp.close() #파일을 다 사용하였으면 닫아주어야 합니다."
   ]
  },
  {
   "cell_type": "code",
   "execution_count": 192,
   "metadata": {
    "ExecuteTime": {
     "end_time": "2022-02-03T07:40:17.988572Z",
     "start_time": "2022-02-03T07:40:17.981573Z"
    }
   },
   "outputs": [
    {
     "data": {
      "text/plain": [
       "['.ipynb_checkpoints',\n",
       " 'animals.csv',\n",
       " 'animals2.csv',\n",
       " 'backjun_quiz.ipynb',\n",
       " 'Basic',\n",
       " 'fruits.csv',\n",
       " 'python 기초_속성.ipynb',\n",
       " 'Python_기초.ipynb',\n",
       " 'Python_기초1.ipynb',\n",
       " 'Python_기초2.ipynb',\n",
       " 'Python_기초3.ipynb',\n",
       " 'src',\n",
       " 'test.txt',\n",
       " '속성과정용_파이썬 기본 문법과 pandas.ipynb',\n",
       " '자습roadmap.pdf',\n",
       " '자습roadmap.pptx',\n",
       " '자습용_Python_기초1.ipynb',\n",
       " '커리큘럼_초안.pptx',\n",
       " '파이썬 기초반 스터디.pptx',\n",
       " '파이썬개발환경.pdf',\n",
       " '파이썬개발환경.pptx',\n",
       " '파이썬기초.pptx']"
      ]
     },
     "execution_count": 192,
     "metadata": {},
     "output_type": "execute_result"
    }
   ],
   "source": [
    "os.listdir()"
   ]
  },
  {
   "cell_type": "code",
   "execution_count": 193,
   "metadata": {
    "ExecuteTime": {
     "end_time": "2022-02-03T07:40:18.198987Z",
     "start_time": "2022-02-03T07:40:18.192992Z"
    }
   },
   "outputs": [
    {
     "name": "stdout",
     "output_type": "stream",
     "text": [
      "hello python!\n"
     ]
    }
   ],
   "source": [
    "# 파일 읽기\n",
    "fp = open('test.txt', 'r') # r : 읽기모드\n",
    "data = fp.read()\n",
    "fp.close() #파일을 다 사용하였으면 닫아주어야 합니다.\n",
    "print(data)"
   ]
  },
  {
   "cell_type": "code",
   "execution_count": 194,
   "metadata": {
    "ExecuteTime": {
     "end_time": "2022-02-03T07:40:18.421416Z",
     "start_time": "2022-02-03T07:40:18.415400Z"
    }
   },
   "outputs": [],
   "source": [
    "fp = open('test.txt', 'a') # a : 이어쓰기모드\n",
    "fp.write('\\nhello world!')\n",
    "fp.close() #파일을 다 사용하였으면 닫아주어야 합니다."
   ]
  },
  {
   "cell_type": "code",
   "execution_count": 195,
   "metadata": {
    "ExecuteTime": {
     "end_time": "2022-02-03T07:40:18.656791Z",
     "start_time": "2022-02-03T07:40:18.649770Z"
    }
   },
   "outputs": [
    {
     "name": "stdout",
     "output_type": "stream",
     "text": [
      "hello python!\n",
      "hello world!\n"
     ]
    }
   ],
   "source": [
    "# 파일 읽기\n",
    "fp = open('test.txt', 'r') # r : 읽기모드\n",
    "data = fp.read()\n",
    "fp.close() #파일을 다 사용하였으면 닫아주어야 합니다.\n",
    "print(data)"
   ]
  },
  {
   "cell_type": "code",
   "execution_count": 196,
   "metadata": {
    "ExecuteTime": {
     "end_time": "2022-02-03T07:40:19.077660Z",
     "start_time": "2022-02-03T07:40:19.070645Z"
    }
   },
   "outputs": [
    {
     "data": {
      "text/plain": [
       "['.ipynb_checkpoints',\n",
       " 'animals.csv',\n",
       " 'animals2.csv',\n",
       " 'backjun_quiz.ipynb',\n",
       " 'Basic',\n",
       " 'fruits.csv',\n",
       " 'python 기초_속성.ipynb',\n",
       " 'Python_기초.ipynb',\n",
       " 'Python_기초1.ipynb',\n",
       " 'Python_기초2.ipynb',\n",
       " 'Python_기초3.ipynb',\n",
       " 'src',\n",
       " '속성과정용_파이썬 기본 문법과 pandas.ipynb',\n",
       " '자습roadmap.pdf',\n",
       " '자습roadmap.pptx',\n",
       " '자습용_Python_기초1.ipynb',\n",
       " '커리큘럼_초안.pptx',\n",
       " '파이썬 기초반 스터디.pptx',\n",
       " '파이썬개발환경.pdf',\n",
       " '파이썬개발환경.pptx',\n",
       " '파이썬기초.pptx']"
      ]
     },
     "execution_count": 196,
     "metadata": {},
     "output_type": "execute_result"
    }
   ],
   "source": [
    "# 파일 삭제\n",
    "os.remove('test.txt')\n",
    "os.listdir()"
   ]
  },
  {
   "cell_type": "code",
   "execution_count": null,
   "metadata": {},
   "outputs": [],
   "source": []
  },
  {
   "cell_type": "markdown",
   "metadata": {},
   "source": [
    "Summary\n",
    "* Lambda (익명 함수)  \n",
    "    * 함수형 프로그래밍  \n",
    "    (익명함수 Lambda + Lambda Operator - map, reduce, filter)  \n",
    "        * map : 모든 element에 동일한 함수 적용  \n",
    "        * filter 모든 element에 동일한 함수 적용, 결과가 참인 element => List  \n",
    "        * reduce 모든 element... 줄여나가다가 => 값!!  \n",
    "* List Comprehension  \n",
    "    * [i___ for i in elements if _____]"
   ]
  },
  {
   "cell_type": "markdown",
   "metadata": {},
   "source": [
    "## Lambda  \n",
    "* Lambda (이름이 있는 함수..., 익명함수) + Lambda Operator (map, filter, reduce)"
   ]
  },
  {
   "cell_type": "code",
   "execution_count": 1,
   "metadata": {
    "ExecuteTime": {
     "end_time": "2022-02-04T01:53:37.435131Z",
     "start_time": "2022-02-04T01:53:37.424157Z"
    }
   },
   "outputs": [
    {
     "data": {
      "text/plain": [
       "8"
      ]
     },
     "execution_count": 1,
     "metadata": {},
     "output_type": "execute_result"
    }
   ],
   "source": [
    "# Double\n",
    "def double(x):\n",
    "    return 2 * x\n",
    "\n",
    "double(4)"
   ]
  },
  {
   "cell_type": "code",
   "execution_count": 2,
   "metadata": {
    "ExecuteTime": {
     "end_time": "2022-02-04T01:53:38.537149Z",
     "start_time": "2022-02-04T01:53:38.531201Z"
    }
   },
   "outputs": [
    {
     "data": {
      "text/plain": [
       "<function __main__.<lambda>(x)>"
      ]
     },
     "execution_count": 2,
     "metadata": {},
     "output_type": "execute_result"
    }
   ],
   "source": [
    "lambda x : 2 * x\n",
    "# lambda 변수명 : 계산식"
   ]
  },
  {
   "cell_type": "code",
   "execution_count": 3,
   "metadata": {
    "ExecuteTime": {
     "end_time": "2022-02-04T01:53:39.563441Z",
     "start_time": "2022-02-04T01:53:39.556460Z"
    }
   },
   "outputs": [
    {
     "data": {
      "text/plain": [
       "200"
      ]
     },
     "execution_count": 3,
     "metadata": {},
     "output_type": "execute_result"
    }
   ],
   "source": [
    "(lambda x : 2 * x)(100)"
   ]
  },
  {
   "cell_type": "code",
   "execution_count": 4,
   "metadata": {
    "ExecuteTime": {
     "end_time": "2022-02-04T01:55:05.145583Z",
     "start_time": "2022-02-04T01:55:05.138639Z"
    }
   },
   "outputs": [
    {
     "data": {
      "text/plain": [
       "[2, 4, 6, 8, 10]"
      ]
     },
     "execution_count": 4,
     "metadata": {},
     "output_type": "execute_result"
    }
   ],
   "source": [
    "# [1, 2, 3, 4, 5] List => [2, 4, 6, 8, 10]\n",
    "# 1. for 문을 돌리고,\n",
    "# 2. 각각의 element 들에 대해서 '동일한 함수'를 적용\n",
    "my_list = [1, 2, 3, 4, 5]\n",
    "result = []\n",
    "for element in my_list:\n",
    "    result.append(double(element))\n",
    "result"
   ]
  },
  {
   "cell_type": "code",
   "execution_count": 5,
   "metadata": {
    "ExecuteTime": {
     "end_time": "2022-02-04T01:56:11.758480Z",
     "start_time": "2022-02-04T01:56:11.751500Z"
    }
   },
   "outputs": [
    {
     "data": {
      "text/plain": [
       "[1, 2, 3, 4, 5, 1, 2, 3, 4, 5]"
      ]
     },
     "execution_count": 5,
     "metadata": {},
     "output_type": "execute_result"
    }
   ],
   "source": [
    "double(my_list) # 원하지 않은 결과가 나옴. [1, 2, 3, 4, 5]*2 와 같이 작용"
   ]
  },
  {
   "cell_type": "code",
   "execution_count": 6,
   "metadata": {
    "ExecuteTime": {
     "end_time": "2022-02-04T01:57:06.234863Z",
     "start_time": "2022-02-04T01:57:06.228843Z"
    }
   },
   "outputs": [
    {
     "data": {
      "text/plain": [
       "[1, 2, 3, 4, 5, 1, 2, 3, 4, 5]"
      ]
     },
     "execution_count": 6,
     "metadata": {},
     "output_type": "execute_result"
    }
   ],
   "source": [
    "[1, 2, 3, 4, 5]*2"
   ]
  },
  {
   "cell_type": "markdown",
   "metadata": {},
   "source": [
    "### map(function, list) => list  \n",
    "* list의 각각의 element에 동일한 function을 적용해서 새로운 list를 반환"
   ]
  },
  {
   "cell_type": "code",
   "execution_count": 7,
   "metadata": {
    "ExecuteTime": {
     "end_time": "2022-02-04T01:58:03.308265Z",
     "start_time": "2022-02-04T01:58:03.301249Z"
    }
   },
   "outputs": [
    {
     "data": {
      "text/plain": [
       "[2, 4, 6, 8, 10]"
      ]
     },
     "execution_count": 7,
     "metadata": {},
     "output_type": "execute_result"
    }
   ],
   "source": [
    "# map(Lambda Operator)\n",
    "# \"동일한 함수\"를 적용! (Lambda)\n",
    "list(map(double,[1,2,3,4,5])) "
   ]
  },
  {
   "cell_type": "code",
   "execution_count": 8,
   "metadata": {
    "ExecuteTime": {
     "end_time": "2022-02-04T01:58:32.747518Z",
     "start_time": "2022-02-04T01:58:32.740576Z"
    }
   },
   "outputs": [
    {
     "data": {
      "text/plain": [
       "[2, 4, 6, 8, 10]"
      ]
     },
     "execution_count": 8,
     "metadata": {},
     "output_type": "execute_result"
    }
   ],
   "source": [
    "# double이 되게 간단한 함수니까 익명함수써서 정의하자\n",
    "list(map(lambda x: 2*x,[1,2,3,4,5]))"
   ]
  },
  {
   "cell_type": "code",
   "execution_count": 9,
   "metadata": {
    "ExecuteTime": {
     "end_time": "2022-02-04T02:00:28.099105Z",
     "start_time": "2022-02-04T02:00:28.090166Z"
    }
   },
   "outputs": [
    {
     "data": {
      "text/plain": [
       "[0, 2, 4, 6, 8, 10, 12, 14, 16, 18]"
      ]
     },
     "execution_count": 9,
     "metadata": {},
     "output_type": "execute_result"
    }
   ],
   "source": [
    "list(map(lambda x: x * 2,\n",
    "         range(10) # iterable한 애들이면 넣을 수 있음, list처럼 요소를 하나씩 꺼낼 수 있는..\n",
    "        ))"
   ]
  },
  {
   "cell_type": "markdown",
   "metadata": {},
   "source": [
    "### filter(function, list) => list  \n",
    "* list의 각각의 element에 대해서 동일한 function을 적용한 다음에, 함수의 결과가 True인 Element만 남겨서 새로운 list 반환"
   ]
  },
  {
   "cell_type": "code",
   "execution_count": 10,
   "metadata": {
    "ExecuteTime": {
     "end_time": "2022-02-04T02:01:14.208857Z",
     "start_time": "2022-02-04T02:01:14.199845Z"
    }
   },
   "outputs": [
    {
     "data": {
      "text/plain": [
       "[100, 101, 105, 106]"
      ]
     },
     "execution_count": 10,
     "metadata": {},
     "output_type": "execute_result"
    }
   ],
   "source": [
    "# 가지고 있는 list에서 100이상의 수만 뽑는 경우\n",
    "list(filter( lambda x : x>=100,\n",
    "       [1,100,101,3,4,105,106]\n",
    "      ))"
   ]
  },
  {
   "cell_type": "markdown",
   "metadata": {},
   "source": [
    "- 1-10까지의 자연수 리스트 => 제곱한 결과중에서 50이상의 수만 리스트"
   ]
  },
  {
   "cell_type": "code",
   "execution_count": 11,
   "metadata": {
    "ExecuteTime": {
     "end_time": "2022-02-04T02:02:28.349602Z",
     "start_time": "2022-02-04T02:02:28.342644Z"
    }
   },
   "outputs": [
    {
     "data": {
      "text/plain": [
       "[64, 81, 100]"
      ]
     },
     "execution_count": 11,
     "metadata": {},
     "output_type": "execute_result"
    }
   ],
   "source": [
    "# for문 활용\n",
    "tmp = []\n",
    "for number in range(1,11):\n",
    "    if number ** 2 >= 50:\n",
    "        tmp.append((number) ** 2)\n",
    "tmp "
   ]
  },
  {
   "cell_type": "code",
   "execution_count": 12,
   "metadata": {
    "ExecuteTime": {
     "end_time": "2022-02-04T02:03:27.953267Z",
     "start_time": "2022-02-04T02:03:27.946252Z"
    }
   },
   "outputs": [
    {
     "data": {
      "text/plain": [
       "[64, 81, 100]"
      ]
     },
     "execution_count": 12,
     "metadata": {},
     "output_type": "execute_result"
    }
   ],
   "source": [
    "# map, filter\n",
    "tmp = list(filter(lambda x : x>=50,\n",
    "             map(lambda x : x ** 2, range(1, 11)))) #먼저 map으로 람다함수 적용시킨 결과를, filter로 비교구문 통해 참인 것만 리스트로 출력\n",
    "tmp\n",
    "# 이해를 돕기 위해 여러 줄로 표현, 아래처럼 한 줄로 가능"
   ]
  },
  {
   "cell_type": "code",
   "execution_count": 13,
   "metadata": {
    "ExecuteTime": {
     "end_time": "2022-02-04T02:03:43.224433Z",
     "start_time": "2022-02-04T02:03:43.217419Z"
    }
   },
   "outputs": [
    {
     "data": {
      "text/plain": [
       "[64, 81, 100]"
      ]
     },
     "execution_count": 13,
     "metadata": {},
     "output_type": "execute_result"
    }
   ],
   "source": [
    "list(filter(lambda x : x>=50, map(lambda x : x ** 2, range(1, 11))))"
   ]
  },
  {
   "cell_type": "markdown",
   "metadata": {},
   "source": [
    "### reduce(function, list) => value"
   ]
  },
  {
   "cell_type": "code",
   "execution_count": 14,
   "metadata": {
    "ExecuteTime": {
     "end_time": "2022-02-04T02:08:10.719203Z",
     "start_time": "2022-02-04T02:08:10.712254Z"
    }
   },
   "outputs": [
    {
     "data": {
      "text/plain": [
       "15"
      ]
     },
     "execution_count": 14,
     "metadata": {},
     "output_type": "execute_result"
    }
   ],
   "source": [
    "# example 1~5까지의함\n",
    "result = 0\n",
    "for i in range(1,6):\n",
    "    result = result + i\n",
    "result"
   ]
  },
  {
   "cell_type": "code",
   "execution_count": 16,
   "metadata": {
    "ExecuteTime": {
     "end_time": "2022-02-04T02:08:40.332028Z",
     "start_time": "2022-02-04T02:08:40.325070Z"
    }
   },
   "outputs": [
    {
     "data": {
      "text/plain": [
       "15"
      ]
     },
     "execution_count": 16,
     "metadata": {},
     "output_type": "execute_result"
    }
   ],
   "source": [
    "# 1, 2, 3, 4, 5  <= start\n",
    "#    3, 3, 4, 5\n",
    "#       6, 4, 5\n",
    "#         10, 5\n",
    "#            15\n",
    "from functools import reduce\n",
    "reduce(\n",
    "    lambda a, b: a+b,\n",
    "    range(1,6)\n",
    ")"
   ]
  },
  {
   "cell_type": "code",
   "execution_count": 17,
   "metadata": {
    "ExecuteTime": {
     "end_time": "2022-02-04T02:10:51.402078Z",
     "start_time": "2022-02-04T02:10:51.392074Z"
    }
   },
   "outputs": [
    {
     "data": {
      "text/plain": [
       "105"
      ]
     },
     "execution_count": 17,
     "metadata": {},
     "output_type": "execute_result"
    }
   ],
   "source": [
    "# input : 리스트\n",
    "# output : 리스트의 element 중에서 가장 큰 수\n",
    "# get_max() => filter...\n",
    "def get_max(elements):\n",
    "    tmp = elements[0]\n",
    "    \n",
    "    for element in elements:\n",
    "        if element >= tmp:\n",
    "            tmp = element\n",
    "    return tmp\n",
    "get_max([1, 100, 2,3, 4, 105, 6])"
   ]
  },
  {
   "cell_type": "code",
   "execution_count": 18,
   "metadata": {
    "ExecuteTime": {
     "end_time": "2022-02-04T02:12:20.772365Z",
     "start_time": "2022-02-04T02:12:20.764388Z"
    }
   },
   "outputs": [
    {
     "data": {
      "text/plain": [
       "105"
      ]
     },
     "execution_count": 18,
     "metadata": {},
     "output_type": "execute_result"
    }
   ],
   "source": [
    "# 1, 100, 2, 3, 4, 105, 6\n",
    "# 100, 2, 3, 4, 105, 6\n",
    "# 100, 3, 4, 105, 6\n",
    "# 100, 4, 105, 6\n",
    "# 100, 105, 6\n",
    "# 105, 6\n",
    "# 105\n",
    "reduce(\n",
    "    lambda a, b: a if a > b else b,\n",
    "    [1, 100, 2,3, 4, 105, 6]\n",
    ")"
   ]
  },
  {
   "cell_type": "code",
   "execution_count": 19,
   "metadata": {
    "ExecuteTime": {
     "end_time": "2022-02-04T02:13:06.353497Z",
     "start_time": "2022-02-04T02:13:06.346517Z"
    }
   },
   "outputs": [
    {
     "data": {
      "text/plain": [
       "105"
      ]
     },
     "execution_count": 19,
     "metadata": {},
     "output_type": "execute_result"
    }
   ],
   "source": [
    "get_max = lambda elements: reduce(\n",
    "    lambda a, b: a if a > b else b,\n",
    "    elements\n",
    ")\n",
    "get_max([1, 100, 2,3, 4, 105, 6])"
   ]
  },
  {
   "cell_type": "markdown",
   "metadata": {
    "ExecuteTime": {
     "end_time": "2022-02-04T02:13:49.832283Z",
     "start_time": "2022-02-04T02:13:49.826295Z"
    }
   },
   "source": [
    "## List Comprehension  \n",
    "list를 정의하는 것처럼 쓰지만. 실제로 내부적으로는 Lambda Operator  \n",
    "[i--- for i in elements if ----]"
   ]
  },
  {
   "cell_type": "code",
   "execution_count": 21,
   "metadata": {
    "ExecuteTime": {
     "end_time": "2022-02-04T02:14:21.326045Z",
     "start_time": "2022-02-04T02:14:21.317071Z"
    }
   },
   "outputs": [
    {
     "data": {
      "text/plain": [
       "[1, 4, 9, 16, 25]"
      ]
     },
     "execution_count": 21,
     "metadata": {},
     "output_type": "execute_result"
    }
   ],
   "source": [
    "list(map(\n",
    "    lambda x: x**2, # 1. lambda function\n",
    "    range(1,6)      # 2. list\n",
    "))"
   ]
  },
  {
   "cell_type": "code",
   "execution_count": 22,
   "metadata": {
    "ExecuteTime": {
     "end_time": "2022-02-04T02:15:12.925118Z",
     "start_time": "2022-02-04T02:15:12.918101Z"
    }
   },
   "outputs": [
    {
     "data": {
      "text/plain": [
       "[1, 4, 9, 16, 25]"
      ]
     },
     "execution_count": 22,
     "metadata": {},
     "output_type": "execute_result"
    }
   ],
   "source": [
    "# [i___ for i in elements if ________]\n",
    "[  \n",
    "   i**2 # 1. lambda function  \n",
    "   for i\n",
    "   in range(1,6) # 2. list\n",
    "]"
   ]
  },
  {
   "cell_type": "code",
   "execution_count": 23,
   "metadata": {
    "ExecuteTime": {
     "end_time": "2022-02-04T02:15:59.975872Z",
     "start_time": "2022-02-04T02:15:59.968894Z"
    }
   },
   "outputs": [
    {
     "data": {
      "text/plain": [
       "[1, 4, 9, 16, 25]"
      ]
     },
     "execution_count": 23,
     "metadata": {},
     "output_type": "execute_result"
    }
   ],
   "source": [
    "# [i___ for i in elements if ________]\n",
    "[ i**2 for i in range(1,6) ]"
   ]
  },
  {
   "cell_type": "code",
   "execution_count": 24,
   "metadata": {
    "ExecuteTime": {
     "end_time": "2022-02-04T02:16:27.319764Z",
     "start_time": "2022-02-04T02:16:27.312782Z"
    }
   },
   "outputs": [
    {
     "data": {
      "text/plain": [
       "[101, 104, 105]"
      ]
     },
     "execution_count": 24,
     "metadata": {},
     "output_type": "execute_result"
    }
   ],
   "source": [
    "[\n",
    "    i                               # 1. map lambda\n",
    "    for i\n",
    "    in [101, 2, 3, 104, 105]        # 2. list\n",
    "    if i >= 100                     # 3, filter lambda\n",
    "    \n",
    "]"
   ]
  },
  {
   "cell_type": "code",
   "execution_count": 25,
   "metadata": {
    "ExecuteTime": {
     "end_time": "2022-02-04T02:16:52.050643Z",
     "start_time": "2022-02-04T02:16:52.043662Z"
    }
   },
   "outputs": [
    {
     "data": {
      "text/plain": [
       "[101, 104, 105]"
      ]
     },
     "execution_count": 25,
     "metadata": {},
     "output_type": "execute_result"
    }
   ],
   "source": [
    "[ i for i in [101, 2, 3, 104, 105] if i >= 100 ]"
   ]
  },
  {
   "cell_type": "code",
   "execution_count": 26,
   "metadata": {
    "ExecuteTime": {
     "end_time": "2022-02-04T02:17:24.270498Z",
     "start_time": "2022-02-04T02:17:24.263513Z"
    }
   },
   "outputs": [
    {
     "data": {
      "text/plain": [
       "[64, 81, 100]"
      ]
     },
     "execution_count": 26,
     "metadata": {},
     "output_type": "execute_result"
    }
   ],
   "source": [
    "# 1-10까지의 자연수 리스트 => 제곱한 결과중에서 50이상의 수만 리스트\n",
    "[\n",
    "    i ** 2\n",
    "    for i \n",
    "    in range(1,11)\n",
    "    if i**2 >= 50   \n",
    "]"
   ]
  },
  {
   "cell_type": "code",
   "execution_count": 27,
   "metadata": {
    "ExecuteTime": {
     "end_time": "2022-02-04T02:17:37.664719Z",
     "start_time": "2022-02-04T02:17:37.657703Z"
    }
   },
   "outputs": [
    {
     "data": {
      "text/plain": [
       "[64, 81, 100]"
      ]
     },
     "execution_count": 27,
     "metadata": {},
     "output_type": "execute_result"
    }
   ],
   "source": [
    "[ i ** 2 for i in range(1,11) if i**2 >= 50 ]"
   ]
  },
  {
   "cell_type": "markdown",
   "metadata": {},
   "source": [
    "# Pandas"
   ]
  },
  {
   "cell_type": "code",
   "execution_count": 48,
   "metadata": {
    "ExecuteTime": {
     "end_time": "2022-02-04T03:52:44.795621Z",
     "start_time": "2022-02-04T03:52:42.843834Z"
    }
   },
   "outputs": [],
   "source": [
    "import pandas as pd"
   ]
  },
  {
   "cell_type": "markdown",
   "metadata": {},
   "source": [
    "## Series"
   ]
  },
  {
   "cell_type": "code",
   "execution_count": 49,
   "metadata": {
    "ExecuteTime": {
     "end_time": "2022-02-04T03:52:49.658708Z",
     "start_time": "2022-02-04T03:52:49.648736Z"
    }
   },
   "outputs": [
    {
     "name": "stdout",
     "output_type": "stream",
     "text": [
      "<class 'pandas.core.series.Series'>\n"
     ]
    },
    {
     "data": {
      "text/plain": [
       "0    100\n",
       "1     90\n",
       "2    120\n",
       "3    110\n",
       "4    105\n",
       "dtype: int64"
      ]
     },
     "execution_count": 49,
     "metadata": {},
     "output_type": "execute_result"
    }
   ],
   "source": [
    "series_ex = pd.Series([100, 90, 120, 110, 105])\n",
    "print(type(series_ex))\n",
    "series_ex"
   ]
  },
  {
   "cell_type": "code",
   "execution_count": 50,
   "metadata": {
    "ExecuteTime": {
     "end_time": "2022-02-04T03:53:13.409207Z",
     "start_time": "2022-02-04T03:53:13.398236Z"
    }
   },
   "outputs": [
    {
     "name": "stdout",
     "output_type": "stream",
     "text": [
      "<class 'pandas.core.series.Series'>\n"
     ]
    },
    {
     "data": {
      "text/plain": [
       "월    100\n",
       "화     90\n",
       "수    120\n",
       "목    110\n",
       "금    105\n",
       "dtype: int64"
      ]
     },
     "execution_count": 50,
     "metadata": {},
     "output_type": "execute_result"
    }
   ],
   "source": [
    "series_ex2 = pd.Series([100, 90, 120, 110, 105], index=['월', '화', '수', '목', '금'])\n",
    "print(type(series_ex2))\n",
    "series_ex2"
   ]
  },
  {
   "cell_type": "code",
   "execution_count": 51,
   "metadata": {
    "ExecuteTime": {
     "end_time": "2022-02-04T03:53:22.105986Z",
     "start_time": "2022-02-04T03:53:22.098973Z"
    }
   },
   "outputs": [
    {
     "data": {
      "text/plain": [
       "100"
      ]
     },
     "execution_count": 51,
     "metadata": {},
     "output_type": "execute_result"
    }
   ],
   "source": [
    "series_ex2['월']"
   ]
  },
  {
   "cell_type": "code",
   "execution_count": 52,
   "metadata": {
    "ExecuteTime": {
     "end_time": "2022-02-04T03:53:32.078294Z",
     "start_time": "2022-02-04T03:53:32.070313Z"
    }
   },
   "outputs": [
    {
     "data": {
      "text/plain": [
       "90"
      ]
     },
     "execution_count": 52,
     "metadata": {},
     "output_type": "execute_result"
    }
   ],
   "source": [
    "series_ex2[1]"
   ]
  },
  {
   "cell_type": "markdown",
   "metadata": {},
   "source": [
    "## Dataframe"
   ]
  },
  {
   "cell_type": "code",
   "execution_count": 66,
   "metadata": {
    "ExecuteTime": {
     "end_time": "2022-02-04T04:48:01.344289Z",
     "start_time": "2022-02-04T04:48:01.331324Z"
    }
   },
   "outputs": [
    {
     "name": "stdout",
     "output_type": "stream",
     "text": [
      "<class 'pandas.core.frame.DataFrame'>\n",
      "(5, 3)\n"
     ]
    },
    {
     "data": {
      "text/html": [
       "<div>\n",
       "<style scoped>\n",
       "    .dataframe tbody tr th:only-of-type {\n",
       "        vertical-align: middle;\n",
       "    }\n",
       "\n",
       "    .dataframe tbody tr th {\n",
       "        vertical-align: top;\n",
       "    }\n",
       "\n",
       "    .dataframe thead th {\n",
       "        text-align: right;\n",
       "    }\n",
       "</style>\n",
       "<table border=\"1\" class=\"dataframe\">\n",
       "  <thead>\n",
       "    <tr style=\"text-align: right;\">\n",
       "      <th></th>\n",
       "      <th>나이</th>\n",
       "      <th>수축기혈압</th>\n",
       "      <th>이완기혈압</th>\n",
       "    </tr>\n",
       "  </thead>\n",
       "  <tbody>\n",
       "    <tr>\n",
       "      <th>1</th>\n",
       "      <td>80</td>\n",
       "      <td>120</td>\n",
       "      <td>95</td>\n",
       "    </tr>\n",
       "    <tr>\n",
       "      <th>2</th>\n",
       "      <td>20</td>\n",
       "      <td>110</td>\n",
       "      <td>80</td>\n",
       "    </tr>\n",
       "    <tr>\n",
       "      <th>3</th>\n",
       "      <td>34</td>\n",
       "      <td>105</td>\n",
       "      <td>85</td>\n",
       "    </tr>\n",
       "    <tr>\n",
       "      <th>4</th>\n",
       "      <td>53</td>\n",
       "      <td>120</td>\n",
       "      <td>89</td>\n",
       "    </tr>\n",
       "    <tr>\n",
       "      <th>5</th>\n",
       "      <td>75</td>\n",
       "      <td>128</td>\n",
       "      <td>90</td>\n",
       "    </tr>\n",
       "  </tbody>\n",
       "</table>\n",
       "</div>"
      ],
      "text/plain": [
       "   나이  수축기혈압  이완기혈압\n",
       "1  80    120     95\n",
       "2  20    110     80\n",
       "3  34    105     85\n",
       "4  53    120     89\n",
       "5  75    128     90"
      ]
     },
     "execution_count": 66,
     "metadata": {},
     "output_type": "execute_result"
    }
   ],
   "source": [
    "dataframe_ex = pd.DataFrame({'나이':[80, 20, 34, 53, 75], \n",
    "              '수축기혈압':[120, 110, 105, 120, 128], \n",
    "              '이완기혈압':[95, 80, 85, 89, 90]}, \n",
    "             index=[1, 2, 3, 4, 5])\n",
    "print(type(dataframe_ex))\n",
    "print(dataframe_ex.shape)\n",
    "dataframe_ex"
   ]
  },
  {
   "cell_type": "code",
   "execution_count": 67,
   "metadata": {
    "ExecuteTime": {
     "end_time": "2022-02-04T04:48:12.199301Z",
     "start_time": "2022-02-04T04:48:12.190292Z"
    }
   },
   "outputs": [
    {
     "data": {
      "text/plain": [
       "1    120\n",
       "2    110\n",
       "3    105\n",
       "4    120\n",
       "5    128\n",
       "Name: 수축기혈압, dtype: int64"
      ]
     },
     "execution_count": 67,
     "metadata": {},
     "output_type": "execute_result"
    }
   ],
   "source": [
    "dataframe_ex['수축기혈압']"
   ]
  },
  {
   "cell_type": "code",
   "execution_count": 68,
   "metadata": {
    "ExecuteTime": {
     "end_time": "2022-02-04T04:48:15.521384Z",
     "start_time": "2022-02-04T04:48:15.516398Z"
    }
   },
   "outputs": [
    {
     "name": "stdout",
     "output_type": "stream",
     "text": [
      "<class 'pandas.core.series.Series'>\n"
     ]
    }
   ],
   "source": [
    "a= dataframe_ex['수축기혈압']\n",
    "print(type(a))"
   ]
  },
  {
   "cell_type": "code",
   "execution_count": 69,
   "metadata": {
    "ExecuteTime": {
     "end_time": "2022-02-04T04:48:20.098150Z",
     "start_time": "2022-02-04T04:48:20.089173Z"
    }
   },
   "outputs": [
    {
     "data": {
      "text/plain": [
       "나이        80\n",
       "수축기혈압    120\n",
       "이완기혈압     95\n",
       "Name: 1, dtype: int64"
      ]
     },
     "execution_count": 69,
     "metadata": {},
     "output_type": "execute_result"
    }
   ],
   "source": [
    "dataframe_ex.loc[1]"
   ]
  },
  {
   "cell_type": "code",
   "execution_count": 70,
   "metadata": {
    "ExecuteTime": {
     "end_time": "2022-02-04T04:48:24.087483Z",
     "start_time": "2022-02-04T04:48:24.081498Z"
    }
   },
   "outputs": [
    {
     "name": "stdout",
     "output_type": "stream",
     "text": [
      "<class 'pandas.core.series.Series'>\n"
     ]
    }
   ],
   "source": [
    "b = dataframe_ex.loc[1]\n",
    "print(type(b))"
   ]
  },
  {
   "cell_type": "code",
   "execution_count": 71,
   "metadata": {
    "ExecuteTime": {
     "end_time": "2022-02-04T04:48:31.560502Z",
     "start_time": "2022-02-04T04:48:31.553520Z"
    }
   },
   "outputs": [
    {
     "name": "stdout",
     "output_type": "stream",
     "text": [
      "120\n",
      "120\n"
     ]
    }
   ],
   "source": [
    "print(dataframe_ex['수축기혈압'][1])\n",
    "print(dataframe_ex.loc[1]['수축기혈압'])"
   ]
  },
  {
   "cell_type": "code",
   "execution_count": 72,
   "metadata": {
    "ExecuteTime": {
     "end_time": "2022-02-04T04:48:35.032219Z",
     "start_time": "2022-02-04T04:48:35.025237Z"
    }
   },
   "outputs": [
    {
     "data": {
      "text/plain": [
       "화     90\n",
       "월    100\n",
       "금    105\n",
       "목    110\n",
       "수    120\n",
       "dtype: int64"
      ]
     },
     "execution_count": 72,
     "metadata": {},
     "output_type": "execute_result"
    }
   ],
   "source": [
    "series_ex2.sort_values()  #올림차순, 기본"
   ]
  },
  {
   "cell_type": "code",
   "execution_count": 73,
   "metadata": {
    "ExecuteTime": {
     "end_time": "2022-02-04T04:48:36.333773Z",
     "start_time": "2022-02-04T04:48:36.325759Z"
    }
   },
   "outputs": [
    {
     "data": {
      "text/plain": [
       "수    120\n",
       "목    110\n",
       "금    105\n",
       "월    100\n",
       "화     90\n",
       "dtype: int64"
      ]
     },
     "execution_count": 73,
     "metadata": {},
     "output_type": "execute_result"
    }
   ],
   "source": [
    "series_ex2.sort_values(ascending=False)  #내림차순"
   ]
  },
  {
   "cell_type": "code",
   "execution_count": 74,
   "metadata": {
    "ExecuteTime": {
     "end_time": "2022-02-04T04:48:41.083040Z",
     "start_time": "2022-02-04T04:48:41.071072Z"
    }
   },
   "outputs": [
    {
     "data": {
      "text/html": [
       "<div>\n",
       "<style scoped>\n",
       "    .dataframe tbody tr th:only-of-type {\n",
       "        vertical-align: middle;\n",
       "    }\n",
       "\n",
       "    .dataframe tbody tr th {\n",
       "        vertical-align: top;\n",
       "    }\n",
       "\n",
       "    .dataframe thead th {\n",
       "        text-align: right;\n",
       "    }\n",
       "</style>\n",
       "<table border=\"1\" class=\"dataframe\">\n",
       "  <thead>\n",
       "    <tr style=\"text-align: right;\">\n",
       "      <th></th>\n",
       "      <th>나이</th>\n",
       "      <th>수축기혈압</th>\n",
       "      <th>이완기혈압</th>\n",
       "    </tr>\n",
       "  </thead>\n",
       "  <tbody>\n",
       "    <tr>\n",
       "      <th>5</th>\n",
       "      <td>75</td>\n",
       "      <td>128</td>\n",
       "      <td>90</td>\n",
       "    </tr>\n",
       "    <tr>\n",
       "      <th>1</th>\n",
       "      <td>80</td>\n",
       "      <td>120</td>\n",
       "      <td>95</td>\n",
       "    </tr>\n",
       "    <tr>\n",
       "      <th>4</th>\n",
       "      <td>53</td>\n",
       "      <td>120</td>\n",
       "      <td>89</td>\n",
       "    </tr>\n",
       "    <tr>\n",
       "      <th>2</th>\n",
       "      <td>20</td>\n",
       "      <td>110</td>\n",
       "      <td>80</td>\n",
       "    </tr>\n",
       "    <tr>\n",
       "      <th>3</th>\n",
       "      <td>34</td>\n",
       "      <td>105</td>\n",
       "      <td>85</td>\n",
       "    </tr>\n",
       "  </tbody>\n",
       "</table>\n",
       "</div>"
      ],
      "text/plain": [
       "   나이  수축기혈압  이완기혈압\n",
       "5  75    128     90\n",
       "1  80    120     95\n",
       "4  53    120     89\n",
       "2  20    110     80\n",
       "3  34    105     85"
      ]
     },
     "execution_count": 74,
     "metadata": {},
     "output_type": "execute_result"
    }
   ],
   "source": [
    "dataframe_ex.sort_values(by='수축기혈압', ascending=False) #수축기혈압 을 기준으로 내림차순으로 정렬"
   ]
  },
  {
   "cell_type": "code",
   "execution_count": 75,
   "metadata": {
    "ExecuteTime": {
     "end_time": "2022-02-04T04:48:44.304431Z",
     "start_time": "2022-02-04T04:48:44.297475Z"
    }
   },
   "outputs": [
    {
     "data": {
      "text/plain": [
       "수    120\n",
       "목    110\n",
       "금    105\n",
       "dtype: int64"
      ]
     },
     "execution_count": 75,
     "metadata": {},
     "output_type": "execute_result"
    }
   ],
   "source": [
    "series_ex2[ series_ex2 > 100 ]"
   ]
  },
  {
   "cell_type": "code",
   "execution_count": 77,
   "metadata": {
    "ExecuteTime": {
     "end_time": "2022-02-04T04:49:05.709274Z",
     "start_time": "2022-02-04T04:49:05.698228Z"
    }
   },
   "outputs": [
    {
     "data": {
      "text/html": [
       "<div>\n",
       "<style scoped>\n",
       "    .dataframe tbody tr th:only-of-type {\n",
       "        vertical-align: middle;\n",
       "    }\n",
       "\n",
       "    .dataframe tbody tr th {\n",
       "        vertical-align: top;\n",
       "    }\n",
       "\n",
       "    .dataframe thead th {\n",
       "        text-align: right;\n",
       "    }\n",
       "</style>\n",
       "<table border=\"1\" class=\"dataframe\">\n",
       "  <thead>\n",
       "    <tr style=\"text-align: right;\">\n",
       "      <th></th>\n",
       "      <th>나이</th>\n",
       "      <th>수축기혈압</th>\n",
       "      <th>이완기혈압</th>\n",
       "    </tr>\n",
       "  </thead>\n",
       "  <tbody>\n",
       "    <tr>\n",
       "      <th>1</th>\n",
       "      <td>80</td>\n",
       "      <td>120</td>\n",
       "      <td>95</td>\n",
       "    </tr>\n",
       "    <tr>\n",
       "      <th>4</th>\n",
       "      <td>53</td>\n",
       "      <td>120</td>\n",
       "      <td>89</td>\n",
       "    </tr>\n",
       "    <tr>\n",
       "      <th>5</th>\n",
       "      <td>75</td>\n",
       "      <td>128</td>\n",
       "      <td>90</td>\n",
       "    </tr>\n",
       "  </tbody>\n",
       "</table>\n",
       "</div>"
      ],
      "text/plain": [
       "   나이  수축기혈압  이완기혈압\n",
       "1  80    120     95\n",
       "4  53    120     89\n",
       "5  75    128     90"
      ]
     },
     "execution_count": 77,
     "metadata": {},
     "output_type": "execute_result"
    }
   ],
   "source": [
    "dataframe_ex[ dataframe_ex['수축기혈압'] > 110 ] #수축기혈압 을 기준으로 80이상인 row만 출력"
   ]
  },
  {
   "cell_type": "markdown",
   "metadata": {},
   "source": [
    "## csv 파일 읽기"
   ]
  },
  {
   "cell_type": "code",
   "execution_count": 113,
   "metadata": {
    "ExecuteTime": {
     "end_time": "2022-02-04T05:43:50.477936Z",
     "start_time": "2022-02-04T05:43:50.470924Z"
    }
   },
   "outputs": [],
   "source": [
    "# csv 파일 읽기\n",
    "df = pd.read_csv('animals.csv')"
   ]
  },
  {
   "cell_type": "code",
   "execution_count": 114,
   "metadata": {
    "ExecuteTime": {
     "end_time": "2022-02-04T05:43:52.464594Z",
     "start_time": "2022-02-04T05:43:52.455619Z"
    }
   },
   "outputs": [
    {
     "data": {
      "text/html": [
       "<div>\n",
       "<style scoped>\n",
       "    .dataframe tbody tr th:only-of-type {\n",
       "        vertical-align: middle;\n",
       "    }\n",
       "\n",
       "    .dataframe tbody tr th {\n",
       "        vertical-align: top;\n",
       "    }\n",
       "\n",
       "    .dataframe thead th {\n",
       "        text-align: right;\n",
       "    }\n",
       "</style>\n",
       "<table border=\"1\" class=\"dataframe\">\n",
       "  <thead>\n",
       "    <tr style=\"text-align: right;\">\n",
       "      <th></th>\n",
       "      <th>개</th>\n",
       "      <th>dog</th>\n",
       "    </tr>\n",
       "  </thead>\n",
       "  <tbody>\n",
       "    <tr>\n",
       "      <th>0</th>\n",
       "      <td>고양이</td>\n",
       "      <td>cat</td>\n",
       "    </tr>\n",
       "    <tr>\n",
       "      <th>1</th>\n",
       "      <td>사자</td>\n",
       "      <td>lion</td>\n",
       "    </tr>\n",
       "    <tr>\n",
       "      <th>2</th>\n",
       "      <td>원숭이</td>\n",
       "      <td>monkey</td>\n",
       "    </tr>\n",
       "  </tbody>\n",
       "</table>\n",
       "</div>"
      ],
      "text/plain": [
       "     개     dog\n",
       "0  고양이     cat\n",
       "1   사자    lion\n",
       "2  원숭이  monkey"
      ]
     },
     "execution_count": 114,
     "metadata": {},
     "output_type": "execute_result"
    }
   ],
   "source": [
    "df"
   ]
  },
  {
   "cell_type": "markdown",
   "metadata": {},
   "source": [
    "# Class"
   ]
  },
  {
   "cell_type": "markdown",
   "metadata": {},
   "source": [
    "## Class 기본"
   ]
  },
  {
   "cell_type": "markdown",
   "metadata": {},
   "source": [
    "### example : person Class"
   ]
  },
  {
   "cell_type": "code",
   "execution_count": 78,
   "metadata": {
    "ExecuteTime": {
     "end_time": "2022-02-04T04:53:46.059665Z",
     "start_time": "2022-02-04T04:53:46.048658Z"
    }
   },
   "outputs": [],
   "source": [
    "class Person:\n",
    "\n",
    "    def __init__(self, name, age, money, *args, **kwargs): # instance 생성하는 함수\n",
    "        self.name = name\n",
    "        self.age = age\n",
    "        self.money = money\n",
    "    \n",
    "    def introduce(self):\n",
    "        print('안녕하세요, 저는 {age}살 {name} 입니다.'.format(age = self.age, name = self.name))\n",
    "    \n",
    "    def give(self, partner, amount):\n",
    "        self.money -= amount\n",
    "        partner.money += amount\n",
    "        \n",
    "    def meet(self, another):\n",
    "        print('{myname}이 {partner_name} 을 만났습니다!'.format(\n",
    "            myname = self.name,\n",
    "            partner_name = another.name\n",
    "        ))"
   ]
  },
  {
   "cell_type": "code",
   "execution_count": 79,
   "metadata": {
    "ExecuteTime": {
     "end_time": "2022-02-04T04:54:11.512290Z",
     "start_time": "2022-02-04T04:54:11.507588Z"
    }
   },
   "outputs": [
    {
     "name": "stdout",
     "output_type": "stream",
     "text": [
      "이몽룡 33\n"
     ]
    }
   ],
   "source": [
    "p1 = Person(name = '이몽룡', age = '33', money = 2000)\n",
    "print(p1.name, p1.age)"
   ]
  },
  {
   "cell_type": "code",
   "execution_count": 80,
   "metadata": {
    "ExecuteTime": {
     "end_time": "2022-02-04T04:54:18.254557Z",
     "start_time": "2022-02-04T04:54:18.249562Z"
    }
   },
   "outputs": [
    {
     "name": "stdout",
     "output_type": "stream",
     "text": [
      "안녕하세요, 저는 33살 이몽룡 입니다.\n"
     ]
    }
   ],
   "source": [
    "p1.introduce()"
   ]
  },
  {
   "cell_type": "code",
   "execution_count": 84,
   "metadata": {
    "ExecuteTime": {
     "end_time": "2022-02-04T04:55:18.880533Z",
     "start_time": "2022-02-04T04:55:18.876470Z"
    }
   },
   "outputs": [],
   "source": [
    "data = [\n",
    "        {'name' : '사람1', 'age':30, 'money' : 1000},\n",
    "        {'name' : '사람2', 'age':40, 'money' : 1000},\n",
    "        {'name' : '사람3', 'age':50, 'money' : 1000}\n",
    "]"
   ]
  },
  {
   "cell_type": "code",
   "execution_count": 85,
   "metadata": {
    "ExecuteTime": {
     "end_time": "2022-02-04T04:55:19.411038Z",
     "start_time": "2022-02-04T04:55:19.407045Z"
    }
   },
   "outputs": [],
   "source": [
    "people = [ Person(name = person['name'], age = person['age'], money = person['money']) for person in data]"
   ]
  },
  {
   "cell_type": "code",
   "execution_count": 86,
   "metadata": {
    "ExecuteTime": {
     "end_time": "2022-02-04T04:55:19.926658Z",
     "start_time": "2022-02-04T04:55:19.921670Z"
    }
   },
   "outputs": [
    {
     "name": "stdout",
     "output_type": "stream",
     "text": [
      "안녕하세요, 저는 30살 사람1 입니다.\n"
     ]
    }
   ],
   "source": [
    "people[0].introduce()"
   ]
  },
  {
   "cell_type": "code",
   "execution_count": 87,
   "metadata": {
    "ExecuteTime": {
     "end_time": "2022-02-04T04:55:27.946223Z",
     "start_time": "2022-02-04T04:55:27.941229Z"
    }
   },
   "outputs": [
    {
     "name": "stdout",
     "output_type": "stream",
     "text": [
      "안녕하세요, 저는 40살 사람2 입니다.\n"
     ]
    }
   ],
   "source": [
    "people[1].introduce()"
   ]
  },
  {
   "cell_type": "code",
   "execution_count": 88,
   "metadata": {
    "ExecuteTime": {
     "end_time": "2022-02-04T04:55:35.065193Z",
     "start_time": "2022-02-04T04:55:35.060265Z"
    }
   },
   "outputs": [
    {
     "name": "stdout",
     "output_type": "stream",
     "text": [
      "안녕하세요, 저는 50살 사람3 입니다.\n"
     ]
    }
   ],
   "source": [
    "people[2].introduce()"
   ]
  },
  {
   "cell_type": "code",
   "execution_count": 89,
   "metadata": {
    "ExecuteTime": {
     "end_time": "2022-02-04T04:55:48.296803Z",
     "start_time": "2022-02-04T04:55:48.290819Z"
    }
   },
   "outputs": [
    {
     "name": "stdout",
     "output_type": "stream",
     "text": [
      "이몽룡이 성춘향 을 만났습니다!\n"
     ]
    }
   ],
   "source": [
    "p2 = Person(name = '성춘향', age = '16', money = 5000)\n",
    "p1.meet(another = p2)"
   ]
  },
  {
   "cell_type": "code",
   "execution_count": 90,
   "metadata": {
    "ExecuteTime": {
     "end_time": "2022-02-04T04:56:03.962918Z",
     "start_time": "2022-02-04T04:56:03.956974Z"
    }
   },
   "outputs": [
    {
     "name": "stdout",
     "output_type": "stream",
     "text": [
      "3000\n",
      "4000\n"
     ]
    }
   ],
   "source": [
    "p2.give(partner = p1, amount = 2000)\n",
    "print(p2.money)\n",
    "print(p1.money)"
   ]
  },
  {
   "cell_type": "code",
   "execution_count": 94,
   "metadata": {
    "ExecuteTime": {
     "end_time": "2022-02-04T05:26:52.234406Z",
     "start_time": "2022-02-04T05:26:52.229408Z"
    }
   },
   "outputs": [
    {
     "name": "stdout",
     "output_type": "stream",
     "text": [
      "<__main__.Person object at 0x000001477BD2D808>\n"
     ]
    }
   ],
   "source": [
    "print(p1)"
   ]
  },
  {
   "cell_type": "code",
   "execution_count": 95,
   "metadata": {
    "ExecuteTime": {
     "end_time": "2022-02-04T05:26:52.754003Z",
     "start_time": "2022-02-04T05:26:52.745025Z"
    }
   },
   "outputs": [],
   "source": [
    "# Class에 아래의 코드를 추가하여 동작방식을 변경\n",
    "# 객체의 메소드의 동작방식을 바꿀 수 있다.\n",
    "class Person:\n",
    "\n",
    "    def __init__(self, name, age, money, *args, **kwargs): # instance 생성하는 함수\n",
    "        self.name = name\n",
    "        self.age = age\n",
    "        self.money = money\n",
    "    \n",
    "    def __str__(self): # print에 대한 기능 확장 (해당 class에 대해서)\n",
    "        return self.name\n",
    "    \n",
    "    def __add__(self, partner): # 사칙연산에 대한 기능 확장 (해당 class에 대해서)\n",
    "        print('{name} & {partner_name} | 결혼을 축하합니다.'.format(\n",
    "            name = self.name,\n",
    "            partner_name = partner.name\n",
    "        ))\n",
    "    \n",
    "    def introduce(self):\n",
    "        print('안녕하세요, 저는 {age}살 {name} 입니다.'.format(age = self.age, name = self.name))\n",
    "    \n",
    "    def give(self, partner, amount):\n",
    "        self.money -= amount\n",
    "        partner.money += amount\n",
    "        \n",
    "    def meet(self, another):\n",
    "        print('{myname}이 {partner_name} 을 만났습니다!'.format(\n",
    "            myname = self.name,\n",
    "            partner_name = another.name\n",
    "        ))"
   ]
  },
  {
   "cell_type": "code",
   "execution_count": 96,
   "metadata": {
    "ExecuteTime": {
     "end_time": "2022-02-04T05:27:03.638899Z",
     "start_time": "2022-02-04T05:27:03.632915Z"
    }
   },
   "outputs": [
    {
     "name": "stdout",
     "output_type": "stream",
     "text": [
      "이몽룡\n"
     ]
    }
   ],
   "source": [
    "p1 = Person(name = '이몽룡', age = '33', money = 2000)\n",
    "p2 = Person(name = '성춘향', age = '16', money = 5000)\n",
    "print(p1)"
   ]
  },
  {
   "cell_type": "code",
   "execution_count": 97,
   "metadata": {
    "ExecuteTime": {
     "end_time": "2022-02-04T05:27:12.886177Z",
     "start_time": "2022-02-04T05:27:12.881223Z"
    }
   },
   "outputs": [
    {
     "name": "stdout",
     "output_type": "stream",
     "text": [
      "이몽룡 & 성춘향 | 결혼을 축하합니다.\n"
     ]
    }
   ],
   "source": [
    "p1 + p2"
   ]
  },
  {
   "cell_type": "markdown",
   "metadata": {},
   "source": [
    "### example : Triangle Class  \n",
    "* State : height, width  \n",
    "* Behavior : area(넓이계산), is_bigger(다른 삼각형이랑 비교)"
   ]
  },
  {
   "cell_type": "code",
   "execution_count": 98,
   "metadata": {
    "ExecuteTime": {
     "end_time": "2022-02-04T05:28:28.322222Z",
     "start_time": "2022-02-04T05:28:28.314538Z"
    }
   },
   "outputs": [],
   "source": [
    "class Triangle:\n",
    "    def __init__(self, height, width):\n",
    "        self.height = height\n",
    "        self.width = width\n",
    "    \n",
    "    def __str__(self):\n",
    "        return '({width}, {height}) Triangle'.format(\n",
    "            width = self.width,\n",
    "            height = self.height\n",
    "        )\n",
    "    \n",
    "    def area(self):\n",
    "        self.area = self.height * self.width * 1/2\n",
    "        return self.area\n",
    "    \n",
    "    def is_bigger(self, another):\n",
    "        return '큽니다' if self.area() > another.area() else ('작습니다' if self.area() < another.area() else '똑같습니다.')        "
   ]
  },
  {
   "cell_type": "code",
   "execution_count": 99,
   "metadata": {
    "ExecuteTime": {
     "end_time": "2022-02-04T05:29:03.616116Z",
     "start_time": "2022-02-04T05:29:03.610134Z"
    }
   },
   "outputs": [
    {
     "name": "stdout",
     "output_type": "stream",
     "text": [
      "(20, 10) Triangle\n"
     ]
    }
   ],
   "source": [
    "t1 = Triangle(10, 20)\n",
    "print(t1)"
   ]
  },
  {
   "cell_type": "code",
   "execution_count": 100,
   "metadata": {
    "ExecuteTime": {
     "end_time": "2022-02-04T05:29:22.916548Z",
     "start_time": "2022-02-04T05:29:22.911527Z"
    }
   },
   "outputs": [
    {
     "name": "stdout",
     "output_type": "stream",
     "text": [
      "(5, 10) Triangle\n"
     ]
    }
   ],
   "source": [
    "t2 = Triangle(10,5)\n",
    "print(t2)"
   ]
  },
  {
   "cell_type": "code",
   "execution_count": 101,
   "metadata": {
    "ExecuteTime": {
     "end_time": "2022-02-04T05:29:39.904125Z",
     "start_time": "2022-02-04T05:29:39.898138Z"
    }
   },
   "outputs": [
    {
     "data": {
      "text/plain": [
       "'큽니다'"
      ]
     },
     "execution_count": 101,
     "metadata": {},
     "output_type": "execute_result"
    }
   ],
   "source": [
    "t1.is_bigger(t2)"
   ]
  },
  {
   "cell_type": "markdown",
   "metadata": {
    "ExecuteTime": {
     "end_time": "2022-02-04T05:31:38.619993Z",
     "start_time": "2022-02-04T05:31:38.614034Z"
    }
   },
   "source": [
    "## Class 상속 (객체의 상속, Inheritance)  \n",
    "모든 Class는 일단 object Class에서 상속을 받는 형태  \n",
    "class object: _init_, __str__, __add\\ 같은 method들이 사전에 정의되어있음  \n",
    "새로 만드는 class에서 저런 동적을 변경하고 싶다면 위의 method들을 재정의하면됨, 그러한 동적을 method overriding이라고 칭함"
   ]
  },
  {
   "cell_type": "markdown",
   "metadata": {},
   "source": [
    "### 1.4.2.1  simple example   \n",
    "동물 : 행동 (eat, attack)  \n",
    "강아지 : (+ 행동 : bark)  \n",
    "새 : (+ 행동 : fly)"
   ]
  },
  {
   "cell_type": "code",
   "execution_count": 103,
   "metadata": {
    "ExecuteTime": {
     "end_time": "2022-02-04T05:32:43.636293Z",
     "start_time": "2022-02-04T05:32:43.632161Z"
    }
   },
   "outputs": [],
   "source": [
    "class Animal: # 사실상 기본적으로 class Animal(object): 이런식으로 상속 받는 것 \n",
    "              # class object: __init__, __str__, __add__, 이런게 미리 다 정의되어 있는 것!\n",
    "    \n",
    "    def eat(self):\n",
    "        print('먹는다!!!')\n",
    "        \n",
    "    def attack(self):\n",
    "        print('공격!!!')"
   ]
  },
  {
   "cell_type": "code",
   "execution_count": 104,
   "metadata": {
    "ExecuteTime": {
     "end_time": "2022-02-04T05:32:52.302118Z",
     "start_time": "2022-02-04T05:32:52.298028Z"
    }
   },
   "outputs": [],
   "source": [
    "class Dog(Animal):\n",
    "    def bark(self):\n",
    "        print('월월!!')"
   ]
  },
  {
   "cell_type": "code",
   "execution_count": 105,
   "metadata": {
    "ExecuteTime": {
     "end_time": "2022-02-04T05:33:09.130144Z",
     "start_time": "2022-02-04T05:33:09.126032Z"
    }
   },
   "outputs": [
    {
     "name": "stdout",
     "output_type": "stream",
     "text": [
      "월월!!\n",
      "먹는다!!!\n"
     ]
    }
   ],
   "source": [
    "dog = Dog()\n",
    "dog.bark()\n",
    "dog.eat()  # Dog  Class 에는 없던 eat 가 실행됨 - 생성시에 Animal을 상속했기 때문"
   ]
  },
  {
   "cell_type": "code",
   "execution_count": 106,
   "metadata": {
    "ExecuteTime": {
     "end_time": "2022-02-04T05:34:07.973037Z",
     "start_time": "2022-02-04T05:34:07.968671Z"
    }
   },
   "outputs": [],
   "source": [
    "class Bird(Animal):\n",
    "    def fly(self):\n",
    "        print('날다')"
   ]
  },
  {
   "cell_type": "code",
   "execution_count": 107,
   "metadata": {
    "ExecuteTime": {
     "end_time": "2022-02-04T05:34:20.818315Z",
     "start_time": "2022-02-04T05:34:20.813366Z"
    }
   },
   "outputs": [
    {
     "name": "stdout",
     "output_type": "stream",
     "text": [
      "날다\n"
     ]
    }
   ],
   "source": [
    "bird = Bird()\n",
    "bird.fly()"
   ]
  },
  {
   "cell_type": "code",
   "execution_count": 108,
   "metadata": {
    "ExecuteTime": {
     "end_time": "2022-02-04T05:34:25.616518Z",
     "start_time": "2022-02-04T05:34:25.606546Z"
    }
   },
   "outputs": [
    {
     "ename": "AttributeError",
     "evalue": "'Dog' object has no attribute 'fly'",
     "output_type": "error",
     "traceback": [
      "\u001b[1;31m---------------------------------------------------------------------------\u001b[0m",
      "\u001b[1;31mAttributeError\u001b[0m                            Traceback (most recent call last)",
      "\u001b[1;32m<ipython-input-108-c3a1258b5dfc>\u001b[0m in \u001b[0;36m<module>\u001b[1;34m\u001b[0m\n\u001b[1;32m----> 1\u001b[1;33m \u001b[0mdog\u001b[0m\u001b[1;33m.\u001b[0m\u001b[0mfly\u001b[0m\u001b[1;33m(\u001b[0m\u001b[1;33m)\u001b[0m\u001b[1;33m\u001b[0m\u001b[1;33m\u001b[0m\u001b[0m\n\u001b[0m",
      "\u001b[1;31mAttributeError\u001b[0m: 'Dog' object has no attribute 'fly'"
     ]
    }
   ],
   "source": [
    "dog.fly()  #그럼 메소드는 없으므로 에러 발생"
   ]
  },
  {
   "cell_type": "markdown",
   "metadata": {},
   "source": [
    "### Method Overriding"
   ]
  },
  {
   "cell_type": "code",
   "execution_count": 109,
   "metadata": {
    "ExecuteTime": {
     "end_time": "2022-02-04T05:35:05.294434Z",
     "start_time": "2022-02-04T05:35:05.289413Z"
    }
   },
   "outputs": [],
   "source": [
    "class Dog(Animal):\n",
    "    \n",
    "    def eat(self):\n",
    "        print('침을 흘리면서 먹는다!!') # method overriding\n",
    "    \n",
    "    def bark(self):\n",
    "        print('월월!!')"
   ]
  },
  {
   "cell_type": "code",
   "execution_count": 110,
   "metadata": {
    "ExecuteTime": {
     "end_time": "2022-02-04T05:35:18.559978Z",
     "start_time": "2022-02-04T05:35:18.553987Z"
    }
   },
   "outputs": [
    {
     "name": "stdout",
     "output_type": "stream",
     "text": [
      "침을 흘리면서 먹는다!!\n"
     ]
    }
   ],
   "source": [
    "dog = Dog()\n",
    "dog.eat()  # 기존 Anumal의 eat 대신에 Dog에서 선언한 eat를 실행"
   ]
  },
  {
   "cell_type": "code",
   "execution_count": null,
   "metadata": {},
   "outputs": [],
   "source": []
  }
 ],
 "metadata": {
  "kernelspec": {
   "display_name": "Python 3",
   "language": "python",
   "name": "python3"
  },
  "language_info": {
   "codemirror_mode": {
    "name": "ipython",
    "version": 3
   },
   "file_extension": ".py",
   "mimetype": "text/x-python",
   "name": "python",
   "nbconvert_exporter": "python",
   "pygments_lexer": "ipython3",
   "version": "3.7.6"
  },
  "toc": {
   "base_numbering": 1,
   "nav_menu": {},
   "number_sections": true,
   "sideBar": true,
   "skip_h1_title": false,
   "title_cell": "Table of Contents",
   "title_sidebar": "Contents",
   "toc_cell": false,
   "toc_position": {
    "height": "calc(100% - 180px)",
    "left": "10px",
    "top": "150px",
    "width": "243px"
   },
   "toc_section_display": true,
   "toc_window_display": true
  }
 },
 "nbformat": 4,
 "nbformat_minor": 2
}
