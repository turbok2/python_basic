{
 "cells": [
  {
   "cell_type": "markdown",
   "metadata": {},
   "source": [
    "# Python 기초 3"
   ]
  },
  {
   "cell_type": "markdown",
   "metadata": {},
   "source": [
    "[구글 코랩에서 열기](https://colab.research.google.com/github/turbok2/Basic/blob/main/Python_%EA%B8%B0%EC%B4%883.ipynb)"
   ]
  },
  {
   "cell_type": "markdown",
   "metadata": {},
   "source": [
    "## Summary\n",
    "* Function advanced\n",
    "    * \\*args(tuple), \\*\\*kwargs(dict)\n",
    "    * \\*args, **kwargs를 이용한 옵션 추가  \n",
    "  \n",
    "  \n",
    "* Decorator (함수를 반환하는 함수)  \n",
    "\n",
    "    함수를 반환하는 함수 def \\___________(func) : wrapped...반환!  \n",
    "    @decorator_name  \n",
    "  \n",
    "  \n",
    "* 객체지향프로그래밍  \n",
    "\n",
    "    Class, Object(Instance)"
   ]
  },
  {
   "cell_type": "markdown",
   "metadata": {},
   "source": [
    "## Function advanced\n",
    "* \\*args (여러 개의 인자... => tuple)\n",
    "* \\**kwargs (여러 개의 인자; 이름이 있다!(Keyword Argument) => Dict)\n",
    "\n",
    "args : 함수를 정의할 때 '\\*'를 쓰면 pack의 기능, 함수를 호출 할때 '\\*'은 unpack  \n",
    "kwargs : 함수를 정의할 때 '\\*\\*'를 쓰면 pack의 기능, 함수를 호출 할때 '\\*\\*'은 unpack"
   ]
  },
  {
   "cell_type": "markdown",
   "metadata": {},
   "source": [
    "### args example : pack "
   ]
  },
  {
   "cell_type": "code",
   "execution_count": 1,
   "metadata": {},
   "outputs": [
    {
     "name": "stdout",
     "output_type": "stream",
     "text": [
      "(1, 2, 3, 4)\n"
     ]
    }
   ],
   "source": [
    "# 1. 함수 정의 (+ 남들이 만들어둔 편리한 함수...)\n",
    "#    함수 인자 ... + 옵션으로 ... (입력해도 그만, 안해도 그만. 입력하면 => 0)\n",
    "# *args, **kwargs\n",
    "def get_sum(*args):\n",
    "    print(args)\n",
    "get_sum(1,2,3,4)"
   ]
  },
  {
   "cell_type": "code",
   "execution_count": 2,
   "metadata": {},
   "outputs": [
    {
     "data": {
      "text/plain": [
       "10"
      ]
     },
     "execution_count": 2,
     "metadata": {},
     "output_type": "execute_result"
    }
   ],
   "source": [
    "def get_sum(*args): # 함수를 정의할 떄 '*' => 하나로 묶어주는 기능! (pack)\n",
    "    result = 0\n",
    "    for arg in args:\n",
    "        result += arg\n",
    "    return result\n",
    "get_sum(1,2,3,4)"
   ]
  },
  {
   "cell_type": "markdown",
   "metadata": {},
   "source": [
    "### args example : unpack "
   ]
  },
  {
   "cell_type": "code",
   "execution_count": 3,
   "metadata": {},
   "outputs": [
    {
     "name": "stdout",
     "output_type": "stream",
     "text": [
      "([10, 20, 30, 40],)\n"
     ]
    }
   ],
   "source": [
    "# * => pack, unpack\n",
    "def get_sum(*args):\n",
    "    print(args)\n",
    "numbers = [10, 20, 30, 40]\n",
    "get_sum(numbers)"
   ]
  },
  {
   "cell_type": "code",
   "execution_count": 4,
   "metadata": {},
   "outputs": [
    {
     "ename": "TypeError",
     "evalue": "unsupported operand type(s) for +=: 'int' and 'list'",
     "output_type": "error",
     "traceback": [
      "\u001b[1;31m---------------------------------------------------------------------------\u001b[0m",
      "\u001b[1;31mTypeError\u001b[0m                                 Traceback (most recent call last)",
      "\u001b[1;32m<ipython-input-4-341df16080b7>\u001b[0m in \u001b[0;36m<module>\u001b[1;34m\u001b[0m\n\u001b[0;32m      4\u001b[0m         \u001b[0mresult\u001b[0m \u001b[1;33m+=\u001b[0m \u001b[0marg\u001b[0m\u001b[1;33m\u001b[0m\u001b[1;33m\u001b[0m\u001b[0m\n\u001b[0;32m      5\u001b[0m     \u001b[1;32mreturn\u001b[0m \u001b[0mresult\u001b[0m\u001b[1;33m\u001b[0m\u001b[1;33m\u001b[0m\u001b[0m\n\u001b[1;32m----> 6\u001b[1;33m \u001b[0mget_sum\u001b[0m\u001b[1;33m(\u001b[0m\u001b[0mnumbers\u001b[0m\u001b[1;33m)\u001b[0m\u001b[1;33m\u001b[0m\u001b[1;33m\u001b[0m\u001b[0m\n\u001b[0m",
      "\u001b[1;32m<ipython-input-4-341df16080b7>\u001b[0m in \u001b[0;36mget_sum\u001b[1;34m(*args)\u001b[0m\n\u001b[0;32m      2\u001b[0m     \u001b[0mresult\u001b[0m \u001b[1;33m=\u001b[0m \u001b[1;36m0\u001b[0m\u001b[1;33m\u001b[0m\u001b[1;33m\u001b[0m\u001b[0m\n\u001b[0;32m      3\u001b[0m     \u001b[1;32mfor\u001b[0m \u001b[0marg\u001b[0m \u001b[1;32min\u001b[0m \u001b[0margs\u001b[0m\u001b[1;33m:\u001b[0m\u001b[1;33m\u001b[0m\u001b[1;33m\u001b[0m\u001b[0m\n\u001b[1;32m----> 4\u001b[1;33m         \u001b[0mresult\u001b[0m \u001b[1;33m+=\u001b[0m \u001b[0marg\u001b[0m\u001b[1;33m\u001b[0m\u001b[1;33m\u001b[0m\u001b[0m\n\u001b[0m\u001b[0;32m      5\u001b[0m     \u001b[1;32mreturn\u001b[0m \u001b[0mresult\u001b[0m\u001b[1;33m\u001b[0m\u001b[1;33m\u001b[0m\u001b[0m\n\u001b[0;32m      6\u001b[0m \u001b[0mget_sum\u001b[0m\u001b[1;33m(\u001b[0m\u001b[0mnumbers\u001b[0m\u001b[1;33m)\u001b[0m\u001b[1;33m\u001b[0m\u001b[1;33m\u001b[0m\u001b[0m\n",
      "\u001b[1;31mTypeError\u001b[0m: unsupported operand type(s) for +=: 'int' and 'list'"
     ]
    }
   ],
   "source": [
    "def get_sum(*args): # 함수를 정의할 떄 '*' => 하나로 묶어주는 기능! (pack)\n",
    "    result = 0\n",
    "    for arg in args:\n",
    "        result += arg\n",
    "    return result\n",
    "get_sum(numbers)"
   ]
  },
  {
   "cell_type": "code",
   "execution_count": 5,
   "metadata": {},
   "outputs": [
    {
     "data": {
      "text/plain": [
       "100"
      ]
     },
     "execution_count": 5,
     "metadata": {},
     "output_type": "execute_result"
    }
   ],
   "source": [
    "get_sum(*numbers) # 함수를 호출할 때 '*' => 묶인걸 풀어주는 기능! (unpack)"
   ]
  },
  {
   "cell_type": "markdown",
   "metadata": {},
   "source": [
    "### kwargs example : pack "
   ]
  },
  {
   "cell_type": "code",
   "execution_count": 6,
   "metadata": {},
   "outputs": [
    {
     "name": "stdout",
     "output_type": "stream",
     "text": [
      "{}\n"
     ]
    }
   ],
   "source": [
    "def hello(**kwargs): # pack!\n",
    "    print(kwargs)\n",
    "hello()"
   ]
  },
  {
   "cell_type": "code",
   "execution_count": 7,
   "metadata": {},
   "outputs": [
    {
     "name": "stdout",
     "output_type": "stream",
     "text": [
      "{'name': 'Boseop', 'email': 'svei89@korea.ac.kr'}\n"
     ]
    }
   ],
   "source": [
    "hello(name = 'Boseop', email = 'svei89@korea.ac.kr')"
   ]
  },
  {
   "cell_type": "markdown",
   "metadata": {},
   "source": [
    "### kwargs example : unpack"
   ]
  },
  {
   "cell_type": "code",
   "execution_count": 8,
   "metadata": {},
   "outputs": [
    {
     "ename": "TypeError",
     "evalue": "hello() takes 0 positional arguments but 1 was given",
     "output_type": "error",
     "traceback": [
      "\u001b[1;31m---------------------------------------------------------------------------\u001b[0m",
      "\u001b[1;31mTypeError\u001b[0m                                 Traceback (most recent call last)",
      "\u001b[1;32m<ipython-input-8-f69c6c3386ad>\u001b[0m in \u001b[0;36m<module>\u001b[1;34m\u001b[0m\n\u001b[0;32m      1\u001b[0m \u001b[0mstudent\u001b[0m \u001b[1;33m=\u001b[0m \u001b[1;33m{\u001b[0m\u001b[1;34m'name'\u001b[0m \u001b[1;33m:\u001b[0m \u001b[1;34m'Boseop'\u001b[0m\u001b[1;33m,\u001b[0m \u001b[1;34m'email'\u001b[0m \u001b[1;33m:\u001b[0m \u001b[1;34m'svei89@korea.ac.kr'\u001b[0m\u001b[1;33m}\u001b[0m\u001b[1;33m\u001b[0m\u001b[1;33m\u001b[0m\u001b[0m\n\u001b[1;32m----> 2\u001b[1;33m \u001b[0mhello\u001b[0m\u001b[1;33m(\u001b[0m\u001b[0mstudent\u001b[0m\u001b[1;33m)\u001b[0m\u001b[1;33m\u001b[0m\u001b[1;33m\u001b[0m\u001b[0m\n\u001b[0m",
      "\u001b[1;31mTypeError\u001b[0m: hello() takes 0 positional arguments but 1 was given"
     ]
    }
   ],
   "source": [
    "student = {'name' : 'Boseop', 'email' : 'svei89@korea.ac.kr'}\n",
    "hello(student)"
   ]
  },
  {
   "cell_type": "markdown",
   "metadata": {},
   "source": [
    "### args, kwargs example "
   ]
  },
  {
   "cell_type": "code",
   "execution_count": 9,
   "metadata": {},
   "outputs": [
    {
     "name": "stdout",
     "output_type": "stream",
     "text": [
      "(1, 2, 3)\n",
      "{'name': 'Boseop'}\n"
     ]
    }
   ],
   "source": [
    "def hello(*args, **kwargs):\n",
    "    print(args)\n",
    "    print(kwargs)\n",
    "hello(1, 2, 3, name = 'Boseop')"
   ]
  },
  {
   "cell_type": "code",
   "execution_count": 10,
   "metadata": {},
   "outputs": [
    {
     "name": "stdout",
     "output_type": "stream",
     "text": [
      "안녕하세요, boseop 입니다.\n",
      "이메일은 svei89@korea.ac.kr\n",
      "----------------\n",
      "()\n",
      "{}\n",
      "----------------\n"
     ]
    }
   ],
   "source": [
    "# 자기소개 하는 함수\n",
    "# 필수정보 => 이름, 이메일\n",
    "# 선택정보 =>______________\n",
    "def hello(name, email, *args, **kwargs):\n",
    "    print('안녕하세요, ' + name + ' 입니다.')\n",
    "    print('이메일은 ' + email)\n",
    "    print('----------------')\n",
    "    print(args)\n",
    "    print(kwargs)\n",
    "    print('----------------')\n",
    "hello(name = 'boseop', email = 'svei89@korea.ac.kr')"
   ]
  },
  {
   "cell_type": "markdown",
   "metadata": {},
   "source": [
    "## Decorator  \n",
    "기존에 정의된 함수의 능력을 확장할 수 있게 해주는 함수, 먼저 아래의 예제로 Python 함수의 특징을 살펴보기  \n",
    "_(해당 section은 아래의 블로그를 참조하여 작성하였습니다.)_  \n",
    "\n",
    "출처 : http://jonnung.github.io/python/2015/08/17/python-decorator/  \n",
    "출처 : http://trowind.tistory.com/72  \n",
    "출처 : http://bluese05.tistory.com/30"
   ]
  },
  {
   "cell_type": "markdown",
   "metadata": {},
   "source": [
    "### 함수의 특징 "
   ]
  },
  {
   "cell_type": "markdown",
   "metadata": {},
   "source": [
    "#### 1. 변수에 할당할 수 있다. "
   ]
  },
  {
   "cell_type": "code",
   "execution_count": 11,
   "metadata": {},
   "outputs": [
    {
     "data": {
      "text/plain": [
       "'Hello boseop'"
      ]
     },
     "execution_count": 11,
     "metadata": {},
     "output_type": "execute_result"
    }
   ],
   "source": [
    "def greet(name):\n",
    "    return \"Hello {}\".format(name)\n",
    "\n",
    "greet_someone = greet\n",
    "greet_someone(\"boseop\")"
   ]
  },
  {
   "cell_type": "markdown",
   "metadata": {},
   "source": [
    "#### 2. 다른 함수 내에서 정의될 수 있다. "
   ]
  },
  {
   "cell_type": "code",
   "execution_count": 12,
   "metadata": {},
   "outputs": [
    {
     "data": {
      "text/plain": [
       "'Hello boseop'"
      ]
     },
     "execution_count": 12,
     "metadata": {},
     "output_type": "execute_result"
    }
   ],
   "source": [
    "def greeting(name):\n",
    "    def greet_message():\n",
    "        return 'Hello'\n",
    "    return \"{} {}\".format(greet_message(), name)\n",
    "\n",
    "greeting(\"boseop\")"
   ]
  },
  {
   "cell_type": "markdown",
   "metadata": {},
   "source": [
    "#### 3. 함수의 인자로 전달할 수 있다."
   ]
  },
  {
   "cell_type": "code",
   "execution_count": 13,
   "metadata": {},
   "outputs": [
    {
     "data": {
      "text/plain": [
       "'Hello boseop'"
      ]
     },
     "execution_count": 13,
     "metadata": {},
     "output_type": "execute_result"
    }
   ],
   "source": [
    "def change_name_greet(func):\n",
    "    name = \"boseop\"\n",
    "    return func(name)\n",
    "change_name_greet(greet)"
   ]
  },
  {
   "cell_type": "markdown",
   "metadata": {},
   "source": [
    "#### 4. 함수의 반환값이 될 수 있다. "
   ]
  },
  {
   "cell_type": "code",
   "execution_count": 14,
   "metadata": {},
   "outputs": [
    {
     "data": {
      "text/plain": [
       "'HELLO BOSEOP'"
      ]
     },
     "execution_count": 14,
     "metadata": {},
     "output_type": "execute_result"
    }
   ],
   "source": [
    "def uppercase(func):\n",
    "    def wrapper(name):\n",
    "        result = func(name)\n",
    "        return result.upper()\n",
    "    return wrapper\n",
    "\n",
    "new_greet = uppercase(greet)\n",
    "new_greet(\"boseop\")"
   ]
  },
  {
   "cell_type": "markdown",
   "metadata": {},
   "source": [
    "### Decorator 활용\n",
    "아래의 예제는 다음과 같다.\n",
    "  \n",
    "* 먼저 decorator 역할을 하는 함수를 정의하고, 이 함수에서 decorator가 적용될 함수를 인자로 받는다. Python은 함수의 인자로 다른 함수를 받을 수 있다는 특징을 이용하는 것  \n",
    "* decorator 역할을 하는 함수 내부에 또 한번 함수를 선언(nested function)하여 여기에 추가적인 작업(시간 출력)을 선언해 주는 것  \n",
    "* nested 함수를 return 한다."
   ]
  },
  {
   "cell_type": "code",
   "execution_count": 1,
   "metadata": {
    "ExecuteTime": {
     "end_time": "2021-12-24T07:50:10.043804Z",
     "start_time": "2021-12-24T07:50:10.036794Z"
    }
   },
   "outputs": [],
   "source": [
    "def main_function():\n",
    "     print(\"MAIN FUNCTION START\")"
   ]
  },
  {
   "cell_type": "code",
   "execution_count": 2,
   "metadata": {
    "ExecuteTime": {
     "end_time": "2021-12-24T07:50:10.652887Z",
     "start_time": "2021-12-24T07:50:10.644406Z"
    }
   },
   "outputs": [],
   "source": [
    "import datetime\n",
    "def datetime_decorator(func):\n",
    "    def decorated():\n",
    "        print(datetime.datetime.now())\n",
    "        func()\n",
    "        print(datetime.datetime.now())\n",
    "    return decorated()"
   ]
  },
  {
   "cell_type": "code",
   "execution_count": 5,
   "metadata": {
    "ExecuteTime": {
     "end_time": "2021-12-24T07:50:43.369690Z",
     "start_time": "2021-12-24T07:50:43.363705Z"
    }
   },
   "outputs": [
    {
     "name": "stdout",
     "output_type": "stream",
     "text": [
      "2021-12-24 16:50:43.364750\n",
      "Main Function 2 start\n",
      "2021-12-24 16:50:43.364750\n"
     ]
    }
   ],
   "source": [
    "@datetime_decorator\n",
    "def main_funcion_2():\n",
    "    print('Main Function 2 start')"
   ]
  },
  {
   "cell_type": "markdown",
   "metadata": {},
   "source": [
    "보충 설명  https://bluese05.tistory.com/30"
   ]
  },
  {
   "cell_type": "markdown",
   "metadata": {},
   "source": [
    "## 객체지향프로그래밍\n",
    "* Class 기본 (example 위주)\n",
    "* Class 상속"
   ]
  },
  {
   "cell_type": "markdown",
   "metadata": {},
   "source": [
    "### Class 기본\n",
    "#### example : person Class"
   ]
  },
  {
   "cell_type": "code",
   "execution_count": 30,
   "metadata": {},
   "outputs": [],
   "source": [
    "class Person:\n",
    "\n",
    "    def __init__(self, name, age, money, *args, **kwargs): # instance 생성하는 함수\n",
    "        self.name = name\n",
    "        self.age = age\n",
    "        self.money = money\n",
    "    \n",
    "    def introduce(self):\n",
    "        print('안녕하세요, 저는 {age}살 {name} 입니다.'.format(age = self.age, name = self.name))\n",
    "    \n",
    "    def give(self, partner, amount):\n",
    "        self.money -= amount\n",
    "        partner.money += amount\n",
    "        \n",
    "    def meet(self, another):\n",
    "        print('{myname}이 {partner_name} 을 만났습니다!'.format(\n",
    "            myname = self.name,\n",
    "            partner_name = another.name\n",
    "        ))"
   ]
  },
  {
   "cell_type": "code",
   "execution_count": 31,
   "metadata": {},
   "outputs": [
    {
     "name": "stdout",
     "output_type": "stream",
     "text": [
      "이몽룡 33\n"
     ]
    }
   ],
   "source": [
    "p1 = Person(name = '이몽룡', age = '33', money = 2000)\n",
    "print(p1.name, p1.age)"
   ]
  },
  {
   "cell_type": "code",
   "execution_count": 32,
   "metadata": {},
   "outputs": [
    {
     "name": "stdout",
     "output_type": "stream",
     "text": [
      "안녕하세요, 저는 33살 이몽룡 입니다.\n"
     ]
    }
   ],
   "source": [
    "p1.introduce()"
   ]
  },
  {
   "cell_type": "code",
   "execution_count": 33,
   "metadata": {},
   "outputs": [],
   "source": [
    "data = [\n",
    "        {'name' : '사람1', 'age':30, 'money' : 1000},\n",
    "        {'name' : '사람2', 'age':30, 'money' : 1000},\n",
    "        {'name' : '사람3', 'age':30, 'money' : 1000}\n",
    "]"
   ]
  },
  {
   "cell_type": "code",
   "execution_count": 34,
   "metadata": {},
   "outputs": [],
   "source": [
    "people = [ Person(name = person['name'], age = person['age'], money = person['money']) for person in data]"
   ]
  },
  {
   "cell_type": "code",
   "execution_count": 35,
   "metadata": {},
   "outputs": [
    {
     "name": "stdout",
     "output_type": "stream",
     "text": [
      "안녕하세요, 저는 30살 사람1 입니다.\n"
     ]
    }
   ],
   "source": [
    "people[0].introduce()"
   ]
  },
  {
   "cell_type": "code",
   "execution_count": 36,
   "metadata": {},
   "outputs": [
    {
     "name": "stdout",
     "output_type": "stream",
     "text": [
      "안녕하세요, 저는 30살 사람2 입니다.\n"
     ]
    }
   ],
   "source": [
    "people[1].introduce()"
   ]
  },
  {
   "cell_type": "code",
   "execution_count": 37,
   "metadata": {},
   "outputs": [
    {
     "name": "stdout",
     "output_type": "stream",
     "text": [
      "안녕하세요, 저는 30살 사람3 입니다.\n"
     ]
    }
   ],
   "source": [
    "people[2].introduce()"
   ]
  },
  {
   "cell_type": "code",
   "execution_count": 38,
   "metadata": {},
   "outputs": [
    {
     "name": "stdout",
     "output_type": "stream",
     "text": [
      "이몽룡이 성춘향 을 만났습니다!\n"
     ]
    }
   ],
   "source": [
    "p2 = Person(name = '성춘향', age = '16', money = 5000)\n",
    "p1.meet(another = p2)"
   ]
  },
  {
   "cell_type": "code",
   "execution_count": 39,
   "metadata": {},
   "outputs": [
    {
     "name": "stdout",
     "output_type": "stream",
     "text": [
      "3000\n",
      "4000\n"
     ]
    }
   ],
   "source": [
    "p2.give(partner = p1, amount = 2000)\n",
    "print(p2.money)\n",
    "print(p1.money)"
   ]
  },
  {
   "cell_type": "code",
   "execution_count": 40,
   "metadata": {},
   "outputs": [
    {
     "name": "stdout",
     "output_type": "stream",
     "text": [
      "<__main__.Person object at 0x0000024E17EB35C8>\n"
     ]
    }
   ],
   "source": [
    "# 위의 person class는 boseop에 print를 취하면 아래와 같은 결과\n",
    "print(p1)"
   ]
  },
  {
   "cell_type": "code",
   "execution_count": 41,
   "metadata": {},
   "outputs": [],
   "source": [
    "# Class에 아래의 코드를 추가하여 동작방식을 변경\n",
    "# 객체의 메소드의 동작방식을 바꿀 수 있다.\n",
    "class Person:\n",
    "\n",
    "    def __init__(self, name, age, money, *args, **kwargs): # instance 생성하는 함수\n",
    "        self.name = name\n",
    "        self.age = age\n",
    "        self.money = money\n",
    "    \n",
    "    def __str__(self): # print에 대한 기능 확장 (해당 class에 대해서)\n",
    "        return self.name\n",
    "    \n",
    "    def __add__(self, partner): # 사칙연산에 대한 기능 확장 (해당 class에 대해서)\n",
    "        print('{name} & {partner_name} | 결혼을 축하합니다.'.format(\n",
    "            name = self.name,\n",
    "            partner_name = partner.name\n",
    "        ))\n",
    "    \n",
    "    def introduce(self):\n",
    "        print('안녕하세요, 저는 {age}살 {name} 입니다.'.format(age = self.age, name = self.name))\n",
    "    \n",
    "    def give(self, partner, amount):\n",
    "        self.money -= amount\n",
    "        partner.money += amount\n",
    "        \n",
    "    def meet(self, another):\n",
    "        print('{myname}이 {partner_name} 을 만났습니다!'.format(\n",
    "            myname = self.name,\n",
    "            partner_name = another.name\n",
    "        ))"
   ]
  },
  {
   "cell_type": "code",
   "execution_count": 42,
   "metadata": {},
   "outputs": [
    {
     "name": "stdout",
     "output_type": "stream",
     "text": [
      "이몽룡\n"
     ]
    }
   ],
   "source": [
    "p1 = Person(name = '이몽룡', age = '33', money = 2000)\n",
    "p2 = Person(name = '성춘향', age = '16', money = 5000)\n",
    "print(p1)"
   ]
  },
  {
   "cell_type": "code",
   "execution_count": 43,
   "metadata": {},
   "outputs": [
    {
     "name": "stdout",
     "output_type": "stream",
     "text": [
      "이몽룡 & 성춘향 | 결혼을 축하합니다.\n"
     ]
    }
   ],
   "source": [
    "p1 + p2"
   ]
  },
  {
   "cell_type": "markdown",
   "metadata": {},
   "source": [
    "#### example : Triangle Class\n",
    "* State : height, width\n",
    "* Behavior : area(넓이계산), is_bigger(다른 삼각형이랑 비교)"
   ]
  },
  {
   "cell_type": "code",
   "execution_count": 44,
   "metadata": {},
   "outputs": [],
   "source": [
    "class Triangle:\n",
    "    def __init__(self, height, width):\n",
    "        self.height = height\n",
    "        self.width = width\n",
    "    \n",
    "    def __str__(self):\n",
    "        return '({width}, {height}) Triangle'.format(\n",
    "            width = self.width,\n",
    "            height = self.height\n",
    "        )\n",
    "    \n",
    "    def area(self):\n",
    "        self.area = self.height * self.width * 1/2\n",
    "        return self.area\n",
    "    \n",
    "    def is_bigger(self, another):\n",
    "        return '큽니다' if self.area() > another.area() else ('작습니다' if self.area() < another.area() else '똑같습니다.')        "
   ]
  },
  {
   "cell_type": "code",
   "execution_count": 45,
   "metadata": {},
   "outputs": [
    {
     "name": "stdout",
     "output_type": "stream",
     "text": [
      "(20, 10) Triangle\n"
     ]
    }
   ],
   "source": [
    "t1 = Triangle(10, 20)\n",
    "print(t1)"
   ]
  },
  {
   "cell_type": "code",
   "execution_count": 46,
   "metadata": {},
   "outputs": [
    {
     "name": "stdout",
     "output_type": "stream",
     "text": [
      "(20, 10) Triangle\n"
     ]
    }
   ],
   "source": [
    "t2 = Triangle(10,5)\n",
    "print(t2)"
   ]
  },
  {
   "cell_type": "code",
   "execution_count": 47,
   "metadata": {},
   "outputs": [
    {
     "data": {
      "text/plain": [
       "'큽니다'"
      ]
     },
     "execution_count": 47,
     "metadata": {},
     "output_type": "execute_result"
    }
   ],
   "source": [
    "t1.is_bigger(t2)"
   ]
  },
  {
   "cell_type": "markdown",
   "metadata": {},
   "source": [
    "### Class 상속 (객체의 상속, Inheritance)\n",
    "모든 Class는 일단 object Class에서 상속을 받는 형태  \n",
    "class object: \\__init\\__, \\__str\\__, \\__add\\__ 같은 method들이 사전에 정의되어있음  \n",
    "새로 만드는 class에서 저런 동적을 변경하고 싶다면 위의 method들을 재정의하면됨, 그러한 동적을 method overriding이라고 칭함\n",
    "#### simple example\n",
    "동물 : 행동 (eat, attack)  \n",
    "강아지 : (+ 행동 : bark)  \n",
    "새 : (+ 행동 : fly)"
   ]
  },
  {
   "cell_type": "code",
   "execution_count": 48,
   "metadata": {},
   "outputs": [],
   "source": [
    "class Animal: # 사실상 기본적으로 class Animal(object): 이런식으로 상속 받는 것 \n",
    "              # class object: __init__, __str__, __add__, 이런게 미리 다 정의되어 있는 것!\n",
    "    \n",
    "    def eat(self):\n",
    "        print('먹는다!!!')\n",
    "        \n",
    "    def attack(self):\n",
    "        print('공격!!!')"
   ]
  },
  {
   "cell_type": "code",
   "execution_count": 49,
   "metadata": {},
   "outputs": [],
   "source": [
    "class Dog(Animal):\n",
    "    def bark(self):\n",
    "        print('월월!!')"
   ]
  },
  {
   "cell_type": "code",
   "execution_count": 50,
   "metadata": {},
   "outputs": [
    {
     "name": "stdout",
     "output_type": "stream",
     "text": [
      "먹는다!!!\n"
     ]
    }
   ],
   "source": [
    "dog = Dog()\n",
    "dog.eat()"
   ]
  },
  {
   "cell_type": "code",
   "execution_count": 51,
   "metadata": {},
   "outputs": [
    {
     "name": "stdout",
     "output_type": "stream",
     "text": [
      "공격!!!\n"
     ]
    }
   ],
   "source": [
    "dog.attack()"
   ]
  },
  {
   "cell_type": "code",
   "execution_count": 52,
   "metadata": {},
   "outputs": [
    {
     "name": "stdout",
     "output_type": "stream",
     "text": [
      "월월!!\n"
     ]
    }
   ],
   "source": [
    "dog.bark()"
   ]
  },
  {
   "cell_type": "code",
   "execution_count": 53,
   "metadata": {},
   "outputs": [],
   "source": [
    "class Bird(Animal):\n",
    "    def fly(self):\n",
    "        print('날다')"
   ]
  },
  {
   "cell_type": "code",
   "execution_count": 54,
   "metadata": {},
   "outputs": [
    {
     "name": "stdout",
     "output_type": "stream",
     "text": [
      "날다\n"
     ]
    }
   ],
   "source": [
    "bird = Bird()\n",
    "bird.fly()"
   ]
  },
  {
   "cell_type": "code",
   "execution_count": 55,
   "metadata": {},
   "outputs": [
    {
     "ename": "AttributeError",
     "evalue": "'Dog' object has no attribute 'fly'",
     "output_type": "error",
     "traceback": [
      "\u001b[1;31m---------------------------------------------------------------------------\u001b[0m",
      "\u001b[1;31mAttributeError\u001b[0m                            Traceback (most recent call last)",
      "\u001b[1;32m<ipython-input-55-c3a1258b5dfc>\u001b[0m in \u001b[0;36m<module>\u001b[1;34m\u001b[0m\n\u001b[1;32m----> 1\u001b[1;33m \u001b[0mdog\u001b[0m\u001b[1;33m.\u001b[0m\u001b[0mfly\u001b[0m\u001b[1;33m(\u001b[0m\u001b[1;33m)\u001b[0m\u001b[1;33m\u001b[0m\u001b[1;33m\u001b[0m\u001b[0m\n\u001b[0m",
      "\u001b[1;31mAttributeError\u001b[0m: 'Dog' object has no attribute 'fly'"
     ]
    }
   ],
   "source": [
    "dog.fly()"
   ]
  },
  {
   "cell_type": "markdown",
   "metadata": {},
   "source": [
    "#### Method Overriding"
   ]
  },
  {
   "cell_type": "code",
   "execution_count": 56,
   "metadata": {},
   "outputs": [],
   "source": [
    "class Dog(Animal):\n",
    "    \n",
    "    def eat(self):\n",
    "        print('침을 흘리면서 먹는다!!') # method overriding\n",
    "    \n",
    "    def bark(self):\n",
    "        print('월월!!')"
   ]
  },
  {
   "cell_type": "code",
   "execution_count": 57,
   "metadata": {},
   "outputs": [
    {
     "name": "stdout",
     "output_type": "stream",
     "text": [
      "침을 흘리면서 먹는다!!\n"
     ]
    }
   ],
   "source": [
    "dog = Dog()\n",
    "dog.eat()"
   ]
  },
  {
   "cell_type": "markdown",
   "metadata": {},
   "source": [
    "#### Illustration : pandas"
   ]
  },
  {
   "cell_type": "code",
   "execution_count": 58,
   "metadata": {},
   "outputs": [],
   "source": [
    "import os, sys\n",
    "import pandas as pd"
   ]
  },
  {
   "cell_type": "code",
   "execution_count": 59,
   "metadata": {},
   "outputs": [],
   "source": [
    "df = pd.DataFrame() # df => 객체 또는 DataFrame 클래스의 인스턴스"
   ]
  },
  {
   "cell_type": "code",
   "execution_count": 60,
   "metadata": {},
   "outputs": [],
   "source": [
    "df = pd.read_csv('./animals.csv')"
   ]
  },
  {
   "cell_type": "code",
   "execution_count": 61,
   "metadata": {},
   "outputs": [
    {
     "data": {
      "text/html": [
       "<div>\n",
       "<style scoped>\n",
       "    .dataframe tbody tr th:only-of-type {\n",
       "        vertical-align: middle;\n",
       "    }\n",
       "\n",
       "    .dataframe tbody tr th {\n",
       "        vertical-align: top;\n",
       "    }\n",
       "\n",
       "    .dataframe thead th {\n",
       "        text-align: right;\n",
       "    }\n",
       "</style>\n",
       "<table border=\"1\" class=\"dataframe\">\n",
       "  <thead>\n",
       "    <tr style=\"text-align: right;\">\n",
       "      <th></th>\n",
       "      <th>개</th>\n",
       "      <th>dog</th>\n",
       "    </tr>\n",
       "  </thead>\n",
       "  <tbody>\n",
       "    <tr>\n",
       "      <th>0</th>\n",
       "      <td>고양이</td>\n",
       "      <td>cat</td>\n",
       "    </tr>\n",
       "    <tr>\n",
       "      <th>1</th>\n",
       "      <td>사자</td>\n",
       "      <td>lion</td>\n",
       "    </tr>\n",
       "    <tr>\n",
       "      <th>2</th>\n",
       "      <td>원숭이</td>\n",
       "      <td>monkey</td>\n",
       "    </tr>\n",
       "  </tbody>\n",
       "</table>\n",
       "</div>"
      ],
      "text/plain": [
       "     개     dog\n",
       "0  고양이     cat\n",
       "1   사자    lion\n",
       "2  원숭이  monkey"
      ]
     },
     "execution_count": 61,
     "metadata": {},
     "output_type": "execute_result"
    }
   ],
   "source": [
    "df # __repr__의 method가 DataFrame 클래스에 맞는 형태로 method overriding 되어 있는 것"
   ]
  },
  {
   "cell_type": "code",
   "execution_count": 62,
   "metadata": {},
   "outputs": [
    {
     "name": "stdout",
     "output_type": "stream",
     "text": [
      "     개     dog\n",
      "0  고양이     cat\n",
      "1   사자    lion\n",
      "2  원숭이  monkey\n"
     ]
    }
   ],
   "source": [
    "print(df) # __str__의 method가 DataFrame 클래스에 맞는 형태로 method overriding 되어 있는 것"
   ]
  },
  {
   "cell_type": "code",
   "execution_count": null,
   "metadata": {},
   "outputs": [],
   "source": []
  }
 ],
 "metadata": {
  "kernelspec": {
   "display_name": "Python 3",
   "language": "python",
   "name": "python3"
  },
  "language_info": {
   "codemirror_mode": {
    "name": "ipython",
    "version": 3
   },
   "file_extension": ".py",
   "mimetype": "text/x-python",
   "name": "python",
   "nbconvert_exporter": "python",
   "pygments_lexer": "ipython3",
   "version": "3.7.6"
  },
  "toc": {
   "base_numbering": 1,
   "nav_menu": {},
   "number_sections": true,
   "sideBar": true,
   "skip_h1_title": false,
   "title_cell": "Table of Contents",
   "title_sidebar": "Contents",
   "toc_cell": false,
   "toc_position": {
    "height": "calc(100% - 180px)",
    "left": "10px",
    "top": "150px",
    "width": "313px"
   },
   "toc_section_display": true,
   "toc_window_display": false
  }
 },
 "nbformat": 4,
 "nbformat_minor": 2
}
