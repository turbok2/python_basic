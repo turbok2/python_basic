{
 "cells": [
  {
   "cell_type": "markdown",
   "metadata": {},
   "source": [
    "# Python 기초 1  "
   ]
  },
  {
   "cell_type": "markdown",
   "metadata": {},
   "source": [
    "[구글 코랩에서 열기](https://colab.research.google.com/github/turbok2/python_basic/blob/main/20220112/Python_%EA%B8%B0%EC%B4%881.ipynb)"
   ]
  },
  {
   "cell_type": "markdown",
   "metadata": {},
   "source": [
    "## Summary\n",
    "* Data Types (자료형) - String, Number(Integer, ...), Elements(List, Set, Dict, Tuple), Boolean\n",
    "* Conditional Statement (조건문) - if, elef, else\n",
    "* Loops (반복문) - for, (range, list, dict(dict.items()))\n",
    "* Function (함수) - def, return\n",
    "* String - split, join, replace\n",
    "* File I/O - open, read, write"
   ]
  },
  {
   "cell_type": "markdown",
   "metadata": {},
   "source": [
    "## Data Types "
   ]
  },
  {
   "cell_type": "markdown",
   "metadata": {},
   "source": [
    "### 숫자 "
   ]
  },
  {
   "cell_type": "code",
   "execution_count": 1,
   "metadata": {
    "ExecuteTime": {
     "end_time": "2022-01-26T02:20:31.930352Z",
     "start_time": "2022-01-26T02:20:31.921403Z"
    }
   },
   "outputs": [
    {
     "name": "stdout",
     "output_type": "stream",
     "text": [
      "1000\n",
      "1000.0\n",
      "-100\n",
      "20000\n",
      "0.5\n",
      "12\n"
     ]
    }
   ],
   "source": [
    "print(1000)\n",
    "print(1000.0)\n",
    "print(100 - 200)\n",
    "print(100 * 200)\n",
    "print(100 / 200)\n",
    "print(12)"
   ]
  },
  {
   "cell_type": "code",
   "execution_count": 2,
   "metadata": {
    "ExecuteTime": {
     "end_time": "2022-01-26T02:20:44.110068Z",
     "start_time": "2022-01-26T02:20:44.105082Z"
    }
   },
   "outputs": [
    {
     "name": "stdout",
     "output_type": "stream",
     "text": [
      "6367237\n"
     ]
    }
   ],
   "source": [
    "print(6367237)"
   ]
  },
  {
   "cell_type": "code",
   "execution_count": 7,
   "metadata": {
    "ExecuteTime": {
     "end_time": "2022-01-26T02:21:18.814050Z",
     "start_time": "2022-01-26T02:21:18.808096Z"
    }
   },
   "outputs": [
    {
     "data": {
      "text/plain": [
       "int"
      ]
     },
     "execution_count": 7,
     "metadata": {},
     "output_type": "execute_result"
    }
   ],
   "source": [
    "b=1\n",
    "type(b)"
   ]
  },
  {
   "cell_type": "code",
   "execution_count": 8,
   "metadata": {
    "ExecuteTime": {
     "end_time": "2022-01-26T02:21:53.426107Z",
     "start_time": "2022-01-26T02:21:53.420162Z"
    }
   },
   "outputs": [
    {
     "data": {
      "text/plain": [
       "float"
      ]
     },
     "execution_count": 8,
     "metadata": {},
     "output_type": "execute_result"
    }
   ],
   "source": [
    "c=1.0\n",
    "type(c)"
   ]
  },
  {
   "cell_type": "markdown",
   "metadata": {},
   "source": [
    "### 문자 "
   ]
  },
  {
   "cell_type": "code",
   "execution_count": 3,
   "metadata": {
    "ExecuteTime": {
     "end_time": "2022-01-26T02:20:52.676976Z",
     "start_time": "2022-01-26T02:20:52.671989Z"
    }
   },
   "outputs": [
    {
     "name": "stdout",
     "output_type": "stream",
     "text": [
      "홍길동\n",
      "홍길동\n"
     ]
    }
   ],
   "source": [
    "a=\"홍길동\"\n",
    "print(a)\n",
    "print(a)"
   ]
  },
  {
   "cell_type": "code",
   "execution_count": 4,
   "metadata": {
    "ExecuteTime": {
     "end_time": "2022-01-26T02:21:03.966473Z",
     "start_time": "2022-01-26T02:21:03.955531Z"
    }
   },
   "outputs": [
    {
     "data": {
      "text/plain": [
       "'홍길동 데이터분석가'"
      ]
     },
     "execution_count": 4,
     "metadata": {},
     "output_type": "execute_result"
    }
   ],
   "source": [
    "'홍길동' + ' ' +  '데이터분석가'"
   ]
  },
  {
   "cell_type": "code",
   "execution_count": 5,
   "metadata": {
    "ExecuteTime": {
     "end_time": "2022-01-26T02:21:05.674594Z",
     "start_time": "2022-01-26T02:21:05.667610Z"
    }
   },
   "outputs": [
    {
     "data": {
      "text/plain": [
       "'홍길동_데이터분석가'"
      ]
     },
     "execution_count": 5,
     "metadata": {},
     "output_type": "execute_result"
    }
   ],
   "source": [
    "name = '홍길동'\n",
    "job = '데이터분석가'\n",
    "name + '_'+ job"
   ]
  },
  {
   "cell_type": "code",
   "execution_count": 6,
   "metadata": {
    "ExecuteTime": {
     "end_time": "2022-01-26T02:21:12.362970Z",
     "start_time": "2022-01-26T02:21:12.356986Z"
    }
   },
   "outputs": [
    {
     "data": {
      "text/plain": [
       "str"
      ]
     },
     "execution_count": 6,
     "metadata": {},
     "output_type": "execute_result"
    }
   ],
   "source": [
    "type(name)"
   ]
  },
  {
   "cell_type": "code",
   "execution_count": 10,
   "metadata": {
    "ExecuteTime": {
     "end_time": "2022-01-26T02:22:43.512725Z",
     "start_time": "2022-01-26T02:22:43.507702Z"
    }
   },
   "outputs": [],
   "source": [
    "animals = ['개', '고양이', '원숭이', '사자']"
   ]
  },
  {
   "cell_type": "code",
   "execution_count": 11,
   "metadata": {
    "ExecuteTime": {
     "end_time": "2022-01-26T02:22:48.376727Z",
     "start_time": "2022-01-26T02:22:48.370744Z"
    }
   },
   "outputs": [
    {
     "data": {
      "text/plain": [
       "'개'"
      ]
     },
     "execution_count": 11,
     "metadata": {},
     "output_type": "execute_result"
    }
   ],
   "source": [
    "animals[0]"
   ]
  },
  {
   "cell_type": "code",
   "execution_count": 12,
   "metadata": {
    "ExecuteTime": {
     "end_time": "2022-01-26T02:22:48.894344Z",
     "start_time": "2022-01-26T02:22:48.887363Z"
    }
   },
   "outputs": [
    {
     "data": {
      "text/plain": [
       "'사자'"
      ]
     },
     "execution_count": 12,
     "metadata": {},
     "output_type": "execute_result"
    }
   ],
   "source": [
    "animals[-1]"
   ]
  },
  {
   "cell_type": "code",
   "execution_count": 13,
   "metadata": {
    "ExecuteTime": {
     "end_time": "2022-01-26T02:23:50.691098Z",
     "start_time": "2022-01-26T02:23:50.684116Z"
    }
   },
   "outputs": [
    {
     "data": {
      "text/plain": [
       "['고양이', '원숭이', '사자']"
      ]
     },
     "execution_count": 13,
     "metadata": {},
     "output_type": "execute_result"
    }
   ],
   "source": [
    "# M:N => M ~ N-1 index elements => list\n",
    "animals[1:4]"
   ]
  },
  {
   "cell_type": "code",
   "execution_count": 14,
   "metadata": {
    "ExecuteTime": {
     "end_time": "2022-01-26T02:23:52.434718Z",
     "start_time": "2022-01-26T02:23:52.428244Z"
    }
   },
   "outputs": [
    {
     "data": {
      "text/plain": [
       "['고양이', '원숭이']"
      ]
     },
     "execution_count": 14,
     "metadata": {},
     "output_type": "execute_result"
    }
   ],
   "source": [
    "# M:N => M ~ N-1 index elements => list\n",
    "animals = ['개', '고양이', '원숭이', '사자']\n",
    "animals[1:3]"
   ]
  },
  {
   "cell_type": "code",
   "execution_count": 15,
   "metadata": {
    "ExecuteTime": {
     "end_time": "2022-01-26T02:24:06.683935Z",
     "start_time": "2022-01-26T02:24:06.677951Z"
    }
   },
   "outputs": [
    {
     "data": {
      "text/plain": [
       "['고양이', '원숭이', '사자']"
      ]
     },
     "execution_count": 15,
     "metadata": {},
     "output_type": "execute_result"
    }
   ],
   "source": [
    "animals[1:]"
   ]
  },
  {
   "cell_type": "code",
   "execution_count": 16,
   "metadata": {
    "ExecuteTime": {
     "end_time": "2022-01-26T02:24:06.961196Z",
     "start_time": "2022-01-26T02:24:06.956215Z"
    }
   },
   "outputs": [
    {
     "data": {
      "text/plain": [
       "['개', '고양이', '원숭이']"
      ]
     },
     "execution_count": 16,
     "metadata": {},
     "output_type": "execute_result"
    }
   ],
   "source": [
    "animals[:-1]"
   ]
  },
  {
   "cell_type": "markdown",
   "metadata": {},
   "source": [
    "### List\n",
    "1. 여러 Elements 들을 저장하고 있는 자료형 (Element 하나하나는 어떤 자료형 상관 X)\n",
    "2. 중복이 가능, 순서가 있음"
   ]
  },
  {
   "cell_type": "code",
   "execution_count": 17,
   "metadata": {
    "ExecuteTime": {
     "end_time": "2022-01-26T02:24:11.388770Z",
     "start_time": "2022-01-26T02:24:11.382748Z"
    }
   },
   "outputs": [
    {
     "data": {
      "text/plain": [
       "['dog', 'dog', 'dog', 'cat']"
      ]
     },
     "execution_count": 17,
     "metadata": {},
     "output_type": "execute_result"
    }
   ],
   "source": [
    "['dog', 'dog', 'dog', 'cat']"
   ]
  },
  {
   "cell_type": "code",
   "execution_count": 18,
   "metadata": {
    "ExecuteTime": {
     "end_time": "2022-01-26T02:24:12.591976Z",
     "start_time": "2022-01-26T02:24:12.584997Z"
    }
   },
   "outputs": [
    {
     "data": {
      "text/plain": [
       "[['dog1', 'dog2', ' dog3']]"
      ]
     },
     "execution_count": 18,
     "metadata": {},
     "output_type": "execute_result"
    }
   ],
   "source": [
    "[['dog1', 'dog2',' dog3']]"
   ]
  },
  {
   "cell_type": "code",
   "execution_count": 20,
   "metadata": {
    "ExecuteTime": {
     "end_time": "2022-01-26T02:24:35.531930Z",
     "start_time": "2022-01-26T02:24:35.523952Z"
    }
   },
   "outputs": [
    {
     "name": "stdout",
     "output_type": "stream",
     "text": [
      "<class 'list'>\n"
     ]
    },
    {
     "data": {
      "text/plain": [
       "[['dog1', 'dog2', 'dog3'], ['cat1', 'cat2', 'cat3']]"
      ]
     },
     "execution_count": 20,
     "metadata": {},
     "output_type": "execute_result"
    }
   ],
   "source": [
    "data = [\n",
    "    ['dog1', 'dog2', 'dog3'],\n",
    "    ['cat1', 'cat2', 'cat3']\n",
    "    \n",
    "]\n",
    "print(type(data))\n",
    "data"
   ]
  },
  {
   "cell_type": "code",
   "execution_count": 21,
   "metadata": {
    "ExecuteTime": {
     "end_time": "2022-01-26T02:24:41.682037Z",
     "start_time": "2022-01-26T02:24:41.676039Z"
    }
   },
   "outputs": [
    {
     "data": {
      "text/plain": [
       "'dog3'"
      ]
     },
     "execution_count": 21,
     "metadata": {},
     "output_type": "execute_result"
    }
   ],
   "source": [
    "data[0][-1]"
   ]
  },
  {
   "cell_type": "code",
   "execution_count": 22,
   "metadata": {
    "ExecuteTime": {
     "end_time": "2022-01-26T02:24:47.056993Z",
     "start_time": "2022-01-26T02:24:47.049014Z"
    }
   },
   "outputs": [
    {
     "data": {
      "text/plain": [
       "['dog1', 'dog2', 'dog3']"
      ]
     },
     "execution_count": 22,
     "metadata": {},
     "output_type": "execute_result"
    }
   ],
   "source": [
    "data[0]"
   ]
  },
  {
   "cell_type": "code",
   "execution_count": 23,
   "metadata": {
    "ExecuteTime": {
     "end_time": "2022-01-26T02:24:48.704059Z",
     "start_time": "2022-01-26T02:24:48.698073Z"
    }
   },
   "outputs": [
    {
     "data": {
      "text/plain": [
       "['cat1', 'cat2', 'cat3']"
      ]
     },
     "execution_count": 23,
     "metadata": {},
     "output_type": "execute_result"
    }
   ],
   "source": [
    "data[1]"
   ]
  },
  {
   "cell_type": "code",
   "execution_count": 24,
   "metadata": {
    "ExecuteTime": {
     "end_time": "2022-01-26T02:24:56.966368Z",
     "start_time": "2022-01-26T02:24:56.959387Z"
    }
   },
   "outputs": [
    {
     "data": {
      "text/plain": [
       "[123, '홍길동', [1, 2, 3, 4]]"
      ]
     },
     "execution_count": 24,
     "metadata": {},
     "output_type": "execute_result"
    }
   ],
   "source": [
    "[\n",
    "    123, '홍길동', [1, 2, 3, 4]\n",
    "    \n",
    "]"
   ]
  },
  {
   "cell_type": "code",
   "execution_count": 25,
   "metadata": {
    "ExecuteTime": {
     "end_time": "2022-01-26T02:25:00.629547Z",
     "start_time": "2022-01-26T02:25:00.624561Z"
    }
   },
   "outputs": [],
   "source": [
    "# list에 새로운 data를 추가할 때, append\n",
    "animals = ['dog', 'dog', 'dog', 'cat']"
   ]
  },
  {
   "cell_type": "code",
   "execution_count": 26,
   "metadata": {
    "ExecuteTime": {
     "end_time": "2022-01-26T02:25:00.914788Z",
     "start_time": "2022-01-26T02:25:00.909826Z"
    }
   },
   "outputs": [
    {
     "data": {
      "text/plain": [
       "['dog', 'dog', 'dog', 'cat', 'duck']"
      ]
     },
     "execution_count": 26,
     "metadata": {},
     "output_type": "execute_result"
    }
   ],
   "source": [
    "animals.append('duck')\n",
    "animals"
   ]
  },
  {
   "cell_type": "markdown",
   "metadata": {},
   "source": [
    "### Set\n",
    "1. 여러 Elements 들을 저장하고 있는 자료형\n",
    "2. 중복 X, 순서 X"
   ]
  },
  {
   "cell_type": "code",
   "execution_count": 27,
   "metadata": {
    "ExecuteTime": {
     "end_time": "2022-01-26T02:25:10.000466Z",
     "start_time": "2022-01-26T02:25:09.995853Z"
    }
   },
   "outputs": [
    {
     "name": "stdout",
     "output_type": "stream",
     "text": [
      "['dog', 'dog', 'dog', 'cat'] <class 'list'>\n"
     ]
    }
   ],
   "source": [
    "animals = ['dog', 'dog', 'dog', 'cat']\n",
    "print(animals, type(animals))"
   ]
  },
  {
   "cell_type": "code",
   "execution_count": 28,
   "metadata": {
    "ExecuteTime": {
     "end_time": "2022-01-26T02:25:16.757675Z",
     "start_time": "2022-01-26T02:25:16.749698Z"
    }
   },
   "outputs": [
    {
     "data": {
      "text/plain": [
       "{'cat', 'dog'}"
      ]
     },
     "execution_count": 28,
     "metadata": {},
     "output_type": "execute_result"
    }
   ],
   "source": [
    "set(animals) # 중복 X, 순서 X"
   ]
  },
  {
   "cell_type": "code",
   "execution_count": 29,
   "metadata": {
    "ExecuteTime": {
     "end_time": "2022-01-26T02:25:30.033991Z",
     "start_time": "2022-01-26T02:25:30.027988Z"
    }
   },
   "outputs": [
    {
     "data": {
      "text/plain": [
       "set"
      ]
     },
     "execution_count": 29,
     "metadata": {},
     "output_type": "execute_result"
    }
   ],
   "source": [
    "s = set(animals)\n",
    "type(s)"
   ]
  },
  {
   "cell_type": "markdown",
   "metadata": {},
   "source": [
    "#### example : unique한 alphabet 뽑기"
   ]
  },
  {
   "cell_type": "code",
   "execution_count": 34,
   "metadata": {
    "ExecuteTime": {
     "end_time": "2022-01-19T11:31:49.764391Z",
     "start_time": "2022-01-19T11:31:49.759404Z"
    }
   },
   "outputs": [],
   "source": [
    "my_list = [ 'A', 'A', 'A', 'B', 'C', 'C', 'C', 'D', 'D', 'D']"
   ]
  },
  {
   "cell_type": "code",
   "execution_count": 35,
   "metadata": {
    "ExecuteTime": {
     "end_time": "2022-01-19T11:32:00.784925Z",
     "start_time": "2022-01-19T11:32:00.776944Z"
    }
   },
   "outputs": [
    {
     "data": {
      "text/plain": [
       "{'A', 'B', 'C', 'D'}"
      ]
     },
     "execution_count": 35,
     "metadata": {},
     "output_type": "execute_result"
    }
   ],
   "source": [
    "set(my_list)"
   ]
  },
  {
   "cell_type": "code",
   "execution_count": 22,
   "metadata": {},
   "outputs": [
    {
     "data": {
      "text/plain": [
       "['A', 'B', 'C', 'D']"
      ]
     },
     "execution_count": 22,
     "metadata": {},
     "output_type": "execute_result"
    }
   ],
   "source": [
    "list(set(my_list))"
   ]
  },
  {
   "cell_type": "markdown",
   "metadata": {},
   "source": [
    "### Dictionary "
   ]
  },
  {
   "cell_type": "code",
   "execution_count": 19,
   "metadata": {},
   "outputs": [
    {
     "name": "stdout",
     "output_type": "stream",
     "text": [
      "{'name': '홍길동', 'birth': 900101, 'job': '데이터분석가', 'email': 'hgd@gmail.com'}\n"
     ]
    }
   ],
   "source": [
    "member = {'name' : '홍길동', 'birth' : 900101, 'job' : '데이터분석가',\n",
    "           'email' : 'hgd@gmail.com'}\n",
    "print(member)"
   ]
  },
  {
   "cell_type": "code",
   "execution_count": 20,
   "metadata": {},
   "outputs": [
    {
     "data": {
      "text/plain": [
       "'홍길동'"
      ]
     },
     "execution_count": 20,
     "metadata": {},
     "output_type": "execute_result"
    }
   ],
   "source": [
    "member['name']"
   ]
  },
  {
   "cell_type": "code",
   "execution_count": 21,
   "metadata": {},
   "outputs": [
    {
     "data": {
      "text/plain": [
       "900101"
      ]
     },
     "execution_count": 21,
     "metadata": {},
     "output_type": "execute_result"
    }
   ],
   "source": [
    "member['birth']"
   ]
  },
  {
   "cell_type": "code",
   "execution_count": 22,
   "metadata": {},
   "outputs": [
    {
     "data": {
      "text/plain": [
       "'데이터분석가'"
      ]
     },
     "execution_count": 22,
     "metadata": {},
     "output_type": "execute_result"
    }
   ],
   "source": [
    "member['job']"
   ]
  },
  {
   "cell_type": "code",
   "execution_count": 23,
   "metadata": {},
   "outputs": [
    {
     "data": {
      "text/plain": [
       "'hgd@gmail.com'"
      ]
     },
     "execution_count": 23,
     "metadata": {},
     "output_type": "execute_result"
    }
   ],
   "source": [
    "member['email']"
   ]
  },
  {
   "cell_type": "code",
   "execution_count": 24,
   "metadata": {},
   "outputs": [],
   "source": [
    "member['hobby']= 'dance'"
   ]
  },
  {
   "cell_type": "code",
   "execution_count": 25,
   "metadata": {},
   "outputs": [
    {
     "data": {
      "text/plain": [
       "{'name': '홍길동',\n",
       " 'birth': 900101,\n",
       " 'job': '데이터분석가',\n",
       " 'email': 'hgd@gmail.com',\n",
       " 'hobby': 'dance'}"
      ]
     },
     "execution_count": 25,
     "metadata": {},
     "output_type": "execute_result"
    }
   ],
   "source": [
    "member"
   ]
  },
  {
   "cell_type": "code",
   "execution_count": 26,
   "metadata": {},
   "outputs": [
    {
     "data": {
      "text/plain": [
       "dict_keys(['name', 'birth', 'job', 'email', 'hobby'])"
      ]
     },
     "execution_count": 26,
     "metadata": {},
     "output_type": "execute_result"
    }
   ],
   "source": [
    "member.keys()"
   ]
  },
  {
   "cell_type": "code",
   "execution_count": 27,
   "metadata": {},
   "outputs": [
    {
     "data": {
      "text/plain": [
       "dict_items([('name', '홍길동'), ('birth', 900101), ('job', '데이터분석가'), ('email', 'hgd@gmail.com'), ('hobby', 'dance')])"
      ]
     },
     "execution_count": 27,
     "metadata": {},
     "output_type": "execute_result"
    }
   ],
   "source": [
    "member.items()"
   ]
  },
  {
   "cell_type": "code",
   "execution_count": 28,
   "metadata": {},
   "outputs": [],
   "source": [
    "# Dict.get\n",
    "# key로 불러오기보다는 get을 활용하자"
   ]
  },
  {
   "cell_type": "code",
   "execution_count": 29,
   "metadata": {},
   "outputs": [],
   "source": [
    "member = {'name' : '홍길동', 'email' : 'hgd@gmail.com'}"
   ]
  },
  {
   "cell_type": "code",
   "execution_count": 30,
   "metadata": {},
   "outputs": [
    {
     "ename": "KeyError",
     "evalue": "'address'",
     "output_type": "error",
     "traceback": [
      "\u001b[1;31m---------------------------------------------------------------------------\u001b[0m",
      "\u001b[1;31mKeyError\u001b[0m                                  Traceback (most recent call last)",
      "\u001b[1;32m<ipython-input-30-724d798a91ed>\u001b[0m in \u001b[0;36m<module>\u001b[1;34m\u001b[0m\n\u001b[1;32m----> 1\u001b[1;33m \u001b[0mmember\u001b[0m\u001b[1;33m[\u001b[0m\u001b[1;34m'address'\u001b[0m\u001b[1;33m]\u001b[0m\u001b[1;33m\u001b[0m\u001b[1;33m\u001b[0m\u001b[0m\n\u001b[0m",
      "\u001b[1;31mKeyError\u001b[0m: 'address'"
     ]
    }
   ],
   "source": [
    "member['address']"
   ]
  },
  {
   "cell_type": "code",
   "execution_count": 31,
   "metadata": {},
   "outputs": [
    {
     "data": {
      "text/plain": [
       "'주소를 찾을 수 없습니다.'"
      ]
     },
     "execution_count": 31,
     "metadata": {},
     "output_type": "execute_result"
    }
   ],
   "source": [
    "member.get('address', '주소를 찾을 수 없습니다.')"
   ]
  },
  {
   "cell_type": "code",
   "execution_count": 36,
   "metadata": {
    "collapsed": true
   },
   "outputs": [],
   "source": [
    "# 학생 1000명을 for 문 돌다가, address가 있으면 address를 출력하고, 없으면 '주소 없음'이라고 출력하자"
   ]
  },
  {
   "cell_type": "code",
   "execution_count": 40,
   "metadata": {
    "ExecuteTime": {
     "end_time": "2022-01-19T11:36:01.897203Z",
     "start_time": "2022-01-19T11:36:01.889222Z"
    }
   },
   "outputs": [
    {
     "data": {
      "text/plain": [
       "[{'name': '홍길동', 'hobby': 'dance'}, {'name': '임꺽정'}]"
      ]
     },
     "execution_count": 40,
     "metadata": {},
     "output_type": "execute_result"
    }
   ],
   "source": [
    "member1 = {'name' : '홍길동', 'hobby' : 'dance'}\n",
    "member2 = {'name' : '임꺽정'}\n",
    "members = [member1, member2]\n",
    "members"
   ]
  },
  {
   "cell_type": "code",
   "execution_count": 41,
   "metadata": {
    "ExecuteTime": {
     "end_time": "2022-01-19T11:36:02.428821Z",
     "start_time": "2022-01-19T11:36:02.415814Z"
    }
   },
   "outputs": [
    {
     "name": "stdout",
     "output_type": "stream",
     "text": [
      "이름 홍길동 취미 dance\n"
     ]
    },
    {
     "ename": "KeyError",
     "evalue": "'hobby'",
     "output_type": "error",
     "traceback": [
      "\u001b[1;31m---------------------------------------------------------------------------\u001b[0m",
      "\u001b[1;31mKeyError\u001b[0m                                  Traceback (most recent call last)",
      "\u001b[1;32m<ipython-input-41-e4f34d74c43c>\u001b[0m in \u001b[0;36m<module>\u001b[1;34m\u001b[0m\n\u001b[0;32m      1\u001b[0m \u001b[1;32mfor\u001b[0m \u001b[0mmember\u001b[0m \u001b[1;32min\u001b[0m \u001b[0mmembers\u001b[0m\u001b[1;33m:\u001b[0m\u001b[1;33m\u001b[0m\u001b[1;33m\u001b[0m\u001b[0m\n\u001b[1;32m----> 2\u001b[1;33m     \u001b[0mprint\u001b[0m\u001b[1;33m(\u001b[0m\u001b[1;34m'이름 '\u001b[0m \u001b[1;33m+\u001b[0m \u001b[0mmember\u001b[0m\u001b[1;33m[\u001b[0m\u001b[1;34m'name'\u001b[0m\u001b[1;33m]\u001b[0m \u001b[1;33m+\u001b[0m \u001b[1;34m' 취미 '\u001b[0m \u001b[1;33m+\u001b[0m \u001b[0mmember\u001b[0m\u001b[1;33m[\u001b[0m\u001b[1;34m'hobby'\u001b[0m\u001b[1;33m]\u001b[0m\u001b[1;33m)\u001b[0m\u001b[1;33m\u001b[0m\u001b[1;33m\u001b[0m\u001b[0m\n\u001b[0m",
      "\u001b[1;31mKeyError\u001b[0m: 'hobby'"
     ]
    }
   ],
   "source": [
    "for member in members:\n",
    "    print('이름 ' + member['name'] + ' 취미 ' + member['hobby'])"
   ]
  },
  {
   "cell_type": "code",
   "execution_count": 42,
   "metadata": {
    "ExecuteTime": {
     "end_time": "2022-01-19T11:36:05.021496Z",
     "start_time": "2022-01-19T11:36:05.013517Z"
    }
   },
   "outputs": [
    {
     "name": "stdout",
     "output_type": "stream",
     "text": [
      "이름 홍길동 취미 dance\n",
      "이름 임꺽정 취미 취미가 없습니다.\n"
     ]
    }
   ],
   "source": [
    "for member in members:\n",
    "    print('이름 ' + member.get('name') + ' 취미 ' + member.get('hobby', '취미가 없습니다.'))"
   ]
  },
  {
   "cell_type": "markdown",
   "metadata": {},
   "source": [
    "### Tuple\n",
    "1. List, Dict, Set => 한번 정의해두고, 그리고 나서 데이터를 수정이 가능\n",
    "2. Tuple은 한번 정의해두면 끝, 수정 불가"
   ]
  },
  {
   "cell_type": "code",
   "execution_count": 40,
   "metadata": {
    "collapsed": true
   },
   "outputs": [],
   "source": [
    "height, width = (30, 40) # 거의 이용도"
   ]
  },
  {
   "cell_type": "markdown",
   "metadata": {},
   "source": [
    "### Boolean"
   ]
  },
  {
   "cell_type": "code",
   "execution_count": 43,
   "metadata": {
    "ExecuteTime": {
     "end_time": "2022-01-19T11:37:02.132582Z",
     "start_time": "2022-01-19T11:37:02.126634Z"
    }
   },
   "outputs": [
    {
     "name": "stdout",
     "output_type": "stream",
     "text": [
      "True\n",
      "True\n"
     ]
    }
   ],
   "source": [
    "print(True)\n",
    "print(10 > 5)"
   ]
  },
  {
   "cell_type": "code",
   "execution_count": 47,
   "metadata": {
    "ExecuteTime": {
     "end_time": "2022-01-19T11:37:56.245656Z",
     "start_time": "2022-01-19T11:37:56.240672Z"
    }
   },
   "outputs": [
    {
     "name": "stdout",
     "output_type": "stream",
     "text": [
      "True\n"
     ]
    }
   ],
   "source": [
    "if 2:\n",
    "    print('True')\n",
    "else:\n",
    "    print('False')"
   ]
  },
  {
   "cell_type": "code",
   "execution_count": 48,
   "metadata": {
    "ExecuteTime": {
     "end_time": "2022-01-19T11:38:12.441356Z",
     "start_time": "2022-01-19T11:38:12.435368Z"
    }
   },
   "outputs": [
    {
     "name": "stdout",
     "output_type": "stream",
     "text": [
      "False\n",
      "False\n"
     ]
    }
   ],
   "source": [
    "print(False)\n",
    "print(10 < 5)"
   ]
  },
  {
   "cell_type": "markdown",
   "metadata": {},
   "source": [
    "## Conditional Statement "
   ]
  },
  {
   "cell_type": "code",
   "execution_count": 50,
   "metadata": {
    "ExecuteTime": {
     "end_time": "2022-01-19T11:38:47.651593Z",
     "start_time": "2022-01-19T11:38:47.646214Z"
    }
   },
   "outputs": [],
   "source": [
    "if 10 < 5:\n",
    "    print('10이 5보다 크다.')"
   ]
  },
  {
   "cell_type": "code",
   "execution_count": 55,
   "metadata": {
    "ExecuteTime": {
     "end_time": "2022-01-19T11:40:03.503142Z",
     "start_time": "2022-01-19T11:40:03.495166Z"
    }
   },
   "outputs": [
    {
     "name": "stdout",
     "output_type": "stream",
     "text": [
      "음수\n"
     ]
    }
   ],
   "source": [
    "# 양수, 음수, 0을 구분하는 코드\n",
    "my_num = -1\n",
    "if my_num > 0:\n",
    "    print('양수')\n",
    "else:\n",
    "    print('음수')"
   ]
  },
  {
   "cell_type": "code",
   "execution_count": 44,
   "metadata": {},
   "outputs": [
    {
     "name": "stdout",
     "output_type": "stream",
     "text": [
      "양수\n"
     ]
    }
   ],
   "source": [
    "# 양수, 음수, 0을 구분하는 코드\n",
    "my_num = 23\n",
    "if my_num > 0:\n",
    "    print('양수')\n",
    "elif my_num == 0:\n",
    "    print(0)\n",
    "else:\n",
    "    print('음수')"
   ]
  },
  {
   "cell_type": "code",
   "execution_count": 45,
   "metadata": {},
   "outputs": [
    {
     "name": "stdout",
     "output_type": "stream",
     "text": [
      "음수\n"
     ]
    }
   ],
   "source": [
    "my_num = -5\n",
    "if my_num > 0:\n",
    "    print('양수')\n",
    "else:\n",
    "    if my_num < 0:\n",
    "        print('음수')\n",
    "    else:\n",
    "        print('0')"
   ]
  },
  {
   "cell_type": "code",
   "execution_count": 46,
   "metadata": {},
   "outputs": [
    {
     "name": "stdout",
     "output_type": "stream",
     "text": [
      "참이다\n",
      "거짓이다\n"
     ]
    }
   ],
   "source": [
    "# [참일 때의 값] if [조건문] else [거짓일 때의 값]\n",
    "print('참이다' if 10 > 5 else '거짓이다')\n",
    "print('참이다' if 10 < 5 else '거짓이다')"
   ]
  },
  {
   "cell_type": "code",
   "execution_count": 47,
   "metadata": {},
   "outputs": [
    {
     "data": {
      "text/plain": [
       "'음수'"
      ]
     },
     "execution_count": 47,
     "metadata": {},
     "output_type": "execute_result"
    }
   ],
   "source": [
    "# 양수, 음수, 0을 구분하는 코드 1줄\n",
    "'양수' if my_num > 0 else ('음수' if my_num < 0 else '0')"
   ]
  },
  {
   "cell_type": "markdown",
   "metadata": {},
   "source": [
    "## Loop"
   ]
  },
  {
   "cell_type": "code",
   "execution_count": 56,
   "metadata": {
    "ExecuteTime": {
     "end_time": "2022-01-19T11:44:45.284103Z",
     "start_time": "2022-01-19T11:44:45.274128Z"
    }
   },
   "outputs": [
    {
     "name": "stdout",
     "output_type": "stream",
     "text": [
      "0 안녕하세요\n",
      "000\n",
      "1 안녕하세요\n",
      "000\n",
      "2 안녕하세요\n",
      "000\n",
      "3 안녕하세요\n",
      "000\n",
      "4 안녕하세요\n",
      "000\n",
      "5 안녕하세요\n",
      "000\n",
      "6 안녕하세요\n",
      "000\n",
      "7 안녕하세요\n",
      "000\n",
      "8 안녕하세요\n",
      "000\n",
      "9 안녕하세요\n",
      "000\n"
     ]
    }
   ],
   "source": [
    "for i in range(10): #0부터 (n-1) -> 0,1,2,3,4,5,6,7,8,9\n",
    "    print(i, '안녕하세요')\n",
    "    print('000')"
   ]
  },
  {
   "cell_type": "code",
   "execution_count": 56,
   "metadata": {
    "ExecuteTime": {
     "end_time": "2022-01-19T11:44:45.284103Z",
     "start_time": "2022-01-19T11:44:45.274128Z"
    }
   },
   "outputs": [
    {
     "name": "stdout",
     "output_type": "stream",
     "text": [
      "0 안녕하세요\n",
      "000\n",
      "1 안녕하세요\n",
      "000\n",
      "2 안녕하세요\n",
      "000\n",
      "3 안녕하세요\n",
      "000\n",
      "4 안녕하세요\n",
      "000\n",
      "5 안녕하세요\n",
      "000\n",
      "6 안녕하세요\n",
      "000\n",
      "7 안녕하세요\n",
      "000\n",
      "8 안녕하세요\n",
      "000\n",
      "9 안녕하세요\n",
      "000\n"
     ]
    }
   ],
   "source": [
    "for i in range(10): #0부터 (n-1) -> 0,1,2,3,4,5,6,7,8,9\n",
    "    print(i, '안녕하세요')\n",
    "    print('000')"
   ]
  },
  {
   "cell_type": "markdown",
   "metadata": {},
   "source": [
    "### Loop for list "
   ]
  },
  {
   "cell_type": "code",
   "execution_count": 36,
   "metadata": {},
   "outputs": [
    {
     "name": "stdout",
     "output_type": "stream",
     "text": [
      "개\n",
      "고양이\n",
      "사자\n"
     ]
    }
   ],
   "source": [
    "animals = ['개', '고양이', '사자']\n",
    "for animal in animals:\n",
    "    print(animal)"
   ]
  },
  {
   "cell_type": "code",
   "execution_count": 57,
   "metadata": {
    "ExecuteTime": {
     "end_time": "2022-01-19T11:46:03.646266Z",
     "start_time": "2022-01-19T11:46:03.640313Z"
    }
   },
   "outputs": [
    {
     "name": "stdout",
     "output_type": "stream",
     "text": [
      "개\n",
      "고양이\n",
      "사자\n"
     ]
    }
   ],
   "source": [
    "animals = ['개', '고양이', '사자']\n",
    "for i in range(3):\n",
    "    print(animals[i])"
   ]
  },
  {
   "cell_type": "code",
   "execution_count": 37,
   "metadata": {},
   "outputs": [
    {
     "name": "stdout",
     "output_type": "stream",
     "text": [
      "0 개\n",
      "1 고양이\n",
      "2 사자\n"
     ]
    }
   ],
   "source": [
    "for i, animal in enumerate(animals):\n",
    "    print(i, animal)"
   ]
  },
  {
   "cell_type": "markdown",
   "metadata": {},
   "source": [
    "### Loop for dictionary "
   ]
  },
  {
   "cell_type": "code",
   "execution_count": 38,
   "metadata": {},
   "outputs": [
    {
     "name": "stdout",
     "output_type": "stream",
     "text": [
      "{'name': '임꺽정'}\n"
     ]
    }
   ],
   "source": [
    "print(member)"
   ]
  },
  {
   "cell_type": "code",
   "execution_count": 39,
   "metadata": {},
   "outputs": [
    {
     "name": "stdout",
     "output_type": "stream",
     "text": [
      "name => 홍길동\n"
     ]
    }
   ],
   "source": [
    "for key in member:\n",
    "    print(key + ' => ' + str(student[key]))"
   ]
  },
  {
   "cell_type": "code",
   "execution_count": 40,
   "metadata": {},
   "outputs": [
    {
     "name": "stdout",
     "output_type": "stream",
     "text": [
      "('name', '임꺽정')\n"
     ]
    }
   ],
   "source": [
    "for something in member.items():\n",
    "    print(something)"
   ]
  },
  {
   "cell_type": "code",
   "execution_count": 41,
   "metadata": {},
   "outputs": [
    {
     "name": "stdout",
     "output_type": "stream",
     "text": [
      "name =>  임꺽정\n"
     ]
    }
   ],
   "source": [
    "for key, value in member.items():\n",
    "    print(key + ' => ', str(value))"
   ]
  },
  {
   "cell_type": "code",
   "execution_count": 42,
   "metadata": {},
   "outputs": [
    {
     "name": "stdout",
     "output_type": "stream",
     "text": [
      "name\n"
     ]
    }
   ],
   "source": [
    "for key in member:\n",
    "    print(key)"
   ]
  },
  {
   "cell_type": "markdown",
   "metadata": {},
   "source": [
    "## Function"
   ]
  },
  {
   "cell_type": "code",
   "execution_count": 43,
   "metadata": {},
   "outputs": [
    {
     "name": "stdout",
     "output_type": "stream",
     "text": [
      "안녕하세요\n"
     ]
    }
   ],
   "source": [
    "def greeting():\n",
    "    print('안녕하세요')\n",
    "    \n",
    "greeting()"
   ]
  },
  {
   "cell_type": "code",
   "execution_count": 59,
   "metadata": {
    "ExecuteTime": {
     "end_time": "2022-01-19T11:50:25.408862Z",
     "start_time": "2022-01-19T11:50:25.401881Z"
    }
   },
   "outputs": [],
   "source": [
    "def greeting(name):\n",
    "    '''\n",
    "    fdsfsd\n",
    "    fsfsfsf\n",
    "    name이라는 String을 받아서, ___님 안녕하세요. 라고 출력하는 함수\n",
    "    '''\n",
    "    print(str(name) + '님, 안녕하세요.')"
   ]
  },
  {
   "cell_type": "code",
   "execution_count": 62,
   "metadata": {
    "ExecuteTime": {
     "end_time": "2022-01-19T11:51:28.482388Z",
     "start_time": "2022-01-19T11:51:28.475413Z"
    }
   },
   "outputs": [
    {
     "data": {
      "text/plain": [
       "'iuerhiht\\nfwwegew\\ngewgew'"
      ]
     },
     "execution_count": 62,
     "metadata": {},
     "output_type": "execute_result"
    }
   ],
   "source": [
    "# greeting('홍길동')\n",
    "# print('dss')"
   ]
  },
  {
   "cell_type": "code",
   "execution_count": 64,
   "metadata": {
    "ExecuteTime": {
     "end_time": "2022-01-19T11:52:06.293505Z",
     "start_time": "2022-01-19T11:52:06.287484Z"
    }
   },
   "outputs": [
    {
     "name": "stdout",
     "output_type": "stream",
     "text": [
      "Help on function greeting in module __main__:\n",
      "\n",
      "greeting(name)\n",
      "    name이라는 String을 받아서, ___님 안녕하세요. 라고 출력하는 함수\n",
      "\n"
     ]
    }
   ],
   "source": [
    "help(greeting)"
   ]
  },
  {
   "cell_type": "code",
   "execution_count": 65,
   "metadata": {
    "ExecuteTime": {
     "end_time": "2022-01-19T11:53:24.880326Z",
     "start_time": "2022-01-19T11:53:24.874342Z"
    }
   },
   "outputs": [],
   "source": [
    "# checkNumber (CamelCase) ... 클래스명\n",
    "# check_number (underscore)... 변수명, 함수명\n",
    "# 숫자를 받아서, => 양수, 음수, 0을 구분해주는 함수( input => 'my_num')\n",
    "def check_number(my_num):\n",
    "    '''\n",
    "    숫자를 받아서, => 양수, 음수, 0을 구분해주는 함수( input => 'my_num')\n",
    "    '''\n",
    "    \n",
    "    return '양수' if my_num > 0 else ('음수' if my_num < 0 else '0')"
   ]
  },
  {
   "cell_type": "code",
   "execution_count": 70,
   "metadata": {
    "ExecuteTime": {
     "end_time": "2022-01-19T11:53:48.557740Z",
     "start_time": "2022-01-19T11:53:48.553148Z"
    }
   },
   "outputs": [],
   "source": [
    "result = check_number(0)"
   ]
  },
  {
   "cell_type": "code",
   "execution_count": 72,
   "metadata": {
    "ExecuteTime": {
     "end_time": "2022-01-19T11:55:56.379339Z",
     "start_time": "2022-01-19T11:55:56.373352Z"
    }
   },
   "outputs": [
    {
     "name": "stdout",
     "output_type": "stream",
     "text": [
      "0\n"
     ]
    }
   ],
   "source": [
    "print(result)"
   ]
  },
  {
   "cell_type": "code",
   "execution_count": 73,
   "metadata": {
    "ExecuteTime": {
     "end_time": "2022-01-19T11:56:29.581404Z",
     "start_time": "2022-01-19T11:56:29.574384Z"
    }
   },
   "outputs": [
    {
     "data": {
      "text/plain": [
       "str"
      ]
     },
     "execution_count": 73,
     "metadata": {},
     "output_type": "execute_result"
    }
   ],
   "source": [
    "type(result)"
   ]
  },
  {
   "cell_type": "markdown",
   "metadata": {},
   "source": [
    "## String과 관련된 함수들\n",
    "split, join, replace, startswith, endswith, ..."
   ]
  },
  {
   "cell_type": "markdown",
   "metadata": {},
   "source": [
    "### split & join "
   ]
  },
  {
   "cell_type": "code",
   "execution_count": 50,
   "metadata": {},
   "outputs": [
    {
     "data": {
      "text/plain": [
       "['dance', '900101', 'hds@gmail.com', '데이터분석가', '홍길동']"
      ]
     },
     "execution_count": 50,
     "metadata": {},
     "output_type": "execute_result"
    }
   ],
   "source": [
    "data = 'dance,900101,hds@gmail.com,데이터분석가,홍길동'\n",
    "data.split(',')"
   ]
  },
  {
   "cell_type": "code",
   "execution_count": 51,
   "metadata": {},
   "outputs": [
    {
     "data": {
      "text/plain": [
       "'홍길동,hds@gmail.com,dance'"
      ]
     },
     "execution_count": 51,
     "metadata": {},
     "output_type": "execute_result"
    }
   ],
   "source": [
    "my_infos = ['홍길동', 'hds@gmail.com', 'dance']\n",
    "','.join(my_infos)"
   ]
  },
  {
   "cell_type": "markdown",
   "metadata": {},
   "source": [
    "### replace"
   ]
  },
  {
   "cell_type": "code",
   "execution_count": 52,
   "metadata": {},
   "outputs": [
    {
     "data": {
      "text/plain": [
       "'dance/900101/hds@gmail.com/데이터분석가/홍길동'"
      ]
     },
     "execution_count": 52,
     "metadata": {},
     "output_type": "execute_result"
    }
   ],
   "source": [
    "data.replace(',', '/')"
   ]
  },
  {
   "cell_type": "code",
   "execution_count": 53,
   "metadata": {},
   "outputs": [
    {
     "data": {
      "text/plain": [
       "True"
      ]
     },
     "execution_count": 53,
     "metadata": {},
     "output_type": "execute_result"
    }
   ],
   "source": [
    "'홍길동' in data"
   ]
  },
  {
   "cell_type": "markdown",
   "metadata": {},
   "source": [
    "### startswith & endswith"
   ]
  },
  {
   "cell_type": "code",
   "execution_count": 54,
   "metadata": {},
   "outputs": [
    {
     "data": {
      "text/plain": [
       "'dance,900101,hds@gmail.com,데이터분석가,홍길동'"
      ]
     },
     "execution_count": 54,
     "metadata": {},
     "output_type": "execute_result"
    }
   ],
   "source": [
    "data"
   ]
  },
  {
   "cell_type": "code",
   "execution_count": 55,
   "metadata": {},
   "outputs": [
    {
     "data": {
      "text/plain": [
       "True"
      ]
     },
     "execution_count": 55,
     "metadata": {},
     "output_type": "execute_result"
    }
   ],
   "source": [
    "data.startswith('dance')"
   ]
  },
  {
   "cell_type": "code",
   "execution_count": 56,
   "metadata": {},
   "outputs": [
    {
     "data": {
      "text/plain": [
       "False"
      ]
     },
     "execution_count": 56,
     "metadata": {},
     "output_type": "execute_result"
    }
   ],
   "source": [
    "data.startswith('123')"
   ]
  },
  {
   "cell_type": "code",
   "execution_count": 57,
   "metadata": {},
   "outputs": [
    {
     "data": {
      "text/plain": [
       "True"
      ]
     },
     "execution_count": 57,
     "metadata": {},
     "output_type": "execute_result"
    }
   ],
   "source": [
    "data.endswith('홍길동')"
   ]
  },
  {
   "cell_type": "markdown",
   "metadata": {},
   "source": [
    "## File I/O"
   ]
  },
  {
   "cell_type": "code",
   "execution_count": 74,
   "metadata": {
    "ExecuteTime": {
     "end_time": "2022-01-19T12:02:13.051043Z",
     "start_time": "2022-01-19T12:02:13.045057Z"
    }
   },
   "outputs": [
    {
     "name": "stdout",
     "output_type": "stream",
     "text": [
      "E:\\workspace\\python\\tf\\강의자료\\수업용\\수업준비_전남대병원\n",
      "['.ipynb_checkpoints', 'animals.csv', 'animals2.csv', 'Basic', 'fruits.csv', 'python 기초_속성.ipynb', 'Python_기초1.ipynb', 'Python_기초2.ipynb', 'Python_기초3.ipynb', 'src', '_Python_기초1.ipynb', '~$파이썬개발환경.pptx', '속성과정용_파이썬 기본 문법과 pandas.ipynb', '자습roadmap.pdf', '자습roadmap.pptx', '자습용_Python_기초1.ipynb', '커리큘럼_초안.pptx', '파이썬 기초반 스터디.pptx', '파이썬개발환경.pdf', '파이썬개발환경.pptx', '파이썬기초.pptx']\n"
     ]
    }
   ],
   "source": [
    "import os, sys\n",
    "print(os.getcwd())\n",
    "print(os.listdir())"
   ]
  },
  {
   "cell_type": "code",
   "execution_count": 79,
   "metadata": {
    "ExecuteTime": {
     "end_time": "2022-01-19T12:03:34.475238Z",
     "start_time": "2022-01-19T12:03:34.440345Z"
    }
   },
   "outputs": [
    {
     "name": "stderr",
     "output_type": "stream",
     "text": [
      "'ls'은(는) 내부 또는 외부 명령, 실행할 수 있는 프로그램, 또는\n",
      "배치 파일이 아닙니다.\n"
     ]
    }
   ],
   "source": [
    "!ls"
   ]
  },
  {
   "cell_type": "code",
   "execution_count": 80,
   "metadata": {
    "ExecuteTime": {
     "end_time": "2022-01-19T12:04:03.463722Z",
     "start_time": "2022-01-19T12:04:03.456739Z"
    }
   },
   "outputs": [],
   "source": [
    "fp = open('test.txt', 'w') # w : 쓰기모드\n",
    "fp.write('hello python!')\n",
    "fp.close()"
   ]
  },
  {
   "cell_type": "code",
   "execution_count": null,
   "metadata": {},
   "outputs": [],
   "source": []
  },
  {
   "cell_type": "code",
   "execution_count": 81,
   "metadata": {
    "ExecuteTime": {
     "end_time": "2022-01-19T12:04:05.711712Z",
     "start_time": "2022-01-19T12:04:05.704728Z"
    }
   },
   "outputs": [
    {
     "data": {
      "text/plain": [
       "['.ipynb_checkpoints',\n",
       " 'animals.csv',\n",
       " 'animals2.csv',\n",
       " 'Basic',\n",
       " 'fruits.csv',\n",
       " 'python 기초_속성.ipynb',\n",
       " 'Python_기초1.ipynb',\n",
       " 'Python_기초2.ipynb',\n",
       " 'Python_기초3.ipynb',\n",
       " 'src',\n",
       " 'test.txt',\n",
       " '_Python_기초1.ipynb',\n",
       " '~$파이썬개발환경.pptx',\n",
       " '속성과정용_파이썬 기본 문법과 pandas.ipynb',\n",
       " '자습roadmap.pdf',\n",
       " '자습roadmap.pptx',\n",
       " '자습용_Python_기초1.ipynb',\n",
       " '커리큘럼_초안.pptx',\n",
       " '파이썬 기초반 스터디.pptx',\n",
       " '파이썬개발환경.pdf',\n",
       " '파이썬개발환경.pptx',\n",
       " '파이썬기초.pptx']"
      ]
     },
     "execution_count": 81,
     "metadata": {},
     "output_type": "execute_result"
    }
   ],
   "source": [
    "os.listdir()"
   ]
  },
  {
   "cell_type": "code",
   "execution_count": 82,
   "metadata": {
    "ExecuteTime": {
     "end_time": "2022-01-19T12:05:01.806540Z",
     "start_time": "2022-01-19T12:05:01.800554Z"
    }
   },
   "outputs": [],
   "source": [
    "fp = open('test.txt', 'r') # r : 읽기모드\n",
    "data = fp.read()"
   ]
  },
  {
   "cell_type": "code",
   "execution_count": 83,
   "metadata": {
    "ExecuteTime": {
     "end_time": "2022-01-19T12:05:02.356104Z",
     "start_time": "2022-01-19T12:05:02.351118Z"
    }
   },
   "outputs": [
    {
     "data": {
      "text/plain": [
       "'hello python!'"
      ]
     },
     "execution_count": 83,
     "metadata": {},
     "output_type": "execute_result"
    }
   ],
   "source": [
    "data"
   ]
  },
  {
   "cell_type": "code",
   "execution_count": null,
   "metadata": {},
   "outputs": [],
   "source": []
  }
 ],
 "metadata": {
  "kernelspec": {
   "display_name": "Python 3",
   "language": "python",
   "name": "python3"
  },
  "language_info": {
   "codemirror_mode": {
    "name": "ipython",
    "version": 3
   },
   "file_extension": ".py",
   "mimetype": "text/x-python",
   "name": "python",
   "nbconvert_exporter": "python",
   "pygments_lexer": "ipython3",
   "version": "3.7.6"
  },
  "toc": {
   "base_numbering": 1,
   "nav_menu": {},
   "number_sections": true,
   "sideBar": true,
   "skip_h1_title": false,
   "title_cell": "Table of Contents",
   "title_sidebar": "Contents",
   "toc_cell": false,
   "toc_position": {
    "height": "calc(100% - 180px)",
    "left": "10px",
    "top": "150px",
    "width": "243px"
   },
   "toc_section_display": true,
   "toc_window_display": false
  }
 },
 "nbformat": 4,
 "nbformat_minor": 2
}
